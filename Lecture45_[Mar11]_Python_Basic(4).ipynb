{
  "nbformat": 4,
  "nbformat_minor": 0,
  "metadata": {
    "colab": {
      "name": "Lecture45_[Mar11]_Python_Basic(4).ipynb",
      "provenance": [],
      "collapsed_sections": [],
      "toc_visible": true,
      "mount_file_id": "12ZzUh_A898Q14qN9Vs1m0k6oOxDgK_Lh",
      "authorship_tag": "ABX9TyM4ITTJClqN+OEqfWoQpHY8",
      "include_colab_link": true
    },
    "kernelspec": {
      "name": "python3",
      "display_name": "Python 3"
    }
  },
  "cells": [
    {
      "cell_type": "markdown",
      "metadata": {
        "id": "view-in-github",
        "colab_type": "text"
      },
      "source": [
        "<a href=\"https://colab.research.google.com/github/ezerwi/python-lecture/blob/master/Lecture45_%5BMar11%5D_Python_Basic(4).ipynb\" target=\"_parent\"><img src=\"https://colab.research.google.com/assets/colab-badge.svg\" alt=\"Open In Colab\"/></a>"
      ]
    },
    {
      "cell_type": "markdown",
      "metadata": {
        "id": "xg_USHA-5cAh",
        "colab_type": "text"
      },
      "source": [
        "### Lecture44 Mar/10/2020\n",
        "\n",
        "Class Inheritance, Method Overloading & Overriding 활용\n",
        "\n",
        "이몽룡 - 성춘향 러브스토리 만들기\n",
        "\n",
        "~~~\n",
        "이몽룡은 부산 클럽에 놀러가고 성춘향도 우연히 3일 동안 부산 클럽에 놀러간다. 둘은 썸을 타지만 일정 때문에 각자 서울로 돌아간다. 1년 뒤 강남 클럽에서 둘은 우연히 재회를 한다. 그러다가 연인이된다\n",
        "~~~\n",
        "\n"
      ]
    },
    {
      "cell_type": "code",
      "metadata": {
        "id": "iKB45teb6ObB",
        "colab_type": "code",
        "colab": {}
      },
      "source": [
        "class StoryLee :\n",
        "    lastname = 'Lee'\n",
        "    def __init__(self, name) :\n",
        "        self.fullname = name + \" \" + self.lastname\n",
        "    def visit(self, where) :\n",
        "        print ('%s, %s에 방문' % (self.fullname, where))\n",
        "    # def visit (self, where, day) :\n",
        "    #     print ('%s, %s에 %s일 동안 방문' % (self.fullname, where, day))\n",
        "    def back (self, where, why) :\n",
        "        print ('%s, %s 때문에 %s로 간다' % (self.fullname, why, where))\n",
        "    def ssome (self, other) :\n",
        "        print ('%s 와 %s가 썸을 탄다' % (self.fullname, other.fullname))\n",
        "    def __add__ (self, other) :\n",
        "        print ('%s와 %s가 만나다' % (self.fullname, other.fullname))\n",
        "    def __mul__ (self, other) :\n",
        "        print ('%s와 %s가 연인이 되다' % (self.fullname, other.fullname))\n",
        "\n",
        "class StorySung (StoryLee) :\n",
        "    lastname = 'Sung'\n",
        "    def __init__ (self, name) :\n",
        "        self.fullname = name + \" \" + self.lastname\n",
        "    def visit (self, where, day) :\n",
        "        print ('%s, %s에 %s일 동안 방문' % (self.fullname, where, day))"
      ],
      "execution_count": 0,
      "outputs": []
    },
    {
      "cell_type": "code",
      "metadata": {
        "id": "TunyifwLPdg6",
        "colab_type": "code",
        "colab": {
          "base_uri": "https://localhost:8080/",
          "height": 119
        },
        "outputId": "23631353-4f25-4e40-8ef1-66a9bc92073c"
      },
      "source": [
        "mong = StoryLee('몽룡')\n",
        "chun = StorySung('춘향')\n",
        "\n",
        "mong.visit('부산')\n",
        "chun.visit('부산', 3)\n",
        "mong.back('Seoul', 'schedule')\n",
        "mong.ssome(chun)\n",
        "mong + chun\n",
        "mong*chun"
      ],
      "execution_count": 23,
      "outputs": [
        {
          "output_type": "stream",
          "text": [
            "몽룡 Lee, 부산에 방문\n",
            "춘향 Sung, 부산에 3일 동안 방문\n",
            "몽룡 Lee, schedule 때문에 Seoul로 간다\n",
            "몽룡 Lee 와 춘향 Sung가 썸을 탄다\n",
            "몽룡 Lee와 춘향 Sung가 만나다\n",
            "몽룡 Lee와 춘향 Sung가 연인이 되다\n"
          ],
          "name": "stdout"
        }
      ]
    },
    {
      "cell_type": "markdown",
      "metadata": {
        "id": "HAKo2Q8cPqpF",
        "colab_type": "text"
      },
      "source": [
        "# Module\n",
        "\n",
        "module 이란 함수/변수/클래스를 모아 놓은 파일\n",
        "\n",
        "작업 디렉토리에 있어야 함\n",
        "\n",
        "\n",
        "Syntax\n",
        "~~~\n",
        "import {ModuleName}\n",
        "from {ModuleName} import {MethodName} \n",
        "\n",
        "# ex ) import mod\n",
        "~~~\n"
      ]
    },
    {
      "cell_type": "code",
      "metadata": {
        "id": "7MGsrnSEXQhQ",
        "colab_type": "code",
        "colab": {
          "base_uri": "https://localhost:8080/",
          "height": 34
        },
        "outputId": "d40fdf1d-595e-4d74-e72f-29dc1879281c"
      },
      "source": [
        "import mod1\n",
        "print (mod1.safe_sum(3,4))"
      ],
      "execution_count": 30,
      "outputs": [
        {
          "output_type": "stream",
          "text": [
            "7\n"
          ],
          "name": "stdout"
        }
      ]
    },
    {
      "cell_type": "code",
      "metadata": {
        "id": "bSj6kUGpXuug",
        "colab_type": "code",
        "colab": {
          "base_uri": "https://localhost:8080/",
          "height": 34
        },
        "outputId": "f2b177d2-69c4-4d79-e32e-ef32f06bb32e"
      },
      "source": [
        "from mod1 import sum, safe_sum \n",
        "print(safe_sum(5, 8))"
      ],
      "execution_count": 33,
      "outputs": [
        {
          "output_type": "stream",
          "text": [
            "13\n"
          ],
          "name": "stdout"
        }
      ]
    },
    {
      "cell_type": "markdown",
      "metadata": {
        "id": "Qz5UeA74ZTIQ",
        "colab_type": "text"
      },
      "source": [
        "if __name__ == \"__main__\"을 사용하면 c:\\doit>python mod1.py 처럼 직접 이 파일을 실행했을 때 __name__ == \"__main__\"이 참이 되어 if 문 다음 문장 수행\n",
        "\n",
        "반대로 대화형 인터프리터나 다른 파일에서 이 모듈을 불러서 사용할 때는 __name__=\"__main__\"이 거짓이 되어 if 문 다음 문장이 수행되지 않음"
      ]
    },
    {
      "cell_type": "code",
      "metadata": {
        "id": "Rm600dV-Zxrq",
        "colab_type": "code",
        "colab": {
          "base_uri": "https://localhost:8080/",
          "height": 34
        },
        "outputId": "27f6f6d3-fbde-41dc-c0a1-fad5cd7435bc"
      },
      "source": [
        "def add(a,b) :\n",
        "    return a+b\n",
        "def sub (a, b) :\n",
        "    return a-b\n",
        "if __name__ == \"__main__\" :\n",
        "    print (add(4, 6))"
      ],
      "execution_count": 35,
      "outputs": [
        {
          "output_type": "stream",
          "text": [
            "10\n"
          ],
          "name": "stdout"
        }
      ]
    },
    {
      "cell_type": "markdown",
      "metadata": {
        "id": "BLLHhFKpaVlV",
        "colab_type": "text"
      },
      "source": [
        "'__name__ == __name__'을 사용하면 python mod1.py처럼 직접 이 파일 실행시킬 때 참이 되어 if 문 다음 문장이 수행됨\n",
        "\n",
        "반대로 모듈 불러서 사용시 거짓이 되어 if 문 다음 문장이 수행되지 않음"
      ]
    },
    {
      "cell_type": "markdown",
      "metadata": {
        "id": "IAp7ICUfaq4v",
        "colab_type": "text"
      },
      "source": [
        "mod2.py는 클래스, 변수 등 포함한 모듈\n",
        "\n"
      ]
    },
    {
      "cell_type": "code",
      "metadata": {
        "id": "jTNU-SxUa11C",
        "colab_type": "code",
        "colab": {}
      },
      "source": [
        "#mod2.py 내용\n",
        "PI = 3.141592\n",
        "class Math:\n",
        "    def solv(self, r):\n",
        "        return PI * (r ** 2)  \n",
        "    def sum(self, a, b):\n",
        "        return a+b\n",
        "\n",
        "if __name__==\"__main__\":\n",
        "    print(PI)\n",
        "    a = Math()\n",
        "    print(a.solv(2))\n",
        "    print(a.sum(PI, 4.5))"
      ],
      "execution_count": 0,
      "outputs": []
    },
    {
      "cell_type": "code",
      "metadata": {
        "id": "DT9FojN7bsGV",
        "colab_type": "code",
        "colab": {
          "base_uri": "https://localhost:8080/",
          "height": 68
        },
        "outputId": "97c743e4-7597-4a2e-c2b6-a23b0013945b"
      },
      "source": [
        "import mod2\n",
        "print(mod2.PI)\n",
        "a = mod2.Math()\n",
        "print(a.solv(2))\n",
        "print(a.sum(mod2.PI, 4.5))"
      ],
      "execution_count": 38,
      "outputs": [
        {
          "output_type": "stream",
          "text": [
            "3.141592\n",
            "12.566368\n",
            "7.641592\n"
          ],
          "name": "stdout"
        }
      ]
    },
    {
      "cell_type": "code",
      "metadata": {
        "id": "wjCttQMdb3Kv",
        "colab_type": "code",
        "colab": {
          "base_uri": "https://localhost:8080/",
          "height": 34
        },
        "outputId": "9b4ead82-ae02-4870-c9e7-5f2c3abb79c8"
      },
      "source": [
        "import mod2\n",
        "a = mod2.Math()\n",
        "print( a.sum(3,4))"
      ],
      "execution_count": 39,
      "outputs": [
        {
          "output_type": "stream",
          "text": [
            "7\n"
          ],
          "name": "stdout"
        }
      ]
    },
    {
      "cell_type": "markdown",
      "metadata": {
        "id": "yUXu3iICcS6U",
        "colab_type": "text"
      },
      "source": [
        "# 예외 처리\n",
        "\n",
        "try except - else - finally - pass"
      ]
    },
    {
      "cell_type": "code",
      "metadata": {
        "id": "ygESW_bMcmj-",
        "colab_type": "code",
        "colab": {
          "base_uri": "https://localhost:8080/",
          "height": 34
        },
        "outputId": "8004ecb1-7871-4c1f-eea7-aac6da033188"
      },
      "source": [
        "try : f = open('nofile', 'r')\n",
        "except FileNotFoundError as e : print(str(e))\n",
        "else : \n",
        "    data = f.read()\n",
        "    f.close()"
      ],
      "execution_count": 43,
      "outputs": [
        {
          "output_type": "stream",
          "text": [
            "[Errno 2] No such file or directory: 'nofile'\n"
          ],
          "name": "stdout"
        }
      ]
    },
    {
      "cell_type": "code",
      "metadata": {
        "id": "hkgFpodhc0PQ",
        "colab_type": "code",
        "colab": {
          "base_uri": "https://localhost:8080/",
          "height": 34
        },
        "outputId": "1a75d2fb-c170-43ba-8829-7ab7d5208a16"
      },
      "source": [
        "f = open('nofile', 'w')\n",
        "try : print('nofile')\n",
        "finally : f.close()"
      ],
      "execution_count": 44,
      "outputs": [
        {
          "output_type": "stream",
          "text": [
            "nofile\n"
          ],
          "name": "stdout"
        }
      ]
    },
    {
      "cell_type": "code",
      "metadata": {
        "id": "OcCI0FZGdXSw",
        "colab_type": "code",
        "colab": {}
      },
      "source": [
        "try : f = open('nfile', 'r')\n",
        "except FileNotFoundError : pass\n",
        "finally : f.close()"
      ],
      "execution_count": 0,
      "outputs": []
    },
    {
      "cell_type": "code",
      "metadata": {
        "id": "_EB1-TVTdlNJ",
        "colab_type": "code",
        "colab": {
          "base_uri": "https://localhost:8080/",
          "height": 34
        },
        "outputId": "7d487d4d-e1e3-4a55-fe82-8a9fdc8853a3"
      },
      "source": [
        "try : 4/0\n",
        "except ZeroDivisionError as e : print(str(e))"
      ],
      "execution_count": 47,
      "outputs": [
        {
          "output_type": "stream",
          "text": [
            "division by zero\n"
          ],
          "name": "stdout"
        }
      ]
    },
    {
      "cell_type": "code",
      "metadata": {
        "id": "eZvz1mV0dx6f",
        "colab_type": "code",
        "colab": {
          "base_uri": "https://localhost:8080/",
          "height": 34
        },
        "outputId": "504494e7-a406-4669-999e-0d9ef2c4ff25"
      },
      "source": [
        "a = [1,2,3]\n",
        "try : a[4] \n",
        "except IndexError as e : print(e)"
      ],
      "execution_count": 51,
      "outputs": [
        {
          "output_type": "stream",
          "text": [
            "list index out of range\n"
          ],
          "name": "stdout"
        }
      ]
    },
    {
      "cell_type": "code",
      "metadata": {
        "id": "OO3WBZPmeMsD",
        "colab_type": "code",
        "colab": {
          "base_uri": "https://localhost:8080/",
          "height": 317
        },
        "outputId": "d65c5396-be37-4469-9d94-1f14c5e082ed"
      },
      "source": [
        "class Bird:\n",
        "    # 상속받은 class에서 method를 구현하지 않으면 강제로 에러 발생\n",
        "    def fly(self) : raise NotImplementedError\n",
        "\n",
        "class Eagle(Bird) :\n",
        "    pass\n",
        "eagle = Eagle()\n",
        "eagle.fly()"
      ],
      "execution_count": 53,
      "outputs": [
        {
          "output_type": "error",
          "ename": "NotImplementedError",
          "evalue": "ignored",
          "traceback": [
            "\u001b[0;31m---------------------------------------------------------------------------\u001b[0m",
            "\u001b[0;31mNotImplementedError\u001b[0m                       Traceback (most recent call last)",
            "\u001b[0;32m<ipython-input-53-9c80a91d27a7>\u001b[0m in \u001b[0;36m<module>\u001b[0;34m()\u001b[0m\n\u001b[1;32m      4\u001b[0m     \u001b[0;32mpass\u001b[0m\u001b[0;34m\u001b[0m\u001b[0;34m\u001b[0m\u001b[0m\n\u001b[1;32m      5\u001b[0m \u001b[0meagle\u001b[0m \u001b[0;34m=\u001b[0m \u001b[0mEagle\u001b[0m\u001b[0;34m(\u001b[0m\u001b[0;34m)\u001b[0m\u001b[0;34m\u001b[0m\u001b[0;34m\u001b[0m\u001b[0m\n\u001b[0;32m----> 6\u001b[0;31m \u001b[0meagle\u001b[0m\u001b[0;34m.\u001b[0m\u001b[0mfly\u001b[0m\u001b[0;34m(\u001b[0m\u001b[0;34m)\u001b[0m\u001b[0;34m\u001b[0m\u001b[0;34m\u001b[0m\u001b[0m\n\u001b[0m",
            "\u001b[0;32m<ipython-input-53-9c80a91d27a7>\u001b[0m in \u001b[0;36mfly\u001b[0;34m(self)\u001b[0m\n\u001b[1;32m      1\u001b[0m \u001b[0;32mclass\u001b[0m \u001b[0mBird\u001b[0m\u001b[0;34m:\u001b[0m\u001b[0;34m\u001b[0m\u001b[0;34m\u001b[0m\u001b[0m\n\u001b[0;32m----> 2\u001b[0;31m     \u001b[0;32mdef\u001b[0m \u001b[0mfly\u001b[0m\u001b[0;34m(\u001b[0m\u001b[0mself\u001b[0m\u001b[0;34m)\u001b[0m \u001b[0;34m:\u001b[0m \u001b[0;32mraise\u001b[0m \u001b[0mNotImplementedError\u001b[0m\u001b[0;34m\u001b[0m\u001b[0;34m\u001b[0m\u001b[0m\n\u001b[0m\u001b[1;32m      3\u001b[0m \u001b[0;32mclass\u001b[0m \u001b[0mEagle\u001b[0m\u001b[0;34m(\u001b[0m\u001b[0mBird\u001b[0m\u001b[0;34m)\u001b[0m \u001b[0;34m:\u001b[0m\u001b[0;34m\u001b[0m\u001b[0;34m\u001b[0m\u001b[0m\n\u001b[1;32m      4\u001b[0m     \u001b[0;32mpass\u001b[0m\u001b[0;34m\u001b[0m\u001b[0;34m\u001b[0m\u001b[0m\n\u001b[1;32m      5\u001b[0m \u001b[0meagle\u001b[0m \u001b[0;34m=\u001b[0m \u001b[0mEagle\u001b[0m\u001b[0;34m(\u001b[0m\u001b[0;34m)\u001b[0m\u001b[0;34m\u001b[0m\u001b[0;34m\u001b[0m\u001b[0m\n",
            "\u001b[0;31mNotImplementedError\u001b[0m: "
          ]
        }
      ]
    },
    {
      "cell_type": "code",
      "metadata": {
        "id": "Wr_0U6YufHkl",
        "colab_type": "code",
        "colab": {
          "base_uri": "https://localhost:8080/",
          "height": 34
        },
        "outputId": "3671a59d-2e93-4565-c8e5-84e21a1307c3"
      },
      "source": [
        "class Eagle(Bird) :\n",
        "    def fly(self) :\n",
        "        print('very fast')\n",
        "eagle = Eagle()\n",
        "eagle.fly()"
      ],
      "execution_count": 54,
      "outputs": [
        {
          "output_type": "stream",
          "text": [
            "very fast\n"
          ],
          "name": "stdout"
        }
      ]
    },
    {
      "cell_type": "code",
      "metadata": {
        "id": "QrtfGSQgflMB",
        "colab_type": "code",
        "colab": {}
      },
      "source": [
        ""
      ],
      "execution_count": 0,
      "outputs": []
    }
  ]
}