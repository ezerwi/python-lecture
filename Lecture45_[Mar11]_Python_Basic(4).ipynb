{
  "nbformat": 4,
  "nbformat_minor": 0,
  "metadata": {
    "colab": {
      "name": "Lecture45_[Mar11]_Python_Basic(4).ipynb",
      "provenance": [],
      "collapsed_sections": [],
      "toc_visible": true,
      "include_colab_link": true
    },
    "kernelspec": {
      "name": "python3",
      "display_name": "Python 3"
    }
  },
  "cells": [
    {
      "cell_type": "markdown",
      "metadata": {
        "id": "view-in-github",
        "colab_type": "text"
      },
      "source": [
        "<a href=\"https://colab.research.google.com/github/ezerwi/python-lecture/blob/master/Lecture45_%5BMar11%5D_Python_Basic(4).ipynb\" target=\"_parent\"><img src=\"https://colab.research.google.com/assets/colab-badge.svg\" alt=\"Open In Colab\"/></a>"
      ]
    },
    {
      "cell_type": "markdown",
      "metadata": {
        "colab_type": "text",
        "id": "xg_USHA-5cAh"
      },
      "source": [
        "### Lecture44 Mar/10/2020\n",
        "\n",
        "Class Inheritance, Method Overloading & Overriding 활용\n",
        "\n",
        "이몽룡 - 성춘향 러브스토리 만들기\n",
        "\n",
        "~~~\n",
        "이몽룡은 부산 클럽에 놀러가고 성춘향도 우연히 3일 동안 부산 클럽에 놀러간다. 둘은 썸을 타지만 일정 때문에 각자 서울로 돌아간다. 1년 뒤 강남 클럽에서 둘은 우연히 재회를 한다. 그러다가 연인이된다\n",
        "~~~\n",
        "\n"
      ]
    },
    {
      "cell_type": "code",
      "metadata": {
        "colab_type": "code",
        "id": "iKB45teb6ObB",
        "colab": {}
      },
      "source": [
        "class StoryLee :\n",
        "    lastname = 'Lee'\n",
        "    def __init__(self, name) :\n",
        "        self.fullname = name + \" \" + self.lastname\n",
        "    def visit(self, where) :\n",
        "        print ('%s, %s에 방문' % (self.fullname, where))\n",
        "    # def visit (self, where, day) :\n",
        "    #     print ('%s, %s에 %s일 동안 방문' % (self.fullname, where, day))\n",
        "    def back (self, where, why) :\n",
        "        print ('%s, %s 때문에 %s로 간다' % (self.fullname, why, where))\n",
        "    def ssome (self, other) :\n",
        "        print ('%s 와 %s가 썸을 탄다' % (self.fullname, other.fullname))\n",
        "    def __add__ (self, other) :\n",
        "        print ('%s와 %s가 만나다' % (self.fullname, other.fullname))\n",
        "    def __mul__ (self, other) :\n",
        "        print ('%s와 %s가 연인이 되다' % (self.fullname, other.fullname))\n",
        "\n",
        "class StorySung (StoryLee) :\n",
        "    lastname = 'Sung'\n",
        "    def __init__ (self, name) :\n",
        "        self.fullname = name + \" \" + self.lastname\n",
        "    def visit (self, where, day) :\n",
        "        print ('%s, %s에 %s일 동안 방문' % (self.fullname, where, day))"
      ],
      "execution_count": 0,
      "outputs": []
    },
    {
      "cell_type": "code",
      "metadata": {
        "colab_type": "code",
        "id": "TunyifwLPdg6",
        "outputId": "23631353-4f25-4e40-8ef1-66a9bc92073c",
        "colab": {
          "base_uri": "https://localhost:8080/",
          "height": 119
        }
      },
      "source": [
        "mong = StoryLee('몽룡')\n",
        "chun = StorySung('춘향')\n",
        "\n",
        "mong.visit('부산')\n",
        "chun.visit('부산', 3)\n",
        "mong.back('Seoul', 'schedule')\n",
        "mong.ssome(chun)\n",
        "mong + chun\n",
        "mong*chun"
      ],
      "execution_count": 0,
      "outputs": [
        {
          "output_type": "stream",
          "text": [
            "몽룡 Lee, 부산에 방문\n",
            "춘향 Sung, 부산에 3일 동안 방문\n",
            "몽룡 Lee, schedule 때문에 Seoul로 간다\n",
            "몽룡 Lee 와 춘향 Sung가 썸을 탄다\n",
            "몽룡 Lee와 춘향 Sung가 만나다\n",
            "몽룡 Lee와 춘향 Sung가 연인이 되다\n"
          ],
          "name": "stdout"
        }
      ]
    },
    {
      "cell_type": "markdown",
      "metadata": {
        "colab_type": "text",
        "id": "HAKo2Q8cPqpF"
      },
      "source": [
        "# Module\n",
        "\n",
        "module 이란 함수/변수/클래스를 모아 놓은 파일\n",
        "\n",
        "작업 디렉토리에 있어야 함\n",
        "\n",
        "\n",
        "Syntax\n",
        "~~~\n",
        "import {ModuleName}\n",
        "from {ModuleName} import {MethodName} \n",
        "\n",
        "# ex ) import mod\n",
        "~~~\n"
      ]
    },
    {
      "cell_type": "code",
      "metadata": {
        "colab_type": "code",
        "id": "7MGsrnSEXQhQ",
        "outputId": "d40fdf1d-595e-4d74-e72f-29dc1879281c",
        "colab": {
          "base_uri": "https://localhost:8080/",
          "height": 34
        }
      },
      "source": [
        "import mod1\n",
        "print (mod1.safe_sum(3,4))"
      ],
      "execution_count": 0,
      "outputs": [
        {
          "output_type": "stream",
          "text": [
            "7\n"
          ],
          "name": "stdout"
        }
      ]
    },
    {
      "cell_type": "code",
      "metadata": {
        "colab_type": "code",
        "id": "bSj6kUGpXuug",
        "outputId": "f2b177d2-69c4-4d79-e32e-ef32f06bb32e",
        "colab": {
          "base_uri": "https://localhost:8080/",
          "height": 34
        }
      },
      "source": [
        "from mod1 import sum, safe_sum \n",
        "print(safe_sum(5, 8))"
      ],
      "execution_count": 0,
      "outputs": [
        {
          "output_type": "stream",
          "text": [
            "13\n"
          ],
          "name": "stdout"
        }
      ]
    },
    {
      "cell_type": "markdown",
      "metadata": {
        "colab_type": "text",
        "id": "Qz5UeA74ZTIQ"
      },
      "source": [
        "`if __name__ == \"__main__\"`을 사용하면 c:\\doit>python mod1.py 처럼 직접 이 파일을 실행했을 때 `__name__ == \"__main__\"`이 참이 되어 if 문 다음 문장 수행\n",
        "\n",
        "반대로 대화형 인터프리터나 다른 파일에서 이 모듈을 불러서 사용할 때는 `__name__=\"__main__\"`이 거짓이 되어 if 문 다음 문장이 수행되지 않음"
      ]
    },
    {
      "cell_type": "code",
      "metadata": {
        "colab_type": "code",
        "id": "Rm600dV-Zxrq",
        "outputId": "27f6f6d3-fbde-41dc-c0a1-fad5cd7435bc",
        "colab": {
          "base_uri": "https://localhost:8080/",
          "height": 34
        }
      },
      "source": [
        "def add(a,b) :\n",
        "    return a+b\n",
        "def sub (a, b) :\n",
        "    return a-b\n",
        "if __name__ == \"__main__\" :\n",
        "    print (add(4, 6))"
      ],
      "execution_count": 0,
      "outputs": [
        {
          "output_type": "stream",
          "text": [
            "10\n"
          ],
          "name": "stdout"
        }
      ]
    },
    {
      "cell_type": "markdown",
      "metadata": {
        "colab_type": "text",
        "id": "BLLHhFKpaVlV"
      },
      "source": [
        "`__name__ == __main__`을 사용하면 python mod1.py처럼 직접 이 파일 실행시킬 때 참이 되어 if 문 다음 문장이 수행됨\n",
        "\n",
        "반대로 모듈 불러서 사용시 거짓이 되어 if 문 다음 문장이 수행되지 않음"
      ]
    },
    {
      "cell_type": "markdown",
      "metadata": {
        "colab_type": "text",
        "id": "IAp7ICUfaq4v"
      },
      "source": [
        "mod2.py는 클래스, 변수 등 포함한 모듈\n",
        "\n"
      ]
    },
    {
      "cell_type": "code",
      "metadata": {
        "colab_type": "code",
        "id": "jTNU-SxUa11C",
        "colab": {}
      },
      "source": [
        "#mod2.py 내용\n",
        "PI = 3.141592\n",
        "class Math:\n",
        "    def solv(self, r):\n",
        "        return PI * (r ** 2)  \n",
        "    def sum(self, a, b):\n",
        "        return a+b\n",
        "\n",
        "if __name__==\"__main__\":\n",
        "    print(PI)\n",
        "    a = Math()\n",
        "    print(a.solv(2))\n",
        "    print(a.sum(PI, 4.5))"
      ],
      "execution_count": 0,
      "outputs": []
    },
    {
      "cell_type": "code",
      "metadata": {
        "colab_type": "code",
        "id": "DT9FojN7bsGV",
        "outputId": "97c743e4-7597-4a2e-c2b6-a23b0013945b",
        "colab": {
          "base_uri": "https://localhost:8080/",
          "height": 68
        }
      },
      "source": [
        "import mod2\n",
        "print(mod2.PI)\n",
        "a = mod2.Math()\n",
        "print(a.solv(2))\n",
        "print(a.sum(mod2.PI, 4.5))"
      ],
      "execution_count": 0,
      "outputs": [
        {
          "output_type": "stream",
          "text": [
            "3.141592\n",
            "12.566368\n",
            "7.641592\n"
          ],
          "name": "stdout"
        }
      ]
    },
    {
      "cell_type": "code",
      "metadata": {
        "colab_type": "code",
        "id": "wjCttQMdb3Kv",
        "outputId": "9b4ead82-ae02-4870-c9e7-5f2c3abb79c8",
        "colab": {
          "base_uri": "https://localhost:8080/",
          "height": 34
        }
      },
      "source": [
        "import mod2\n",
        "a = mod2.Math()\n",
        "print( a.sum(3,4))"
      ],
      "execution_count": 0,
      "outputs": [
        {
          "output_type": "stream",
          "text": [
            "7\n"
          ],
          "name": "stdout"
        }
      ]
    },
    {
      "cell_type": "markdown",
      "metadata": {
        "colab_type": "text",
        "id": "yUXu3iICcS6U"
      },
      "source": [
        "# 예외 처리\n",
        "\n",
        "try except - else - finally - pass"
      ]
    },
    {
      "cell_type": "code",
      "metadata": {
        "colab_type": "code",
        "id": "ygESW_bMcmj-",
        "outputId": "8004ecb1-7871-4c1f-eea7-aac6da033188",
        "colab": {
          "base_uri": "https://localhost:8080/",
          "height": 34
        }
      },
      "source": [
        "try : f = open('nofile', 'r')\n",
        "except FileNotFoundError as e : print(str(e))\n",
        "else : \n",
        "    data = f.read()\n",
        "    f.close()"
      ],
      "execution_count": 0,
      "outputs": [
        {
          "output_type": "stream",
          "text": [
            "[Errno 2] No such file or directory: 'nofile'\n"
          ],
          "name": "stdout"
        }
      ]
    },
    {
      "cell_type": "code",
      "metadata": {
        "colab_type": "code",
        "id": "hkgFpodhc0PQ",
        "outputId": "1a75d2fb-c170-43ba-8829-7ab7d5208a16",
        "colab": {
          "base_uri": "https://localhost:8080/",
          "height": 34
        }
      },
      "source": [
        "f = open('nofile', 'w')\n",
        "try : print('nofile')\n",
        "finally : f.close()"
      ],
      "execution_count": 0,
      "outputs": [
        {
          "output_type": "stream",
          "text": [
            "nofile\n"
          ],
          "name": "stdout"
        }
      ]
    },
    {
      "cell_type": "code",
      "metadata": {
        "colab_type": "code",
        "id": "OcCI0FZGdXSw",
        "colab": {}
      },
      "source": [
        "try : f = open('nfile', 'r')\n",
        "except FileNotFoundError : pass\n",
        "finally : f.close()"
      ],
      "execution_count": 0,
      "outputs": []
    },
    {
      "cell_type": "code",
      "metadata": {
        "colab_type": "code",
        "id": "_EB1-TVTdlNJ",
        "outputId": "7d487d4d-e1e3-4a55-fe82-8a9fdc8853a3",
        "colab": {
          "base_uri": "https://localhost:8080/",
          "height": 34
        }
      },
      "source": [
        "try : 4/0\n",
        "except ZeroDivisionError as e : print(str(e))"
      ],
      "execution_count": 0,
      "outputs": [
        {
          "output_type": "stream",
          "text": [
            "division by zero\n"
          ],
          "name": "stdout"
        }
      ]
    },
    {
      "cell_type": "code",
      "metadata": {
        "colab_type": "code",
        "id": "eZvz1mV0dx6f",
        "outputId": "504494e7-a406-4669-999e-0d9ef2c4ff25",
        "colab": {
          "base_uri": "https://localhost:8080/",
          "height": 34
        }
      },
      "source": [
        "a = [1,2,3]\n",
        "try : a[4] \n",
        "except IndexError as e : print(e)"
      ],
      "execution_count": 0,
      "outputs": [
        {
          "output_type": "stream",
          "text": [
            "list index out of range\n"
          ],
          "name": "stdout"
        }
      ]
    },
    {
      "cell_type": "code",
      "metadata": {
        "colab_type": "code",
        "id": "OO3WBZPmeMsD",
        "outputId": "d65c5396-be37-4469-9d94-1f14c5e082ed",
        "colab": {
          "base_uri": "https://localhost:8080/",
          "height": 317
        }
      },
      "source": [
        "class Bird:\n",
        "    # 상속받은 class에서 method를 구현하지 않으면 강제로 에러 발생\n",
        "    def fly(self) : raise NotImplementedError\n",
        "\n",
        "class Eagle(Bird) :\n",
        "    pass\n",
        "eagle = Eagle()\n",
        "eagle.fly()"
      ],
      "execution_count": 0,
      "outputs": [
        {
          "output_type": "error",
          "ename": "NotImplementedError",
          "evalue": "ignored",
          "traceback": [
            "\u001b[0;31m---------------------------------------------------------------------------\u001b[0m",
            "\u001b[0;31mNotImplementedError\u001b[0m                       Traceback (most recent call last)",
            "\u001b[0;32m<ipython-input-53-9c80a91d27a7>\u001b[0m in \u001b[0;36m<module>\u001b[0;34m()\u001b[0m\n\u001b[1;32m      4\u001b[0m     \u001b[0;32mpass\u001b[0m\u001b[0;34m\u001b[0m\u001b[0;34m\u001b[0m\u001b[0m\n\u001b[1;32m      5\u001b[0m \u001b[0meagle\u001b[0m \u001b[0;34m=\u001b[0m \u001b[0mEagle\u001b[0m\u001b[0;34m(\u001b[0m\u001b[0;34m)\u001b[0m\u001b[0;34m\u001b[0m\u001b[0;34m\u001b[0m\u001b[0m\n\u001b[0;32m----> 6\u001b[0;31m \u001b[0meagle\u001b[0m\u001b[0;34m.\u001b[0m\u001b[0mfly\u001b[0m\u001b[0;34m(\u001b[0m\u001b[0;34m)\u001b[0m\u001b[0;34m\u001b[0m\u001b[0;34m\u001b[0m\u001b[0m\n\u001b[0m",
            "\u001b[0;32m<ipython-input-53-9c80a91d27a7>\u001b[0m in \u001b[0;36mfly\u001b[0;34m(self)\u001b[0m\n\u001b[1;32m      1\u001b[0m \u001b[0;32mclass\u001b[0m \u001b[0mBird\u001b[0m\u001b[0;34m:\u001b[0m\u001b[0;34m\u001b[0m\u001b[0;34m\u001b[0m\u001b[0m\n\u001b[0;32m----> 2\u001b[0;31m     \u001b[0;32mdef\u001b[0m \u001b[0mfly\u001b[0m\u001b[0;34m(\u001b[0m\u001b[0mself\u001b[0m\u001b[0;34m)\u001b[0m \u001b[0;34m:\u001b[0m \u001b[0;32mraise\u001b[0m \u001b[0mNotImplementedError\u001b[0m\u001b[0;34m\u001b[0m\u001b[0;34m\u001b[0m\u001b[0m\n\u001b[0m\u001b[1;32m      3\u001b[0m \u001b[0;32mclass\u001b[0m \u001b[0mEagle\u001b[0m\u001b[0;34m(\u001b[0m\u001b[0mBird\u001b[0m\u001b[0;34m)\u001b[0m \u001b[0;34m:\u001b[0m\u001b[0;34m\u001b[0m\u001b[0;34m\u001b[0m\u001b[0m\n\u001b[1;32m      4\u001b[0m     \u001b[0;32mpass\u001b[0m\u001b[0;34m\u001b[0m\u001b[0;34m\u001b[0m\u001b[0m\n\u001b[1;32m      5\u001b[0m \u001b[0meagle\u001b[0m \u001b[0;34m=\u001b[0m \u001b[0mEagle\u001b[0m\u001b[0;34m(\u001b[0m\u001b[0;34m)\u001b[0m\u001b[0;34m\u001b[0m\u001b[0;34m\u001b[0m\u001b[0m\n",
            "\u001b[0;31mNotImplementedError\u001b[0m: "
          ]
        }
      ]
    },
    {
      "cell_type": "code",
      "metadata": {
        "colab_type": "code",
        "id": "Wr_0U6YufHkl",
        "outputId": "3671a59d-2e93-4565-c8e5-84e21a1307c3",
        "colab": {
          "base_uri": "https://localhost:8080/",
          "height": 34
        }
      },
      "source": [
        "class Eagle(Bird) :\n",
        "    def fly(self) :\n",
        "        print('very fast')\n",
        "eagle = Eagle()\n",
        "eagle.fly()"
      ],
      "execution_count": 0,
      "outputs": [
        {
          "output_type": "stream",
          "text": [
            "very fast\n"
          ],
          "name": "stdout"
        }
      ]
    },
    {
      "cell_type": "markdown",
      "metadata": {
        "colab_type": "text",
        "id": "QrtfGSQgflMB"
      },
      "source": [
        "# Package\n",
        "## `__init__.py`\n",
        "해당 디렉토리가 팩키지임을 알려주는 역할\n",
        "\n",
        "3.3부터는 없어도 가능하나, 하위버전과의 호환을 위해 써주는 것이 좋음\n",
        "\n",
        "\n",
        "## `__all__`\n",
        "\n",
        "특정 패키지의 모듈 전체를 불러오기(`import *`) 위해 `__init__.py` 안에 정의\n"
      ]
    },
    {
      "cell_type": "markdown",
      "metadata": {
        "colab_type": "text",
        "id": "ZLGjGlbhqyFN"
      },
      "source": [
        "# 내장함수\n",
        "\n",
        "파이썬 내장 함수는 외부 모듈과 달리 `import` 필요 없기 때문에 아무 설정 없이 바로 사용\n",
        "\n",
        "- `abs()` : 절대값\n",
        "- `all([  ])` : list 안의 모든 값이 참이면 `True`, 아니면 `False`\n",
        "- `any([  ])` : `all()`의 반대\n",
        "- `chr()` : 아스키 코드 값을 해당 문자로 출력\n",
        "- `dir([  ])` : list 객체가 갖고 있는 변수나 함수 출력\n",
        "- `dir({  })` : sequence 자료형의 index값 포함한 enumerate 객체 출력\n",
        "- `divmod()` : 몫과 나머지를 tuple 형태로 return\n",
        "- `eval('  ')` : 실행 가능한 string을 실행\n",
        "- `enumerate()`\n",
        "~~~\n",
        "for i, name in enumerate(['body','foo','bar']) : print (i, name)\n",
        "~~~\n",
        "- `hex()` : 16진수로 변환\n",
        "- `id()` : 저장된 위치\n"
      ]
    },
    {
      "cell_type": "code",
      "metadata": {
        "id": "QGPKyp2cJVg3",
        "colab_type": "code",
        "colab": {},
        "outputId": "1b607600-7654-4391-8c0f-ab7123d3dc74"
      },
      "source": [
        "dir([1,2,3])"
      ],
      "execution_count": 0,
      "outputs": [
        {
          "output_type": "execute_result",
          "data": {
            "text/plain": [
              "['__add__',\n",
              " '__class__',\n",
              " '__contains__',\n",
              " '__delattr__',\n",
              " '__delitem__',\n",
              " '__dir__',\n",
              " '__doc__',\n",
              " '__eq__',\n",
              " '__format__',\n",
              " '__ge__',\n",
              " '__getattribute__',\n",
              " '__getitem__',\n",
              " '__gt__',\n",
              " '__hash__',\n",
              " '__iadd__',\n",
              " '__imul__',\n",
              " '__init__',\n",
              " '__init_subclass__',\n",
              " '__iter__',\n",
              " '__le__',\n",
              " '__len__',\n",
              " '__lt__',\n",
              " '__mul__',\n",
              " '__ne__',\n",
              " '__new__',\n",
              " '__reduce__',\n",
              " '__reduce_ex__',\n",
              " '__repr__',\n",
              " '__reversed__',\n",
              " '__rmul__',\n",
              " '__setattr__',\n",
              " '__setitem__',\n",
              " '__sizeof__',\n",
              " '__str__',\n",
              " '__subclasshook__',\n",
              " 'append',\n",
              " 'clear',\n",
              " 'copy',\n",
              " 'count',\n",
              " 'extend',\n",
              " 'index',\n",
              " 'insert',\n",
              " 'pop',\n",
              " 'remove',\n",
              " 'reverse',\n",
              " 'sort']"
            ]
          },
          "metadata": {
            "tags": []
          },
          "execution_count": 23
        }
      ]
    },
    {
      "cell_type": "code",
      "metadata": {
        "colab_type": "code",
        "id": "Uv9sw8eCscXb",
        "outputId": "061d2971-712d-4883-ab7e-6ec4e6a7ebdb",
        "colab": {
          "base_uri": "https://localhost:8080/",
          "height": 952
        }
      },
      "source": [
        "dir({5,2,7,5,4})"
      ],
      "execution_count": 0,
      "outputs": [
        {
          "output_type": "execute_result",
          "data": {
            "text/plain": [
              "['__and__',\n",
              " '__class__',\n",
              " '__contains__',\n",
              " '__delattr__',\n",
              " '__dir__',\n",
              " '__doc__',\n",
              " '__eq__',\n",
              " '__format__',\n",
              " '__ge__',\n",
              " '__getattribute__',\n",
              " '__gt__',\n",
              " '__hash__',\n",
              " '__iand__',\n",
              " '__init__',\n",
              " '__init_subclass__',\n",
              " '__ior__',\n",
              " '__isub__',\n",
              " '__iter__',\n",
              " '__ixor__',\n",
              " '__le__',\n",
              " '__len__',\n",
              " '__lt__',\n",
              " '__ne__',\n",
              " '__new__',\n",
              " '__or__',\n",
              " '__rand__',\n",
              " '__reduce__',\n",
              " '__reduce_ex__',\n",
              " '__repr__',\n",
              " '__ror__',\n",
              " '__rsub__',\n",
              " '__rxor__',\n",
              " '__setattr__',\n",
              " '__sizeof__',\n",
              " '__str__',\n",
              " '__sub__',\n",
              " '__subclasshook__',\n",
              " '__xor__',\n",
              " 'add',\n",
              " 'clear',\n",
              " 'copy',\n",
              " 'difference',\n",
              " 'difference_update',\n",
              " 'discard',\n",
              " 'intersection',\n",
              " 'intersection_update',\n",
              " 'isdisjoint',\n",
              " 'issubset',\n",
              " 'issuperset',\n",
              " 'pop',\n",
              " 'remove',\n",
              " 'symmetric_difference',\n",
              " 'symmetric_difference_update',\n",
              " 'union',\n",
              " 'update']"
            ]
          },
          "metadata": {
            "tags": []
          },
          "execution_count": 55
        }
      ]
    },
    {
      "cell_type": "code",
      "metadata": {
        "id": "VjVzROcFJVg8",
        "colab_type": "code",
        "colab": {},
        "outputId": "1d867b5f-de73-4ce8-863a-50e511b3d8b7"
      },
      "source": [
        "for i, name in enumerate(['body','foo','bar']) : print (i, name)"
      ],
      "execution_count": 0,
      "outputs": [
        {
          "output_type": "stream",
          "text": [
            "0 body\n",
            "1 foo\n",
            "2 bar\n"
          ],
          "name": "stdout"
        }
      ]
    },
    {
      "cell_type": "code",
      "metadata": {
        "id": "AlUSembJJVhC",
        "colab_type": "code",
        "colab": {},
        "outputId": "bc6eb49a-0c34-44d0-c140-8a910928ee7e"
      },
      "source": [
        "print (eval('1+1'*3))"
      ],
      "execution_count": 0,
      "outputs": [
        {
          "output_type": "stream",
          "text": [
            "24\n"
          ],
          "name": "stdout"
        }
      ]
    },
    {
      "cell_type": "markdown",
      "metadata": {
        "id": "i-aKV9vjJbMC",
        "colab_type": "text"
      },
      "source": [
        "### filter 함수\n",
        "첫번째 인수로 함수 이름, 두번째 인수로 그 함수에 적용하는 반복가능한 자료형 받아 그 함수의 return값이 참인 것만 return"
      ]
    },
    {
      "cell_type": "code",
      "metadata": {
        "id": "swvdGTC6JVhF",
        "colab_type": "code",
        "colab": {},
        "outputId": "050114ef-b4ae-4f9c-812f-7c8cf6a8c212"
      },
      "source": [
        "def positive(x) :\n",
        "    return x>0\n",
        "print (list(filter(positive, [1,-3,2,0,-5,6])))\n",
        "print (list(filter(lambda x:x>0, [1,-3,2,0,-5,6])))"
      ],
      "execution_count": 0,
      "outputs": [
        {
          "output_type": "stream",
          "text": [
            "[1, 2, 6]\n",
            "[1, 2, 6]\n"
          ],
          "name": "stdout"
        }
      ]
    },
    {
      "cell_type": "code",
      "metadata": {
        "id": "zJRY9S1ZJVhH",
        "colab_type": "code",
        "colab": {},
        "outputId": "22642582-f24c-459a-9e7a-47371e0abbd8"
      },
      "source": [
        "print (hex(234))\n",
        "a = 3\n",
        "print( id (3) )\n",
        "print( id (a) )\n",
        "b = a\n",
        "print ( id (b) )\n",
        "print ( id (4) )"
      ],
      "execution_count": 0,
      "outputs": [
        {
          "output_type": "stream",
          "text": [
            "0xea\n",
            "4421969104\n",
            "4421969104\n",
            "4421969104\n",
            "4421969136\n"
          ],
          "name": "stdout"
        }
      ]
    },
    {
      "cell_type": "code",
      "metadata": {
        "id": "5CMpQK5rJVhJ",
        "colab_type": "code",
        "colab": {
          "base_uri": "https://localhost:8080/",
          "height": 68
        },
        "outputId": "6452a125-1d1b-41fe-91af-5da454c0ca64"
      },
      "source": [
        "print (int (3.5) )\n",
        "# 2진수 '11'을 10진수로 반환\n",
        "print (int ('11', 2) )\n",
        "# 16진수 '1A'를 10진수로 반환\n",
        "print (int ('1A', 16) )"
      ],
      "execution_count": 1,
      "outputs": [
        {
          "output_type": "stream",
          "text": [
            "3\n",
            "3\n",
            "26\n"
          ],
          "name": "stdout"
        }
      ]
    },
    {
      "cell_type": "markdown",
      "metadata": {
        "id": "T7vh6fPtJsEB",
        "colab_type": "text"
      },
      "source": [
        "## isinstance(object, class)\n",
        "입력 받은 object 가 class의 인스턴스인지를 판단,\n",
        "\n",
        "True 또는 False return"
      ]
    },
    {
      "cell_type": "code",
      "metadata": {
        "id": "vumWjL_dSCeZ",
        "colab_type": "code",
        "colab": {
          "base_uri": "https://localhost:8080/",
          "height": 51
        },
        "outputId": "2c77857d-8cd8-4f9b-9cf4-a393884812ce"
      },
      "source": [
        "class Person : pass\n",
        "a = Person()\n",
        "print(isinstance(a, Person))\n",
        "b = 0\n",
        "print(isinstance(b, Person))"
      ],
      "execution_count": 11,
      "outputs": [
        {
          "output_type": "stream",
          "text": [
            "True\n",
            "False\n"
          ],
          "name": "stdout"
        }
      ]
    },
    {
      "cell_type": "markdown",
      "metadata": {
        "id": "iXveWgfWSnDP",
        "colab_type": "text"
      },
      "source": [
        "## lambda"
      ]
    },
    {
      "cell_type": "code",
      "metadata": {
        "id": "pa1R9OQsSH31",
        "colab_type": "code",
        "colab": {
          "base_uri": "https://localhost:8080/",
          "height": 34
        },
        "outputId": "f800229f-8c9f-42aa-e143-ccd29eef9151"
      },
      "source": [
        "sum = lambda a,b : a+b\n",
        "print(sum(3,4))"
      ],
      "execution_count": 10,
      "outputs": [
        {
          "output_type": "stream",
          "text": [
            "7\n"
          ],
          "name": "stdout"
        }
      ]
    },
    {
      "cell_type": "code",
      "metadata": {
        "id": "7fZ6DetNSi5l",
        "colab_type": "code",
        "colab": {
          "base_uri": "https://localhost:8080/",
          "height": 51
        },
        "outputId": "4ca504bd-d0f6-47b4-a8ac-e6f6d9158197"
      },
      "source": [
        "myList = [lambda a,b:a+b, lambda a,b:a*b]\n",
        "for i in myList : print(i(4,5))"
      ],
      "execution_count": 18,
      "outputs": [
        {
          "output_type": "stream",
          "text": [
            "9\n",
            "20\n"
          ],
          "name": "stdout"
        }
      ]
    },
    {
      "cell_type": "code",
      "metadata": {
        "id": "um1hbNqESz-u",
        "colab_type": "code",
        "colab": {
          "base_uri": "https://localhost:8080/",
          "height": 85
        },
        "outputId": "2f43b353-2b43-4f13-d12a-45e22944f8ec"
      },
      "source": [
        "print (len ('strings'))\n",
        "print (list ('python'))\n",
        "print (list ((1,2,3)))\n",
        "print (list ({1,2,3}))"
      ],
      "execution_count": 21,
      "outputs": [
        {
          "output_type": "stream",
          "text": [
            "7\n",
            "['p', 'y', 't', 'h', 'o', 'n']\n",
            "[1, 2, 3]\n",
            "[1, 2, 3]\n"
          ],
          "name": "stdout"
        }
      ]
    },
    {
      "cell_type": "code",
      "metadata": {
        "id": "gYLCIVE3TzlF",
        "colab_type": "code",
        "colab": {
          "base_uri": "https://localhost:8080/",
          "height": 34
        },
        "outputId": "3232b5f5-fdd4-43bb-9c8b-0f76c54ed97a"
      },
      "source": [
        "print (list(map(lambda x:str(x*2), [1,2,3,4])))"
      ],
      "execution_count": 23,
      "outputs": [
        {
          "output_type": "stream",
          "text": [
            "['2', '4', '6', '8']\n"
          ],
          "name": "stdout"
        }
      ]
    },
    {
      "cell_type": "code",
      "metadata": {
        "id": "aDHKrf4oU4vu",
        "colab_type": "code",
        "colab": {
          "base_uri": "https://localhost:8080/",
          "height": 360
        },
        "outputId": "6bcb33cf-a97a-4a6e-82d5-c982b862c898"
      },
      "source": [
        "f = open('sample_data/README.md', 'br')\n",
        "while True :\n",
        "    line = f.readline()\n",
        "    if not line : break\n",
        "    print(line)\n",
        "f.close()"
      ],
      "execution_count": 33,
      "outputs": [
        {
          "output_type": "stream",
          "text": [
            "b'This directory includes a few sample datasets to get you started.\\n'\n",
            "b'\\n'\n",
            "b'*   `california_housing_data*.csv` is California housing data from the 1990 US\\n'\n",
            "b'    Census; more information is available at:\\n'\n",
            "b'    https://developers.google.com/machine-learning/crash-course/california-housing-data-description\\n'\n",
            "b'\\n'\n",
            "b'*   `mnist_*.csv` is a small sample of the\\n'\n",
            "b'    [MNIST database](https://en.wikipedia.org/wiki/MNIST_database), which is\\n'\n",
            "b'    described at: http://yann.lecun.com/exdb/mnist/\\n'\n",
            "b'\\n'\n",
            "b'*   `anscombe.json` contains a copy of\\n'\n",
            "b\"    [Anscombe's quartet](https://en.wikipedia.org/wiki/Anscombe%27s_quartet); it\\n\"\n",
            "b'    was originally described in\\n'\n",
            "b'\\n'\n",
            "b\"    Anscombe, F. J. (1973). 'Graphs in Statistical Analysis'. American\\n\"\n",
            "b'    Statistician. 27 (1): 17-21. JSTOR 2682899.\\n'\n",
            "b'\\n'\n",
            "b'    and our copy was prepared by the\\n'\n",
            "b'    [vega_datasets library](https://github.com/altair-viz/vega_datasets/blob/4f67bdaad10f45e3549984e17e1b3088c731503d/vega_datasets/_data/anscombe.json).\\n'\n"
          ],
          "name": "stdout"
        }
      ]
    },
    {
      "cell_type": "code",
      "metadata": {
        "id": "0iq9gGV2Vnn3",
        "colab_type": "code",
        "colab": {
          "base_uri": "https://localhost:8080/",
          "height": 85
        },
        "outputId": "4fd379d7-ec0c-4505-c47b-338c303597d2"
      },
      "source": [
        "print (pow (2, 4))\n",
        "print (list (range (5)))\n",
        "print (list (range (5, 10)))\n",
        "print (list (range (5, 10, 2)))"
      ],
      "execution_count": 37,
      "outputs": [
        {
          "output_type": "stream",
          "text": [
            "16\n",
            "[0, 1, 2, 3, 4]\n",
            "[5, 6, 7, 8, 9]\n",
            "[5, 7, 9]\n"
          ],
          "name": "stdout"
        }
      ]
    },
    {
      "cell_type": "code",
      "metadata": {
        "id": "2IrISRNMWl0r",
        "colab_type": "code",
        "colab": {
          "base_uri": "https://localhost:8080/",
          "height": 68
        },
        "outputId": "dc93ff44-2739-4fd6-a106-2dabdd640e74"
      },
      "source": [
        "print (sorted ([5,1,4]))\n",
        "print (str (3))\n",
        "print (sorted(str(34729)))"
      ],
      "execution_count": 39,
      "outputs": [
        {
          "output_type": "stream",
          "text": [
            "[1, 4, 5]\n",
            "3\n",
            "['2', '3', '4', '7', '9']\n"
          ],
          "name": "stdout"
        }
      ]
    },
    {
      "cell_type": "code",
      "metadata": {
        "id": "hhgP4roRW2G6",
        "colab_type": "code",
        "colab": {}
      },
      "source": [
        ""
      ],
      "execution_count": 0,
      "outputs": []
    }
  ]
}