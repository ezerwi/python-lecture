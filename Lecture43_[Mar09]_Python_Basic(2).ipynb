{
  "nbformat": 4,
  "nbformat_minor": 0,
  "metadata": {
    "colab": {
      "name": "Lecture43_[Mar09]_Python_Basic(2)",
      "provenance": [],
      "collapsed_sections": [],
      "mount_file_id": "1ayUhusCBHnJIj9g_6ZW9jL3cXNPI563Y",
      "authorship_tag": "ABX9TyONRpbFrjH259YQ0kJ1w7G4",
      "include_colab_link": true
    },
    "kernelspec": {
      "name": "python3",
      "display_name": "Python 3"
    }
  },
  "cells": [
    {
      "cell_type": "markdown",
      "metadata": {
        "id": "view-in-github",
        "colab_type": "text"
      },
      "source": [
        "<a href=\"https://colab.research.google.com/github/ezerwi/python-lecture/blob/master/Lecture43_%5BMar09%5D_Python_Basic(2).ipynb\" target=\"_parent\"><img src=\"https://colab.research.google.com/assets/colab-badge.svg\" alt=\"Open In Colab\"/></a>"
      ]
    },
    {
      "cell_type": "markdown",
      "metadata": {
        "id": "J-pgcavsuRLh",
        "colab_type": "text"
      },
      "source": [
        "# Lecture 43. Python Basic(2)"
      ]
    },
    {
      "cell_type": "code",
      "metadata": {
        "id": "aQqEbhI4yFgr",
        "colab_type": "code",
        "colab": {
          "base_uri": "https://localhost:8080/",
          "height": 35
        },
        "outputId": "6e82d6e4-3f7f-42ea-c3c1-9a9d22bad6af"
      },
      "source": [
        "!git clone https://github.com/ezerwi/python-lecture"
      ],
      "execution_count": 20,
      "outputs": [
        {
          "output_type": "stream",
          "text": [
            "fatal: destination path 'python-lecture' already exists and is not an empty directory.\n"
          ],
          "name": "stdout"
        }
      ]
    },
    {
      "cell_type": "markdown",
      "metadata": {
        "id": "o3zDh52GuZK6",
        "colab_type": "text"
      },
      "source": [
        "LIST 이어서"
      ]
    },
    {
      "cell_type": "code",
      "metadata": {
        "id": "ZpiblRYuuHF-",
        "colab_type": "code",
        "colab": {
          "base_uri": "https://localhost:8080/",
          "height": 54
        },
        "outputId": "27bcaf05-364e-4e8a-c141-68f62517ddd8"
      },
      "source": [
        "e = [1,2,3]\n",
        "print(e.index(3))\n",
        "print(e.index(1))"
      ],
      "execution_count": 1,
      "outputs": [
        {
          "output_type": "stream",
          "text": [
            "2\n",
            "0\n"
          ],
          "name": "stdout"
        }
      ]
    },
    {
      "cell_type": "code",
      "metadata": {
        "id": "NTUfUGevutMW",
        "colab_type": "code",
        "colab": {
          "base_uri": "https://localhost:8080/",
          "height": 54
        },
        "outputId": "d5e29e22-2ac6-4d77-b0b1-a16c66971165"
      },
      "source": [
        "f = [1,2,3]\n",
        "print(f.pop())\n",
        "print(f)"
      ],
      "execution_count": 4,
      "outputs": [
        {
          "output_type": "stream",
          "text": [
            "3\n",
            "[1, 2]\n"
          ],
          "name": "stdout"
        }
      ]
    },
    {
      "cell_type": "code",
      "metadata": {
        "id": "_WTH5lDtu8v3",
        "colab_type": "code",
        "colab": {
          "base_uri": "https://localhost:8080/",
          "height": 35
        },
        "outputId": "015792c5-8244-42a4-e6cd-19bd86a45f1c"
      },
      "source": [
        "g = [1,2,3,1]\n",
        "print(g.count(1))"
      ],
      "execution_count": 8,
      "outputs": [
        {
          "output_type": "stream",
          "text": [
            "2\n"
          ],
          "name": "stdout"
        }
      ]
    },
    {
      "cell_type": "code",
      "metadata": {
        "id": "Q2vUVodwvNiW",
        "colab_type": "code",
        "colab": {
          "base_uri": "https://localhost:8080/",
          "height": 35
        },
        "outputId": "3e736d79-111c-4f78-dc02-213598dda09f"
      },
      "source": [
        "h = [1,2,3]\n",
        "h.extend([4,5])\n",
        "print(h)"
      ],
      "execution_count": 10,
      "outputs": [
        {
          "output_type": "stream",
          "text": [
            "[1, 2, 3, 4, 5]\n"
          ],
          "name": "stdout"
        }
      ]
    },
    {
      "cell_type": "code",
      "metadata": {
        "id": "o0euZl1WvfxX",
        "colab_type": "code",
        "colab": {
          "base_uri": "https://localhost:8080/",
          "height": 54
        },
        "outputId": "4697cfc0-c021-4a37-a8df-a1e6031e99dc"
      },
      "source": [
        "a = [1,2,3]\n",
        "a.append(4)\n",
        "print(a)\n",
        "a.append([5,6])\n",
        "print(a)"
      ],
      "execution_count": 13,
      "outputs": [
        {
          "output_type": "stream",
          "text": [
            "[1, 2, 3, 4]\n",
            "[1, 2, 3, 4, [5, 6]]\n"
          ],
          "name": "stdout"
        }
      ]
    },
    {
      "cell_type": "markdown",
      "metadata": {
        "id": "8NisFwWxvp5l",
        "colab_type": "text"
      },
      "source": [
        "# 튜플\n",
        "리스트와 비슷한 성질 갖는 자료형이지만, 요소값 변경 불가\n",
        "\n",
        "프로그램 실행되는 동안 그 값이 항상 변하지 않아야 되는 경우 사용"
      ]
    },
    {
      "cell_type": "code",
      "metadata": {
        "id": "qfQVthYLwOjz",
        "colab_type": "code",
        "colab": {
          "base_uri": "https://localhost:8080/",
          "height": 73
        },
        "outputId": "f43c0370-4d0c-4d33-bd2f-bafd6c6adbe9"
      },
      "source": [
        "t1 = (1,2,3,4,5)\n",
        "t2 = ('a','b','c')\n",
        "t3 = (1,'a','abc',[1,2,3,4,5],['a','b','c'])\n",
        "def myfunc() :\n",
        "  print ('HELLO')\n",
        "t4 = (21,2,myfunc)\n",
        "# t1[0] = 6\n",
        "print(t1)\n",
        "print(t4)\n",
        "t4[2]()   #list/tuple 내 함수 실행 방식"
      ],
      "execution_count": 17,
      "outputs": [
        {
          "output_type": "stream",
          "text": [
            "(1, 2, 3, 4, 5)\n",
            "(21, 2, <function myfunc at 0x7faa7a368950>)\n",
            "HELLO\n"
          ],
          "name": "stdout"
        }
      ]
    },
    {
      "cell_type": "code",
      "metadata": {
        "id": "mPq8GUNFw0rO",
        "colab_type": "code",
        "colab": {
          "base_uri": "https://localhost:8080/",
          "height": 35
        },
        "outputId": "28f0ff73-df0b-4c69-9e0b-99fcf901c39a"
      },
      "source": [
        "# tuple이 1개의 원소만 가질 경우 요소 뒤에 콤마 붙여야 함\n",
        "t1 = (1,)\n",
        "print(t1)"
      ],
      "execution_count": 18,
      "outputs": [
        {
          "output_type": "stream",
          "text": [
            "(1,)\n"
          ],
          "name": "stdout"
        }
      ]
    },
    {
      "cell_type": "code",
      "metadata": {
        "id": "Vkhx9sSbxaX3",
        "colab_type": "code",
        "colab": {
          "base_uri": "https://localhost:8080/",
          "height": 54
        },
        "outputId": "48ab60d9-5918-4557-f8ca-313ab7ecc964"
      },
      "source": [
        "a = (1,2,3)\n",
        "b = ('a','b','c')\n",
        "c = a+b\n",
        "print(c)\n",
        "print(c*3)"
      ],
      "execution_count": 22,
      "outputs": [
        {
          "output_type": "stream",
          "text": [
            "(1, 2, 3, 'a', 'b', 'c')\n",
            "(1, 2, 3, 'a', 'b', 'c', 1, 2, 3, 'a', 'b', 'c', 1, 2, 3, 'a', 'b', 'c')\n"
          ],
          "name": "stdout"
        }
      ]
    },
    {
      "cell_type": "markdown",
      "metadata": {
        "id": "nkk_OII40jdY",
        "colab_type": "text"
      },
      "source": [
        "# Dictionary\n",
        "dict 자료형은 key - value 를 하나의 요소로 하는 순서 없는 집합\n",
        "\n",
        "sequence 자료형 아니며 indexing 으로 접근 불가"
      ]
    },
    {
      "cell_type": "code",
      "metadata": {
        "id": "zOec78gd1C3F",
        "colab_type": "code",
        "colab": {
          "base_uri": "https://localhost:8080/",
          "height": 92
        },
        "outputId": "3451e922-a19c-4333-8e16-6d0e3711d5f2"
      },
      "source": [
        "dict1 = {\n",
        "  'a' : 1,\n",
        "  'b' : 2,\n",
        "  'c'  : 3,\n",
        "}\n",
        "print(dict1)\n",
        "print(dict1['c'])\n",
        "print(dict1['a'])\n",
        "print( len(dict1) )"
      ],
      "execution_count": 31,
      "outputs": [
        {
          "output_type": "stream",
          "text": [
            "{'a': 1, 'b': 2, 'c': 3}\n",
            "3\n",
            "1\n",
            "3\n"
          ],
          "name": "stdout"
        }
      ]
    },
    {
      "cell_type": "code",
      "metadata": {
        "id": "I9H07kDW1QV9",
        "colab_type": "code",
        "colab": {
          "base_uri": "https://localhost:8080/",
          "height": 243
        },
        "outputId": "ad110c67-85cb-444b-8322-1e726dc24cab"
      },
      "source": [
        "a = {\n",
        "    'name' : 'pey',\n",
        "    'phone' : '0109991354',\n",
        "     'birth' : '1105'\n",
        "}\n",
        "print( a.keys( ))\n",
        "print( a.values() )\n",
        "print( a.items() )\n",
        "print( a.get('name') )\n",
        "print( a.get('pey') ) # key name 만 조회 가능\n",
        "print( a.get('nokey') )\n",
        "print( 'name' in a )\n",
        "print( 'pey' in a ) # key name 만 조회 가능\n",
        "print( a.get('email', 'no email') ) # get으로 가져올 값이 없는 경우 default value 지정 가능\n",
        "print(\"---------------\")\n",
        "a. clear( )\n",
        "print( a )\n",
        "print (a.get('foo', 'bar'))"
      ],
      "execution_count": 40,
      "outputs": [
        {
          "output_type": "stream",
          "text": [
            "dict_keys(['name', 'phone', 'birth'])\n",
            "dict_values(['pey', '0109991354', '1105'])\n",
            "dict_items([('name', 'pey'), ('phone', '0109991354'), ('birth', '1105')])\n",
            "pey\n",
            "None\n",
            "None\n",
            "True\n",
            "False\n",
            "no email\n",
            "---------------\n",
            "{}\n",
            "bar\n"
          ],
          "name": "stdout"
        }
      ]
    },
    {
      "cell_type": "markdown",
      "metadata": {
        "id": "XhVpdDWs2Rxe",
        "colab_type": "text"
      },
      "source": [
        "# Set\n",
        "순서가 없는 자료형 ; indexing으로 값을 얻을 수 없다\n",
        "\n",
        "수학의 집합 개념과 유사"
      ]
    },
    {
      "cell_type": "code",
      "metadata": {
        "id": "F3uuu_m25Ssa",
        "colab_type": "code",
        "colab": {
          "base_uri": "https://localhost:8080/",
          "height": 470
        },
        "outputId": "64170c84-de20-4bc8-c411-1bc0bb09248d"
      },
      "source": [
        "s1 = set([1,2,3,4,5,6])\n",
        "s2 = set([4,5,6,7,8,9])\n",
        "print(\"\\n교집합\")\n",
        "print(\"교집합 방식1 : \", s1& s2)\n",
        "print(\"교집합 방식2 : \", s1.intersection(s2))\n",
        "\n",
        "print(\"\\n합집합\")\n",
        "print (\"합집합 방식1 : \",s1 | s2)\n",
        "print (\"합집합 방식2 : \", s1.union(s2))\n",
        "\n",
        "print(\"\\nlist형으로 casting\")\n",
        "s3 = list(s1 & s2)\n",
        "s4 = list (s1|s2)\n",
        "print (\"casting1 : \", s3)\n",
        "print (\"casting2 : \", s4)\n",
        "\n",
        "print(\"\\n연산\")\n",
        "print (s1 - s2)\n",
        "print ( list (s1-s2) )\n",
        "print (s2 - s1)\n",
        "\n",
        "print(\"\\n추가&제거\")\n",
        "s1.add(7)\n",
        "print(s1)\n",
        "s1.update([9,10,11])\n",
        "print(s1)\n",
        "s1.remove(10)\n",
        "print(s1)\n",
        "\n",
        "print(\"\\nlength : \",len(s1))"
      ],
      "execution_count": 59,
      "outputs": [
        {
          "output_type": "stream",
          "text": [
            "\n",
            "교집합\n",
            "교집합 방식1 :  {4, 5, 6}\n",
            "교집합 방식2 :  {4, 5, 6}\n",
            "\n",
            "합집합\n",
            "합집합 방식1 :  {1, 2, 3, 4, 5, 6, 7, 8, 9}\n",
            "합집합 방식2 :  {1, 2, 3, 4, 5, 6, 7, 8, 9}\n",
            "\n",
            " list형으로 casting\n",
            "casting1 :  [4, 5, 6]\n",
            "casting2 :  [1, 2, 3, 4, 5, 6, 7, 8, 9]\n",
            "\n",
            "연산\n",
            "{1, 2, 3}\n",
            "[1, 2, 3]\n",
            "{8, 9, 7}\n",
            "\n",
            "추가&제거\n",
            "{1, 2, 3, 4, 5, 6, 7}\n",
            "{1, 2, 3, 4, 5, 6, 7, 9, 10, 11}\n",
            "{1, 2, 3, 4, 5, 6, 7, 9, 11}\n",
            "\n",
            "length :  9\n"
          ],
          "name": "stdout"
        }
      ]
    },
    {
      "cell_type": "markdown",
      "metadata": {
        "id": "mrdvPhKF6f8e",
        "colab_type": "text"
      },
      "source": [
        "# Escape letters\n",
        "\n",
        "\\n, \\t, \\"
      ]
    },
    {
      "cell_type": "code",
      "metadata": {
        "id": "y4N-p1g_8MMp",
        "colab_type": "code",
        "colab": {
          "base_uri": "https://localhost:8080/",
          "height": 55
        },
        "outputId": "88793d5c-ef02-4c90-f6c0-6d74592d9694"
      },
      "source": [
        "print('한 줄 표 현 한 줄 표 현 한 줄 표 현 한 줄 표 현 한 줄 표 현 한 줄 표 현 한 줄 표 현 한 줄 표 현 한 줄 표 현 한 줄 표 현 한 줄 표 현 한 줄 표 현 한 줄 표 현 한 줄 표 현 한 줄 표 현 한 줄 표 현 한 줄 표 현 한 줄 표 현 한 줄 표 현 한 줄 표 현 한 줄 표 현 한 줄 표 현 한 줄 표 현 한 줄 표 현 한 줄 표 현 한 줄 표 현 한 줄 표 현 한 줄 표 현 한 줄 표 현 한 줄 표 현 한 줄 표 현 한 줄 표 현 한 줄 표 현 한 줄 표 현 한 줄 표 현 한 줄 표 현 한 줄 표 현 한 줄 표 현 한 줄 표 현 한 줄 표 현 한 줄 표 현 한 줄 표 현 한 줄 표 현 한 줄 표 현 한 줄 표 현 \\\n",
        "한 줄 표 현 한 줄 표 현 한 줄 표 현 한 줄 표 현 한 줄 표 현 한 줄 표 현 한 줄 표 현 한 줄 표 현 한 줄 표 현 한 줄 표 현 한 줄 표 현 한 줄 표 현 한 줄 표 현 한 줄 표 현 한 줄 표 현 한 줄 표 현 ')"
      ],
      "execution_count": 63,
      "outputs": [
        {
          "output_type": "stream",
          "text": [
            "한 줄 표 현 한 줄 표 현 한 줄 표 현 한 줄 표 현 한 줄 표 현 한 줄 표 현 한 줄 표 현 한 줄 표 현 한 줄 표 현 한 줄 표 현 한 줄 표 현 한 줄 표 현 한 줄 표 현 한 줄 표 현 한 줄 표 현 한 줄 표 현 한 줄 표 현 한 줄 표 현 한 줄 표 현 한 줄 표 현 한 줄 표 현 한 줄 표 현 한 줄 표 현 한 줄 표 현 한 줄 표 현 한 줄 표 현 한 줄 표 현 한 줄 표 현 한 줄 표 현 한 줄 표 현 한 줄 표 현 한 줄 표 현 한 줄 표 현 한 줄 표 현 한 줄 표 현 한 줄 표 현 한 줄 표 현 한 줄 표 현 한 줄 표 현 한 줄 표 현 한 줄 표 현 한 줄 표 현 한 줄 표 현 한 줄 표 현 한 줄 표 현 한 줄 표 현 한 줄 표 현 한 줄 표 현 한 줄 표 현 한 줄 표 현 한 줄 표 현 한 줄 표 현 한 줄 표 현 한 줄 표 현 한 줄 표 현 한 줄 표 현 한 줄 표 현 한 줄 표 현 한 줄 표 현 한 줄 표 현 한 줄 표 현 \n"
          ],
          "name": "stdout"
        }
      ]
    },
    {
      "cell_type": "markdown",
      "metadata": {
        "id": "zgmvYqus9j_p",
        "colab_type": "text"
      },
      "source": [
        "# 들여쓰기"
      ]
    },
    {
      "cell_type": "code",
      "metadata": {
        "id": "hlZIVzQ8-TNC",
        "colab_type": "code",
        "colab": {
          "base_uri": "https://localhost:8080/",
          "height": 54
        },
        "outputId": "a3006942-5d53-4a93-e47c-9c6d4dfa49ed"
      },
      "source": [
        "listdata = ['a','b','c']\n",
        "if 'a' in listdata :\n",
        "  print('a in listdata')\n",
        "  print(listdata)\n",
        "else :\n",
        "  print('a not in listdata')"
      ],
      "execution_count": 64,
      "outputs": [
        {
          "output_type": "stream",
          "text": [
            "a in listdata\n",
            "['a', 'b', 'c']\n"
          ],
          "name": "stdout"
        }
      ]
    },
    {
      "cell_type": "markdown",
      "metadata": {
        "id": "-mIX2osW-hwr",
        "colab_type": "text"
      },
      "source": [
        "# String Formatting\n",
        "### 숫자, 문자 대입\n",
        "%s 는 어떤 값이든 문자열로 변환 가능\n",
        "\n",
        "'%' 기호를 나타내려면 %%로 써야 함"
      ]
    },
    {
      "cell_type": "code",
      "metadata": {
        "id": "QkNNngWJ_EO7",
        "colab_type": "code",
        "colab": {
          "base_uri": "https://localhost:8080/",
          "height": 130
        },
        "outputId": "1d4f4473-b2e0-43d1-b778-8e6c7346d0b4"
      },
      "source": [
        "print (\"I eat %d apples.\" % 3 )\n",
        "print (\"I eat %s apples.\" % \"five\")\n",
        "num = 5\n",
        "print (\"I eat %d apples.\" % num)\n",
        "num2, day = 10, \"three\"\n",
        "print (\"I ate %d apples, so I was sick of %s days\" % (num2, day))\n",
        "print( \"I have %s\" % [2,5,3])\n",
        "print (\"I have %s\" % {'apple' : 2})"
      ],
      "execution_count": 108,
      "outputs": [
        {
          "output_type": "stream",
          "text": [
            "I eat 3 apples.\n",
            "I eat five apples.\n",
            "I eat 5 apples.\n",
            "I ate 10 apples, so I was sick of three days\n",
            "I have [2, 5, 3]\n",
            "I have {'apple': 2}\n"
          ],
          "name": "stdout"
        }
      ]
    },
    {
      "cell_type": "code",
      "metadata": {
        "id": "8UgQ97htK6xQ",
        "colab_type": "code",
        "colab": {
          "base_uri": "https://localhost:8080/",
          "height": 111
        },
        "outputId": "4278a611-7317-4f5c-82c1-4669bb62c30c"
      },
      "source": [
        "print (\"%10s\" % 'hi') # 오른쪽 정렬, hi 까지 포함해 10칸\n",
        "print (\"%-10s\" % 'hi') # 왼쪽 정렬\n",
        "\n",
        "print (\"%30.4f\" % 987654321.123456789) #전체 30칸 표현, 소수점 뒤 4자리 반올림 표현\n",
        "print (\"%30.2f\" % 987654321.123456789)\n",
        "print (\"%5.4f\" % 987654321.123456789)"
      ],
      "execution_count": 121,
      "outputs": [
        {
          "output_type": "stream",
          "text": [
            "        hi\n",
            "hi        \n",
            "                987654321.1235\n",
            "                  987654321.12\n",
            "987654321.1235\n"
          ],
          "name": "stdout"
        }
      ]
    },
    {
      "cell_type": "markdown",
      "metadata": {
        "id": "H-rB7YlSMgY_",
        "colab_type": "text"
      },
      "source": [
        "### 함수\n",
        " \n",
        "* count\n",
        "* find / index\n",
        "* join\n",
        "* upper / lower\n",
        "* lstrip - strip - rstrip\n",
        "* replace\n",
        "* split\n",
        "\n"
      ]
    },
    {
      "cell_type": "code",
      "metadata": {
        "id": "oqQ_v_ZfMZH5",
        "colab_type": "code",
        "colab": {
          "base_uri": "https://localhost:8080/",
          "height": 92
        },
        "outputId": "77eac1c9-7a19-4cfa-910c-23475333dcdc"
      },
      "source": [
        "print ('hobby'.count('b'))\n",
        "print ('Python is best choice'.find('b')) # b가 위치한 index == 10\n",
        "print ('Python is best choice'.index('b')) # find 함수와 동일한 결과\n",
        "print ('Python is best choice'.find('k')) # k가 위치한 index가 없기 때문에 -1 반환\n",
        "# print ('Python is best choice'.index('k')) # not found ERROR"
      ],
      "execution_count": 142,
      "outputs": [
        {
          "output_type": "stream",
          "text": [
            "2\n",
            "11\n",
            "11\n",
            "-1\n"
          ],
          "name": "stdout"
        }
      ]
    },
    {
      "cell_type": "code",
      "metadata": {
        "id": "oMalnjPlQHCG",
        "colab_type": "code",
        "colab": {
          "base_uri": "https://localhost:8080/",
          "height": 186
        },
        "outputId": "e375e761-d2df-4fc3-85bb-bcbef8220415"
      },
      "source": [
        "a = ','\n",
        "print(a.join('abcd'))\n",
        "\n",
        "print('hihihihihi'.upper())\n",
        "print('ASDFASDF'.lower())\n",
        "\n",
        "print('lstrip()__'+'       hi___'.lstrip())\n",
        "print('rstrip()__'+'____hi       '.rstrip())\n",
        "print('strip()__'+'      hi      '.strip())\n",
        "\n",
        "print('Life is too short'.replace('Life', 'My leg'))\n",
        "print('Life is too short'.split())\n",
        "print('a:b:c:d'.split(':'))"
      ],
      "execution_count": 146,
      "outputs": [
        {
          "output_type": "stream",
          "text": [
            "a,b,c,d\n",
            "HIHIHIHIHI\n",
            "asdfasdf\n",
            "lstrip()__hi___\n",
            "rstrip()______hi\n",
            "strip()__hi\n",
            "My leg is too short\n",
            "['Life', 'is', 'too', 'short']\n",
            "['a', 'b', 'c', 'd']\n"
          ],
          "name": "stdout"
        }
      ]
    },
    {
      "cell_type": "markdown",
      "metadata": {
        "id": "V9o9lfAUTTm0",
        "colab_type": "text"
      },
      "source": [
        "### format ()"
      ]
    },
    {
      "cell_type": "code",
      "metadata": {
        "id": "BNE0X4eTTZWN",
        "colab_type": "code",
        "colab": {
          "base_uri": "https://localhost:8080/",
          "height": 186
        },
        "outputId": "69b435f0-22f2-420b-a90f-4ad7d3468c3b"
      },
      "source": [
        "print('I eat {} apples'.format(3))\n",
        "print ('{} {} {} {}'.format('a', 'b', 'c','d'))\n",
        "\n",
        "print ('{0:<15}'.format('Google')) # :< 왼쪽정렬, 15 자리수\n",
        "print('{:>15}'.format('Google')) # :> 오른쪽 정렬, 15 자리수\n",
        "print('{:^15}'.format('Google')) # :^ 가운데 정렬\n",
        "print ('{0:=^10}'.format('hi')) # 10칸 중 공백을 = 기호로 채우기\n",
        "print('{0:0.4f}'.format(54321.123456789))\n",
        "print('{:0.4f}'.format(54321.123456789))\n",
        "\n",
        "print('{{and}}'.format())\n"
      ],
      "execution_count": 166,
      "outputs": [
        {
          "output_type": "stream",
          "text": [
            "I eat 3 apples\n",
            "a b c d\n",
            "Google         \n",
            "         Google\n",
            "    Google     \n",
            "====hi====\n",
            "54321.1235\n",
            "54321.1235\n",
            "{and}\n"
          ],
          "name": "stdout"
        }
      ]
    },
    {
      "cell_type": "markdown",
      "metadata": {
        "id": "ctiPU_2W_Jtb",
        "colab_type": "text"
      },
      "source": [
        "# 연습문제"
      ]
    },
    {
      "cell_type": "code",
      "metadata": {
        "id": "tbADNHPVCYTa",
        "colab_type": "code",
        "colab": {
          "base_uri": "https://localhost:8080/",
          "height": 35
        },
        "outputId": "aa99989f-4d3a-44d6-c8a5-f850047cc801"
      },
      "source": [
        "kim = \"881230-1078523\"\n",
        "kims = kim.split(\"-\")\n",
        "print(kims[0]+\" \"+kims[1])"
      ],
      "execution_count": 69,
      "outputs": [
        {
          "output_type": "stream",
          "text": [
            "881230 1078523\n"
          ],
          "name": "stdout"
        }
      ]
    },
    {
      "cell_type": "code",
      "metadata": {
        "id": "2LCVlMKWCkmz",
        "colab_type": "code",
        "colab": {
          "base_uri": "https://localhost:8080/",
          "height": 35
        },
        "outputId": "7546665f-acf3-4dba-a47b-a6a30f5b7d28"
      },
      "source": [
        "arr = [1,3,5,4,2]\n",
        "arr.sort(reverse=True)\n",
        "print(arr)"
      ],
      "execution_count": 72,
      "outputs": [
        {
          "output_type": "stream",
          "text": [
            "[5, 4, 3, 2, 1]\n"
          ],
          "name": "stdout"
        }
      ]
    },
    {
      "cell_type": "code",
      "metadata": {
        "id": "EqMq26aOCukq",
        "colab_type": "code",
        "colab": {
          "base_uri": "https://localhost:8080/",
          "height": 35
        },
        "outputId": "d624b467-2911-443d-927c-fba36e6342c7"
      },
      "source": [
        "arr2 = ['Life', 'is', 'too', 'short']\n",
        "line = \"\"\n",
        "for i in arr2 :\n",
        "  line += (i+\" \")\n",
        "print (line)"
      ],
      "execution_count": 77,
      "outputs": [
        {
          "output_type": "stream",
          "text": [
            "Life is too short \n"
          ],
          "name": "stdout"
        }
      ]
    },
    {
      "cell_type": "code",
      "metadata": {
        "id": "KXppbgIEDDjs",
        "colab_type": "code",
        "colab": {
          "base_uri": "https://localhost:8080/",
          "height": 35
        },
        "outputId": "f12ab272-55f6-4264-a233-b050ea338059"
      },
      "source": [
        "q4 = 'Life is too short'\n",
        "arr4 = q4.split(\" \")\n",
        "print (arr4)"
      ],
      "execution_count": 78,
      "outputs": [
        {
          "output_type": "stream",
          "text": [
            "['Life', 'is', 'too', 'short']\n"
          ],
          "name": "stdout"
        }
      ]
    },
    {
      "cell_type": "code",
      "metadata": {
        "id": "EVsqt8hQDqlS",
        "colab_type": "code",
        "colab": {
          "base_uri": "https://localhost:8080/",
          "height": 35
        },
        "outputId": "97cdb3df-fe3b-422c-cf5e-d1768ccea3d7"
      },
      "source": [
        "q5 = [1,2,3]\n",
        "q5.append(4)\n",
        "print(q5)"
      ],
      "execution_count": 80,
      "outputs": [
        {
          "output_type": "stream",
          "text": [
            "[1, 2, 3, 4]\n"
          ],
          "name": "stdout"
        }
      ]
    },
    {
      "cell_type": "code",
      "metadata": {
        "id": "n7neSF8HDvja",
        "colab_type": "code",
        "colab": {
          "base_uri": "https://localhost:8080/",
          "height": 35
        },
        "outputId": "47b613c2-8731-4644-8731-b7a75bb70a63"
      },
      "source": [
        "q6 = [1,1,1,2,2,3,3,3,4,4,5]\n",
        "temp = [i for i in range(1, len(q6)) if q6[i] != q6[i-1]  ]\n",
        "temp.append(q6[0])\n",
        "result = []\n",
        "for i in temp :\n",
        "  result.append(q6[int(i)])\n",
        "result.sort()\n",
        "print (result)"
      ],
      "execution_count": 97,
      "outputs": [
        {
          "output_type": "stream",
          "text": [
            "[1, 2, 3, 4, 5]\n"
          ],
          "name": "stdout"
        }
      ]
    },
    {
      "cell_type": "code",
      "metadata": {
        "id": "VfwN_2DJEJ-M",
        "colab_type": "code",
        "colab": {
          "base_uri": "https://localhost:8080/",
          "height": 35
        },
        "outputId": "890d0190-9493-4fb8-9420-69f693ddaac5"
      },
      "source": [
        "q7 = {\n",
        "    'A' : 90,\n",
        "    'B' : 80,\n",
        "    'C' : 70\n",
        "}\n",
        "print(q7.get('B'), q7.get('C'))"
      ],
      "execution_count": 91,
      "outputs": [
        {
          "output_type": "stream",
          "text": [
            "80 70\n"
          ],
          "name": "stdout"
        }
      ]
    },
    {
      "cell_type": "code",
      "metadata": {
        "id": "KWJ636u5Fqpj",
        "colab_type": "code",
        "colab": {
          "base_uri": "https://localhost:8080/",
          "height": 54
        },
        "outputId": "71c3df17-a324-4e41-afe7-b89cc08b364f"
      },
      "source": [
        "q8 ='I eat five apples'\n",
        "print(q8.replace('five', 'eight'))\n",
        "\n",
        "q9 = 'I ate {0} apples. So I was sick for {1} days'\n",
        "# q9 = 'I ate {1} apples. So I was sick for {0} days'\n",
        "print(q9.format('5', 'five'))"
      ],
      "execution_count": 162,
      "outputs": [
        {
          "output_type": "stream",
          "text": [
            "I eat eight apples\n",
            "I ate 5 apples. So I was sick for five days\n"
          ],
          "name": "stdout"
        }
      ]
    },
    {
      "cell_type": "code",
      "metadata": {
        "id": "tgEtb3chV1Y3",
        "colab_type": "code",
        "colab": {
          "base_uri": "https://localhost:8080/",
          "height": 73
        },
        "outputId": "07d412f7-7864-4f05-bc85-ed198b589bb8"
      },
      "source": [
        "q10 = 3.451235\n",
        "print('{:>10.4f}'.format(q10))\n",
        "print('{:<10.4f}'.format(q10))\n",
        "print('{:^10.4f}'.format(q10))"
      ],
      "execution_count": 173,
      "outputs": [
        {
          "output_type": "stream",
          "text": [
            "    3.4512\n",
            "3.4512    \n",
            "  3.4512  \n"
          ],
          "name": "stdout"
        }
      ]
    },
    {
      "cell_type": "markdown",
      "metadata": {
        "id": "mcRhKcpHZZFO",
        "colab_type": "text"
      },
      "source": [
        "# LIST 자료형 복사\n",
        "슬라이싱을 통한 복사\n",
        "\n",
        "id 함수 : 변수가 가리키고 있는 객체의 주소값 반환"
      ]
    },
    {
      "cell_type": "code",
      "metadata": {
        "id": "vX9W8YHFxuJx",
        "colab_type": "code",
        "colab": {
          "base_uri": "https://localhost:8080/",
          "height": 167
        },
        "outputId": "be8711d1-86d0-4768-cecb-ac851d8c364e"
      },
      "source": [
        "a = [1,2,3]\n",
        "b = a\n",
        "a[1] =4\n",
        "print (\"a : \", a )\n",
        "print (\"b : \", b )\n",
        "print (\"id(a) : \", id(a))\n",
        "print (\"id(b) : \", id(b))\n",
        "\n",
        "a = [1,2,3]\n",
        "b = a[:]\n",
        "a[1] =4\n",
        "print (\"a : \", a )\n",
        "print (\"b : \", b )\n",
        "print (\"id(a) : \", id(a))\n",
        "print (\"id(b) : \", id(b))"
      ],
      "execution_count": 180,
      "outputs": [
        {
          "output_type": "stream",
          "text": [
            "a :  [1, 4, 3]\n",
            "b :  [1, 4, 3]\n",
            "id(a) :  140370158054536\n",
            "id(b) :  140370158054536\n",
            "a :  [1, 4, 3]\n",
            "b :  [1, 2, 3]\n",
            "id(a) :  140370722298824\n",
            "id(b) :  140370713036040\n"
          ],
          "name": "stdout"
        }
      ]
    },
    {
      "cell_type": "markdown",
      "metadata": {
        "id": "2bEdd6tRx0wW",
        "colab_type": "text"
      },
      "source": [
        "# 제어문\n",
        "### if - else - elif\n",
        "### for"
      ]
    },
    {
      "cell_type": "code",
      "metadata": {
        "id": "1hdXFzHyy5vi",
        "colab_type": "code",
        "colab": {
          "base_uri": "https://localhost:8080/",
          "height": 35
        },
        "outputId": "986490ba-d221-447b-c61a-7187c702c8f3"
      },
      "source": [
        "x, y = 1, 2\n",
        "if x >= y :  print ('x >= y')\n",
        "else : print ('y > x')"
      ],
      "execution_count": 185,
      "outputs": [
        {
          "output_type": "stream",
          "text": [
            "y > x\n"
          ],
          "name": "stdout"
        }
      ]
    },
    {
      "cell_type": "code",
      "metadata": {
        "id": "46pOJ2IDy74F",
        "colab_type": "code",
        "colab": {
          "base_uri": "https://localhost:8080/",
          "height": 35
        },
        "outputId": "ab3783f5-3e4e-4372-d7c4-db6f9a04a99d"
      },
      "source": [
        "money = 2000\n",
        "if money >= 300 : print ('Taxi')\n",
        "else : print ('Walk')"
      ],
      "execution_count": 187,
      "outputs": [
        {
          "output_type": "stream",
          "text": [
            "Taxi\n"
          ],
          "name": "stdout"
        }
      ]
    },
    {
      "cell_type": "code",
      "metadata": {
        "id": "Xjdgs9-mzm0l",
        "colab_type": "code",
        "colab": {
          "base_uri": "https://localhost:8080/",
          "height": 35
        },
        "outputId": "ff3cb617-b5e6-4c86-fc3c-87142c400f43"
      },
      "source": [
        "money = 2000\n",
        "card = \"card\"\n",
        "if money >= 3000 or card != None : print (\"Taxi\")\n",
        "else : print(\"Walk\")"
      ],
      "execution_count": 189,
      "outputs": [
        {
          "output_type": "stream",
          "text": [
            "Taxi\n"
          ],
          "name": "stdout"
        }
      ]
    },
    {
      "cell_type": "code",
      "metadata": {
        "id": "FUbAGb5C0F9N",
        "colab_type": "code",
        "colab": {
          "base_uri": "https://localhost:8080/",
          "height": 35
        },
        "outputId": "dadcb6fb-52ef-419d-84db-d0ddae75b680"
      },
      "source": [
        "x, y = 1, 2\n",
        "if x > y : print ('x > y')\n",
        "elif x==y : print ('x = y')\n",
        "else : print ('x < y')"
      ],
      "execution_count": 192,
      "outputs": [
        {
          "output_type": "stream",
          "text": [
            "x < y\n"
          ],
          "name": "stdout"
        }
      ]
    },
    {
      "cell_type": "code",
      "metadata": {
        "id": "U6jFJkAO1BwV",
        "colab_type": "code",
        "colab": {
          "base_uri": "https://localhost:8080/",
          "height": 35
        },
        "outputId": "c160ffc1-1496-47cd-ec81-3eea9562ae03"
      },
      "source": [
        "scope = [1,2,3,4,5]\n",
        "for x in scope :\n",
        "  print(x, end=' ')"
      ],
      "execution_count": 197,
      "outputs": [
        {
          "output_type": "stream",
          "text": [
            "1 2 3 4 5 "
          ],
          "name": "stdout"
        }
      ]
    },
    {
      "cell_type": "code",
      "metadata": {
        "id": "mUWfnkrz1qxF",
        "colab_type": "code",
        "colab": {
          "base_uri": "https://localhost:8080/",
          "height": 35
        },
        "outputId": "a3bb5e31-e660-46a1-a066-e23f25ce38d6"
      },
      "source": [
        "scope = [1,2,3,4,5]\n",
        "for x in scope : \n",
        "  print (x, end='\\t')\n",
        "  if x < 3 : continue\n",
        "  else : break"
      ],
      "execution_count": 199,
      "outputs": [
        {
          "output_type": "stream",
          "text": [
            "1\t2\t3\t"
          ],
          "name": "stdout"
        }
      ]
    },
    {
      "cell_type": "code",
      "metadata": {
        "id": "A6crqEE92arL",
        "colab_type": "code",
        "colab": {
          "base_uri": "https://localhost:8080/",
          "height": 35
        },
        "outputId": "ef81d3ae-e0d5-44ad-b771-0dd081162c8e"
      },
      "source": [
        "sum = 0\n",
        "for i in range(1,11) :\n",
        "  sum += i\n",
        "print (sum)"
      ],
      "execution_count": 202,
      "outputs": [
        {
          "output_type": "stream",
          "text": [
            "55\n"
          ],
          "name": "stdout"
        }
      ]
    },
    {
      "cell_type": "code",
      "metadata": {
        "id": "ll2BhR0p7CFO",
        "colab_type": "code",
        "colab": {
          "base_uri": "https://localhost:8080/",
          "height": 73
        },
        "outputId": "23ef7b57-be07-45d9-87d5-bb4f6e269323"
      },
      "source": [
        "marks = [90,25,67,45,80]\n",
        "for num in range(len(marks)) :\n",
        "  if marks[num] < 60 : continue\n",
        "  print(\"{} 번 학생 축하~\".format(num+1))"
      ],
      "execution_count": 204,
      "outputs": [
        {
          "output_type": "stream",
          "text": [
            "1 번 학생 축하~\n",
            "3 번 학생 축하~\n",
            "5 번 학생 축하~\n"
          ],
          "name": "stdout"
        }
      ]
    },
    {
      "cell_type": "code",
      "metadata": {
        "id": "ntZ5sduU8cqT",
        "colab_type": "code",
        "colab": {
          "base_uri": "https://localhost:8080/",
          "height": 470
        },
        "outputId": "ea5d3569-6a93-411b-f704-d1238ba5aafc"
      },
      "source": [
        "for i in range(2, 10) :\n",
        "  print(i,\"단\\t\")\n",
        "  for j in range(1, 10) :\n",
        "    print (i*j, end='\\t')\n",
        "  print ('\\n')"
      ],
      "execution_count": 214,
      "outputs": [
        {
          "output_type": "stream",
          "text": [
            "2 단\t\n",
            "2\t4\t6\t8\t10\t12\t14\t16\t18\t\n",
            "\n",
            "3 단\t\n",
            "3\t6\t9\t12\t15\t18\t21\t24\t27\t\n",
            "\n",
            "4 단\t\n",
            "4\t8\t12\t16\t20\t24\t28\t32\t36\t\n",
            "\n",
            "5 단\t\n",
            "5\t10\t15\t20\t25\t30\t35\t40\t45\t\n",
            "\n",
            "6 단\t\n",
            "6\t12\t18\t24\t30\t36\t42\t48\t54\t\n",
            "\n",
            "7 단\t\n",
            "7\t14\t21\t28\t35\t42\t49\t56\t63\t\n",
            "\n",
            "8 단\t\n",
            "8\t16\t24\t32\t40\t48\t56\t64\t72\t\n",
            "\n",
            "9 단\t\n",
            "9\t18\t27\t36\t45\t54\t63\t72\t81\t\n",
            "\n"
          ],
          "name": "stdout"
        }
      ]
    },
    {
      "cell_type": "markdown",
      "metadata": {
        "id": "PyqG0BMm-MPT",
        "colab_type": "text"
      },
      "source": [
        "#### 연습문제"
      ]
    },
    {
      "cell_type": "code",
      "metadata": {
        "id": "vsw9F_wh-eqH",
        "colab_type": "code",
        "colab": {
          "base_uri": "https://localhost:8080/",
          "height": 92
        },
        "outputId": "762e610c-8baf-41ce-ae21-f510391f9ad9"
      },
      "source": [
        "scope1 = [1,2,3,4,5]\n",
        "for i in scope1 :\n",
        "  if i >3 : break\n",
        "  print (i)\n",
        "  if i == 3 : print ('perfect')"
      ],
      "execution_count": 216,
      "outputs": [
        {
          "output_type": "stream",
          "text": [
            "1\n",
            "2\n",
            "3\n",
            "perfect\n"
          ],
          "name": "stdout"
        }
      ]
    },
    {
      "cell_type": "code",
      "metadata": {
        "id": "aAdud97G-y8Z",
        "colab_type": "code",
        "colab": {
          "base_uri": "https://localhost:8080/",
          "height": 35
        },
        "outputId": "7c246274-3b42-46b4-b49f-9dafbe2abdbd"
      },
      "source": [
        "import sys\n",
        "sum = 0\n",
        "for i in range(1, sys.maxsize) :\n",
        "  sum += i\n",
        "  if sum > 100000 :\n",
        "    print('sum == {}\\ti == {}'.format(sum, i))\n",
        "    break\n",
        "\n",
        "# while loop으로 해결 방법\n",
        "\n",
        "# while True:\n",
        "#   sum += 1\n",
        "#   if sum > 100000 :\n",
        "#     print('sum == {}\\ti == {}'.format(sum, i))\n",
        "#     break \n",
        "#   i -= 1"
      ],
      "execution_count": 218,
      "outputs": [
        {
          "output_type": "stream",
          "text": [
            "sum == 100128\ti == 447\n"
          ],
          "name": "stdout"
        }
      ]
    },
    {
      "cell_type": "code",
      "metadata": {
        "id": "xfLepiybAD7L",
        "colab_type": "code",
        "colab": {
          "base_uri": "https://localhost:8080/",
          "height": 35
        },
        "outputId": "e7e896e9-b82c-4638-e451-eefd52f06980"
      },
      "source": [
        "i = 1000\n",
        "sum = 0\n",
        "while i >0 :\n",
        "  if i % 3 == 0 : \n",
        "    sum += i\n",
        "  i-=1\n",
        "print (sum)"
      ],
      "execution_count": 220,
      "outputs": [
        {
          "output_type": "stream",
          "text": [
            "166833\n"
          ],
          "name": "stdout"
        }
      ]
    },
    {
      "cell_type": "code",
      "metadata": {
        "id": "rZchDCBuA4Yy",
        "colab_type": "code",
        "colab": {}
      },
      "source": [
        ""
      ],
      "execution_count": 0,
      "outputs": []
    }
  ]
}