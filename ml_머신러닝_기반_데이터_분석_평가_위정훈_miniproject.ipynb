{
  "nbformat": 4,
  "nbformat_minor": 0,
  "metadata": {
    "kernelspec": {
      "display_name": "Python 3",
      "language": "python",
      "name": "python3"
    },
    "language_info": {
      "codemirror_mode": {
        "name": "ipython",
        "version": 3
      },
      "file_extension": ".py",
      "mimetype": "text/x-python",
      "name": "python",
      "nbconvert_exporter": "python",
      "pygments_lexer": "ipython3",
      "version": "3.7.4"
    },
    "colab": {
      "name": "ml_머신러닝 기반 데이터 분석_평가_위정훈_miniproject.ipynb",
      "provenance": [],
      "collapsed_sections": [],
      "include_colab_link": true
    }
  },
  "cells": [
    {
      "cell_type": "markdown",
      "metadata": {
        "id": "view-in-github",
        "colab_type": "text"
      },
      "source": [
        "<a href=\"https://colab.research.google.com/github/ezerwi/python-lecture/blob/master/ml_%E1%84%86%E1%85%A5%E1%84%89%E1%85%B5%E1%86%AB%E1%84%85%E1%85%A5%E1%84%82%E1%85%B5%E1%86%BC_%E1%84%80%E1%85%B5%E1%84%87%E1%85%A1%E1%86%AB_%E1%84%83%E1%85%A6%E1%84%8B%E1%85%B5%E1%84%90%E1%85%A5_%E1%84%87%E1%85%AE%E1%86%AB%E1%84%89%E1%85%A5%E1%86%A8_%E1%84%91%E1%85%A7%E1%86%BC%E1%84%80%E1%85%A1_%E1%84%8B%E1%85%B1%E1%84%8C%E1%85%A5%E1%86%BC%E1%84%92%E1%85%AE%E1%86%AB_miniproject.ipynb\" target=\"_parent\"><img src=\"https://colab.research.google.com/assets/colab-badge.svg\" alt=\"Open In Colab\"/></a>"
      ]
    },
    {
      "cell_type": "markdown",
      "metadata": {
        "id": "NIC7AfA6r7tM",
        "colab_type": "text"
      },
      "source": [
        "## 훈련과정 : R·파이썬 기반 빅데이터 분석 전문가 양성과정\n",
        "- 교과목 평가 : 머신러닝 기반 데이터 분석\n",
        "- 성명 : 위정훈\n",
        "- 점수 :"
      ]
    },
    {
      "cell_type": "markdown",
      "metadata": {
        "id": "gMhDfuD9r7tr",
        "colab_type": "text"
      },
      "source": [
        "### Q. 아래사항을 준수하여 타이타닉 생존자 예측모델을 개발하세요.\n",
        "\n",
        "- 데이터 : \n",
        "  - 제공 데이터 파일 : titanic3.csv\n",
        "  - 훈련/검증용 데이터 : 평가 데이터 = 8 : 2\n",
        "  - 훈련/검증용 데이터로 모델 학습 및 검증하고 평가 데이터는 최종 평가에만 사용\n",
        "\n",
        "\n",
        "- 모델 개발 방법 :\n",
        "  - 데이터 전처리 및 탐색적 분석을 통하여 파생변수 최소 2개 이상 개발\n",
        "  - 알고리즘은 최소한 3개 이상 적용(Decision Tree, Random Forest, Logistic Regression은 필수)\n",
        "\n",
        "\n",
        "- 훈련 및 평가 방법 :\n",
        "  - GridSearchCV API를 활용하여 교차검증 및 최적 하이퍼파라미터 찾아서 학습 및 검증 수행"
      ]
    },
    {
      "cell_type": "markdown",
      "metadata": {
        "id": "c0wIKm-U7wGK",
        "colab_type": "text"
      },
      "source": [
        "# import libraries and set korean font"
      ]
    },
    {
      "cell_type": "code",
      "metadata": {
        "id": "oDIrKvvWr_yw",
        "colab_type": "code",
        "colab": {}
      },
      "source": [
        "import pandas as pd\n",
        "import numpy as np\n",
        "import seaborn as sns\n",
        "from sklearn.preprocessing import LabelEncoder\n",
        "import matplotlib\n",
        "import matplotlib.pyplot as plt\n",
        "import matplotlib.font_manager as fm  # 폰트 관련 용도"
      ],
      "execution_count": 0,
      "outputs": []
    },
    {
      "cell_type": "markdown",
      "metadata": {
        "id": "Nw4H9lpTp4oI",
        "colab_type": "text"
      },
      "source": [
        "나눔 폰트 설치"
      ]
    },
    {
      "cell_type": "code",
      "metadata": {
        "id": "Cbon1GRHtvae",
        "colab_type": "code",
        "outputId": "a402d9ca-9720-458f-b66a-7da8753e9365",
        "colab": {
          "base_uri": "https://localhost:8080/",
          "height": 338
        }
      },
      "source": [
        "!apt-get update -qq\n",
        "!apt-get install fonts-nanum* -qq"
      ],
      "execution_count": 0,
      "outputs": [
        {
          "output_type": "stream",
          "text": [
            "Selecting previously unselected package fonts-nanum.\n",
            "(Reading database ... 133872 files and directories currently installed.)\n",
            "Preparing to unpack .../fonts-nanum_20170925-1_all.deb ...\n",
            "Unpacking fonts-nanum (20170925-1) ...\n",
            "Selecting previously unselected package fonts-nanum-eco.\n",
            "Preparing to unpack .../fonts-nanum-eco_1.000-6_all.deb ...\n",
            "Unpacking fonts-nanum-eco (1.000-6) ...\n",
            "Selecting previously unselected package fonts-nanum-extra.\n",
            "Preparing to unpack .../fonts-nanum-extra_20170925-1_all.deb ...\n",
            "Unpacking fonts-nanum-extra (20170925-1) ...\n",
            "Selecting previously unselected package fonts-nanum-coding.\n",
            "Preparing to unpack .../fonts-nanum-coding_2.5-1_all.deb ...\n",
            "Unpacking fonts-nanum-coding (2.5-1) ...\n",
            "Setting up fonts-nanum-extra (20170925-1) ...\n",
            "Setting up fonts-nanum (20170925-1) ...\n",
            "Setting up fonts-nanum-coding (2.5-1) ...\n",
            "Setting up fonts-nanum-eco (1.000-6) ...\n",
            "Processing triggers for fontconfig (2.12.6-0ubuntu2) ...\n"
          ],
          "name": "stdout"
        }
      ]
    },
    {
      "cell_type": "code",
      "metadata": {
        "id": "I4v_xUOIt2il",
        "colab_type": "code",
        "outputId": "08a2832f-5ae0-4c63-c051-96de1972bf32",
        "colab": {
          "base_uri": "https://localhost:8080/",
          "height": 607
        }
      },
      "source": [
        "sys_font=fm.findSystemFonts()\n",
        "print(f\"sys_font number: {len(sys_font)}\")\n",
        "\n",
        "nanum_font = [f for f in sys_font if 'Nanum' in f]\n",
        "print(f\"nanum_font number: {len(nanum_font)}\")\n",
        "\n",
        "nanum_font"
      ],
      "execution_count": 0,
      "outputs": [
        {
          "output_type": "stream",
          "text": [
            "sys_font number: 48\n",
            "nanum_font number: 31\n"
          ],
          "name": "stdout"
        },
        {
          "output_type": "execute_result",
          "data": {
            "text/plain": [
              "['/usr/share/fonts/truetype/nanum/NanumGothicBold.ttf',\n",
              " '/usr/share/fonts/truetype/nanum/NanumSquareRoundB.ttf',\n",
              " '/usr/share/fonts/truetype/nanum/NanumMyeongjoEcoBold.ttf',\n",
              " '/usr/share/fonts/truetype/nanum/NanumBrush.ttf',\n",
              " '/usr/share/fonts/truetype/nanum/NanumBarunpenR.ttf',\n",
              " '/usr/share/fonts/truetype/nanum/NanumMyeongjoBold.ttf',\n",
              " '/usr/share/fonts/truetype/nanum/NanumGothicEcoBold.ttf',\n",
              " '/usr/share/fonts/truetype/nanum/NanumSquareRoundL.ttf',\n",
              " '/usr/share/fonts/truetype/nanum/NanumGothicExtraBold.ttf',\n",
              " '/usr/share/fonts/truetype/nanum/NanumGothicCoding.ttf',\n",
              " '/usr/share/fonts/truetype/nanum/NanumSquareR.ttf',\n",
              " '/usr/share/fonts/truetype/nanum/NanumMyeongjoEcoExtraBold.ttf',\n",
              " '/usr/share/fonts/truetype/nanum/NanumSquareRoundEB.ttf',\n",
              " '/usr/share/fonts/truetype/nanum/NanumSquareB.ttf',\n",
              " '/usr/share/fonts/truetype/nanum/NanumMyeongjoEco.ttf',\n",
              " '/usr/share/fonts/truetype/nanum/NanumGothic.ttf',\n",
              " '/usr/share/fonts/truetype/nanum/NanumBarunGothic.ttf',\n",
              " '/usr/share/fonts/truetype/nanum/NanumMyeongjoExtraBold.ttf',\n",
              " '/usr/share/fonts/truetype/nanum/NanumSquareRoundR.ttf',\n",
              " '/usr/share/fonts/truetype/nanum/NanumMyeongjo.ttf',\n",
              " '/usr/share/fonts/truetype/nanum/NanumBarunpenB.ttf',\n",
              " '/usr/share/fonts/truetype/nanum/NanumBarunGothicLight.ttf',\n",
              " '/usr/share/fonts/truetype/nanum/NanumSquareEB.ttf',\n",
              " '/usr/share/fonts/truetype/nanum/NanumSquareL.ttf',\n",
              " '/usr/share/fonts/truetype/nanum/NanumBarunGothicBold.ttf',\n",
              " '/usr/share/fonts/truetype/nanum/NanumGothicCoding-Bold.ttf',\n",
              " '/usr/share/fonts/truetype/nanum/NanumGothicEco.ttf',\n",
              " '/usr/share/fonts/truetype/nanum/NanumGothicEcoExtraBold.ttf',\n",
              " '/usr/share/fonts/truetype/nanum/NanumPen.ttf',\n",
              " '/usr/share/fonts/truetype/nanum/NanumGothicLight.ttf',\n",
              " '/usr/share/fonts/truetype/nanum/NanumBarunGothicUltraLight.ttf']"
            ]
          },
          "metadata": {
            "tags": []
          },
          "execution_count": 3
        }
      ]
    },
    {
      "cell_type": "code",
      "metadata": {
        "id": "HnGRiR-uuFpH",
        "colab_type": "code",
        "outputId": "813b69ee-8f44-46d8-d40b-2c819f923da3",
        "colab": {
          "base_uri": "https://localhost:8080/",
          "height": 34
        }
      },
      "source": [
        "path =  '/usr/share/fonts/truetype/nanum/NanumBarunGothicLight.ttf'  \n",
        "font_name = fm.FontProperties(fname=path, size=10).get_name()\n",
        "print(font_name)\n",
        "plt.rc('font', family=font_name)\n",
        "plt.rcParams[\"font.family\"] = font_name\n",
        "matplotlib.rcParams['axes.unicode_minus'] = False\n",
        "\n",
        "fm._rebuild()"
      ],
      "execution_count": 0,
      "outputs": [
        {
          "output_type": "stream",
          "text": [
            "NanumBarunGothic\n"
          ],
          "name": "stdout"
        }
      ]
    },
    {
      "cell_type": "markdown",
      "metadata": {
        "id": "YXyd3VNstclp",
        "colab_type": "text"
      },
      "source": [
        "# import data file"
      ]
    },
    {
      "cell_type": "code",
      "metadata": {
        "id": "lI4jkcl5slgy",
        "colab_type": "code",
        "outputId": "b42d48a9-2eac-4fd4-c0ee-4d79337b2d8b",
        "colab": {
          "base_uri": "https://localhost:8080/",
          "height": 570
        }
      },
      "source": [
        "tt = pd.read_csv('titanic3.csv')\n",
        "display (tt.sample(5))\n",
        "\n",
        "print ('\\n',tt.info())"
      ],
      "execution_count": 6,
      "outputs": [
        {
          "output_type": "display_data",
          "data": {
            "text/html": [
              "<div>\n",
              "<style scoped>\n",
              "    .dataframe tbody tr th:only-of-type {\n",
              "        vertical-align: middle;\n",
              "    }\n",
              "\n",
              "    .dataframe tbody tr th {\n",
              "        vertical-align: top;\n",
              "    }\n",
              "\n",
              "    .dataframe thead th {\n",
              "        text-align: right;\n",
              "    }\n",
              "</style>\n",
              "<table border=\"1\" class=\"dataframe\">\n",
              "  <thead>\n",
              "    <tr style=\"text-align: right;\">\n",
              "      <th></th>\n",
              "      <th>pclass</th>\n",
              "      <th>survived</th>\n",
              "      <th>name</th>\n",
              "      <th>sex</th>\n",
              "      <th>age</th>\n",
              "      <th>sibsp</th>\n",
              "      <th>parch</th>\n",
              "      <th>ticket</th>\n",
              "      <th>fare</th>\n",
              "      <th>cabin</th>\n",
              "      <th>embarked</th>\n",
              "      <th>boat</th>\n",
              "      <th>body</th>\n",
              "      <th>home.dest</th>\n",
              "    </tr>\n",
              "  </thead>\n",
              "  <tbody>\n",
              "    <tr>\n",
              "      <th>792</th>\n",
              "      <td>3</td>\n",
              "      <td>0</td>\n",
              "      <td>Elias, Mr. Tannous</td>\n",
              "      <td>male</td>\n",
              "      <td>15.0</td>\n",
              "      <td>1</td>\n",
              "      <td>1</td>\n",
              "      <td>2695</td>\n",
              "      <td>7.2292</td>\n",
              "      <td>NaN</td>\n",
              "      <td>C</td>\n",
              "      <td>NaN</td>\n",
              "      <td>NaN</td>\n",
              "      <td>Syria</td>\n",
              "    </tr>\n",
              "    <tr>\n",
              "      <th>781</th>\n",
              "      <td>3</td>\n",
              "      <td>0</td>\n",
              "      <td>Drazenoic, Mr. Jozef</td>\n",
              "      <td>male</td>\n",
              "      <td>33.0</td>\n",
              "      <td>0</td>\n",
              "      <td>0</td>\n",
              "      <td>349241</td>\n",
              "      <td>7.8958</td>\n",
              "      <td>NaN</td>\n",
              "      <td>C</td>\n",
              "      <td>NaN</td>\n",
              "      <td>51.0</td>\n",
              "      <td>Austria Niagara Falls, NY</td>\n",
              "    </tr>\n",
              "    <tr>\n",
              "      <th>220</th>\n",
              "      <td>1</td>\n",
              "      <td>1</td>\n",
              "      <td>Ostby, Miss. Helene Ragnhild</td>\n",
              "      <td>female</td>\n",
              "      <td>22.0</td>\n",
              "      <td>0</td>\n",
              "      <td>1</td>\n",
              "      <td>113509</td>\n",
              "      <td>61.9792</td>\n",
              "      <td>B36</td>\n",
              "      <td>C</td>\n",
              "      <td>5</td>\n",
              "      <td>NaN</td>\n",
              "      <td>Providence, RI</td>\n",
              "    </tr>\n",
              "    <tr>\n",
              "      <th>414</th>\n",
              "      <td>2</td>\n",
              "      <td>0</td>\n",
              "      <td>Gale, Mr. Shadrach</td>\n",
              "      <td>male</td>\n",
              "      <td>34.0</td>\n",
              "      <td>1</td>\n",
              "      <td>0</td>\n",
              "      <td>28664</td>\n",
              "      <td>21.0000</td>\n",
              "      <td>NaN</td>\n",
              "      <td>S</td>\n",
              "      <td>NaN</td>\n",
              "      <td>NaN</td>\n",
              "      <td>Cornwall / Clear Creek, CO</td>\n",
              "    </tr>\n",
              "    <tr>\n",
              "      <th>960</th>\n",
              "      <td>3</td>\n",
              "      <td>0</td>\n",
              "      <td>Lemberopolous, Mr. Peter L</td>\n",
              "      <td>male</td>\n",
              "      <td>34.5</td>\n",
              "      <td>0</td>\n",
              "      <td>0</td>\n",
              "      <td>2683</td>\n",
              "      <td>6.4375</td>\n",
              "      <td>NaN</td>\n",
              "      <td>C</td>\n",
              "      <td>NaN</td>\n",
              "      <td>196.0</td>\n",
              "      <td>NaN</td>\n",
              "    </tr>\n",
              "  </tbody>\n",
              "</table>\n",
              "</div>"
            ],
            "text/plain": [
              "     pclass  survived  ...   body                   home.dest\n",
              "792       3         0  ...    NaN                       Syria\n",
              "781       3         0  ...   51.0   Austria Niagara Falls, NY\n",
              "220       1         1  ...    NaN              Providence, RI\n",
              "414       2         0  ...    NaN  Cornwall / Clear Creek, CO\n",
              "960       3         0  ...  196.0                         NaN\n",
              "\n",
              "[5 rows x 14 columns]"
            ]
          },
          "metadata": {
            "tags": []
          }
        },
        {
          "output_type": "stream",
          "text": [
            "<class 'pandas.core.frame.DataFrame'>\n",
            "RangeIndex: 1309 entries, 0 to 1308\n",
            "Data columns (total 14 columns):\n",
            "pclass       1309 non-null int64\n",
            "survived     1309 non-null int64\n",
            "name         1309 non-null object\n",
            "sex          1309 non-null object\n",
            "age          1046 non-null float64\n",
            "sibsp        1309 non-null int64\n",
            "parch        1309 non-null int64\n",
            "ticket       1309 non-null object\n",
            "fare         1308 non-null float64\n",
            "cabin        295 non-null object\n",
            "embarked     1307 non-null object\n",
            "boat         486 non-null object\n",
            "body         121 non-null float64\n",
            "home.dest    745 non-null object\n",
            "dtypes: float64(3), int64(4), object(7)\n",
            "memory usage: 143.3+ KB\n",
            "\n",
            " None\n"
          ],
          "name": "stdout"
        }
      ]
    },
    {
      "cell_type": "markdown",
      "metadata": {
        "id": "Q39ekpCasqoE",
        "colab_type": "text"
      },
      "source": [
        "# Preprocessing"
      ]
    },
    {
      "cell_type": "markdown",
      "metadata": {
        "id": "gQT-I9q68HOU",
        "colab_type": "text"
      },
      "source": [
        "## drop unnecessary columns"
      ]
    },
    {
      "cell_type": "code",
      "metadata": {
        "id": "U4nmbz88tbNn",
        "colab_type": "code",
        "colab": {
          "base_uri": "https://localhost:8080/",
          "height": 194
        },
        "outputId": "3bde8e4b-d920-403f-c807-73bb84494058"
      },
      "source": [
        "tt.drop(['name','ticket','embarked','body','home.dest',], axis=1, inplace=True)\n",
        "\n",
        "display (tt.sample(5))"
      ],
      "execution_count": 7,
      "outputs": [
        {
          "output_type": "display_data",
          "data": {
            "text/html": [
              "<div>\n",
              "<style scoped>\n",
              "    .dataframe tbody tr th:only-of-type {\n",
              "        vertical-align: middle;\n",
              "    }\n",
              "\n",
              "    .dataframe tbody tr th {\n",
              "        vertical-align: top;\n",
              "    }\n",
              "\n",
              "    .dataframe thead th {\n",
              "        text-align: right;\n",
              "    }\n",
              "</style>\n",
              "<table border=\"1\" class=\"dataframe\">\n",
              "  <thead>\n",
              "    <tr style=\"text-align: right;\">\n",
              "      <th></th>\n",
              "      <th>pclass</th>\n",
              "      <th>survived</th>\n",
              "      <th>sex</th>\n",
              "      <th>age</th>\n",
              "      <th>sibsp</th>\n",
              "      <th>parch</th>\n",
              "      <th>fare</th>\n",
              "      <th>cabin</th>\n",
              "      <th>boat</th>\n",
              "    </tr>\n",
              "  </thead>\n",
              "  <tbody>\n",
              "    <tr>\n",
              "      <th>409</th>\n",
              "      <td>2</td>\n",
              "      <td>0</td>\n",
              "      <td>male</td>\n",
              "      <td>36.0</td>\n",
              "      <td>0</td>\n",
              "      <td>0</td>\n",
              "      <td>13.0000</td>\n",
              "      <td>NaN</td>\n",
              "      <td>NaN</td>\n",
              "    </tr>\n",
              "    <tr>\n",
              "      <th>873</th>\n",
              "      <td>3</td>\n",
              "      <td>0</td>\n",
              "      <td>male</td>\n",
              "      <td>42.0</td>\n",
              "      <td>0</td>\n",
              "      <td>0</td>\n",
              "      <td>7.6500</td>\n",
              "      <td>F G63</td>\n",
              "      <td>NaN</td>\n",
              "    </tr>\n",
              "    <tr>\n",
              "      <th>384</th>\n",
              "      <td>2</td>\n",
              "      <td>0</td>\n",
              "      <td>male</td>\n",
              "      <td>NaN</td>\n",
              "      <td>0</td>\n",
              "      <td>0</td>\n",
              "      <td>0.0000</td>\n",
              "      <td>NaN</td>\n",
              "      <td>NaN</td>\n",
              "    </tr>\n",
              "    <tr>\n",
              "      <th>877</th>\n",
              "      <td>3</td>\n",
              "      <td>0</td>\n",
              "      <td>female</td>\n",
              "      <td>27.0</td>\n",
              "      <td>1</td>\n",
              "      <td>0</td>\n",
              "      <td>7.9250</td>\n",
              "      <td>NaN</td>\n",
              "      <td>NaN</td>\n",
              "    </tr>\n",
              "    <tr>\n",
              "      <th>1137</th>\n",
              "      <td>3</td>\n",
              "      <td>0</td>\n",
              "      <td>male</td>\n",
              "      <td>NaN</td>\n",
              "      <td>0</td>\n",
              "      <td>0</td>\n",
              "      <td>7.2292</td>\n",
              "      <td>NaN</td>\n",
              "      <td>NaN</td>\n",
              "    </tr>\n",
              "  </tbody>\n",
              "</table>\n",
              "</div>"
            ],
            "text/plain": [
              "      pclass  survived     sex   age  sibsp  parch     fare  cabin boat\n",
              "409        2         0    male  36.0      0      0  13.0000    NaN  NaN\n",
              "873        3         0    male  42.0      0      0   7.6500  F G63  NaN\n",
              "384        2         0    male   NaN      0      0   0.0000    NaN  NaN\n",
              "877        3         0  female  27.0      1      0   7.9250    NaN  NaN\n",
              "1137       3         0    male   NaN      0      0   7.2292    NaN  NaN"
            ]
          },
          "metadata": {
            "tags": []
          }
        }
      ]
    },
    {
      "cell_type": "markdown",
      "metadata": {
        "id": "rIkpe92Y9yBc",
        "colab_type": "text"
      },
      "source": [
        "### null data formatting\n",
        "\n",
        " - `isnull().sum()` 함수 통해 null 값 있는 columns 확인\n",
        " - `unique()` 함수 통해 data들의 형태 확인"
      ]
    },
    {
      "cell_type": "code",
      "metadata": {
        "id": "RuFC4oVt9xC3",
        "colab_type": "code",
        "colab": {
          "base_uri": "https://localhost:8080/",
          "height": 1000
        },
        "outputId": "d621ce98-7b96-48b3-f395-aa10df85f2b4"
      },
      "source": [
        "print (tt.isnull().sum())\n",
        "\n",
        "print ( f'{tt.age.unique()}\\n\\n{tt.fare.unique()}\\n\\n{tt.cabin.unique()}\\n\\n{tt.boat.unique()}')"
      ],
      "execution_count": 9,
      "outputs": [
        {
          "output_type": "stream",
          "text": [
            "pclass         0\n",
            "survived       0\n",
            "sex            0\n",
            "age          263\n",
            "sibsp          0\n",
            "parch          0\n",
            "fare           1\n",
            "cabin       1014\n",
            "boat         823\n",
            "dtype: int64\n",
            "[29.    0.92  2.   30.   25.   48.   63.   39.   53.   71.   47.   18.\n",
            " 24.   26.   80.     nan 50.   32.   36.   37.   42.   19.   35.   28.\n",
            " 45.   40.   58.   22.   41.   44.   59.   60.   33.   17.   11.   14.\n",
            " 49.   76.   46.   27.   64.   55.   70.   38.   51.   31.    4.   54.\n",
            " 23.   43.   52.   16.   32.5  21.   15.   65.   28.5  45.5  56.   13.\n",
            " 61.   34.    6.   57.   62.   67.    1.   12.   20.    0.83  8.    0.67\n",
            "  7.    3.   36.5  18.5   5.   66.    9.    0.75 70.5  22.5   0.33  0.17\n",
            " 40.5  10.   23.5  34.5  20.5  30.5  55.5  38.5  14.5  24.5  60.5  74.\n",
            "  0.42 11.5  26.5 ]\n",
            "\n",
            "[211.3375 151.55    26.55    77.9583   0.      51.4792  49.5042 227.525\n",
            "  69.3     78.85    30.      25.925  247.5208  76.2917  75.2417  52.5542\n",
            " 221.7792  26.      91.0792 135.6333  35.5     31.     164.8667 262.375\n",
            "  55.      30.5     50.4958  39.6     27.7208 134.5     26.2875  27.4458\n",
            " 512.3292   5.      47.1    120.      61.175   53.1     86.5     29.7\n",
            " 136.7792  52.      25.5875  83.1583  25.7     71.      71.2833  57.\n",
            "  81.8583 106.425   56.9292  78.2667  31.6792  31.6833 110.8833  26.3875\n",
            "  27.75   263.     133.65    49.5     79.2     38.5    211.5     59.4\n",
            "  89.1042  34.6542  28.5    153.4625  63.3583  55.4417  76.7292  42.4\n",
            "  83.475   93.5     42.5     51.8625  50.      57.9792  90.      30.6958\n",
            "  80.      28.7125  25.9292  39.4     45.5    146.5208  82.1708  57.75\n",
            " 113.275   26.2833 108.9     25.7417  61.9792  66.6     40.125   55.9\n",
            "  60.      82.2667  32.3208  79.65    28.5375  33.5     34.0208  75.25\n",
            "  77.2875  61.3792  35.      24.      13.      11.5     10.5     12.525\n",
            "  39.      29.      21.      13.5     26.25    36.75    73.5     31.5\n",
            "  23.      32.5     13.8583  14.5     33.      65.      16.      12.275\n",
            "  27.      15.      13.7917  12.35    10.7083  41.5792  12.      12.875\n",
            "  15.0458  37.0042  15.5792  19.5     14.       9.6875  30.0708  13.8625\n",
            "  15.05    12.7375  15.0333  18.75    12.65    15.75     7.55    20.25\n",
            "   7.65     7.925    7.2292   7.25     8.05     9.475    9.35    18.7875\n",
            "   7.8875   7.05     8.3     22.525    7.8542  31.275    7.775    7.7958\n",
            "   7.8958  17.8     31.3875   7.225   14.4583  15.85    19.2583  14.4542\n",
            "   7.8792   4.0125  56.4958   7.75    15.2458  15.5     16.1      7.725\n",
            "   7.0458   7.2833   7.8208   6.75     8.6625   7.7333   7.4958   7.6292\n",
            "  15.9      8.1583  10.5167  10.1708   6.95    14.4     24.15    17.4\n",
            "   9.5     20.575   12.475   13.9      6.975   15.1     34.375    7.7417\n",
            "  20.525    7.85    46.9      8.3625   9.8458   8.85    19.9667  14.1083\n",
            "   6.8583   8.9625  12.2875   6.45     7.0542   8.1125   6.4958   8.6542\n",
            "  11.1333  23.45     9.825    7.125    8.4333   7.5208  13.4167   7.8292\n",
            "   7.7375  22.025   12.1833   9.5875   9.4833  25.4667   6.4375  15.55\n",
            "   7.5792   7.1417  23.25     7.7875   8.0292   8.4583  15.7417  11.2417\n",
            "   7.8      6.2375   9.225    3.1708   8.4042   7.3125   9.2167   8.6833\n",
            "  21.075   39.6875   8.7125  13.775    7.      22.3583   8.1375  29.125\n",
            "   7.7208  20.2125   7.7292   7.575   69.55     9.325   21.6792  16.7\n",
            "   7.7792  27.9         nan   9.8375  10.4625   8.5167   9.8417   9.\n",
            "  18.       7.875 ]\n",
            "\n",
            "['B5' 'C22 C26' 'E12' 'D7' 'A36' 'C101' nan 'C62 C64' 'B35' 'A23'\n",
            " 'B58 B60' 'D15' 'C6' 'D35' 'C148' 'C97' 'B49' 'C99' 'C52' 'T' 'A31' 'C7'\n",
            " 'C103' 'D22' 'E33' 'A21' 'B10' 'B4' 'E40' 'B38' 'E24' 'B51 B53 B55'\n",
            " 'B96 B98' 'C46' 'E31' 'E8' 'B61' 'B77' 'A9' 'C89' 'A14' 'E58' 'E49' 'E52'\n",
            " 'E45' 'B22' 'B26' 'C85' 'E17' 'B71' 'B20' 'A34' 'C86' 'A16' 'A20' 'A18'\n",
            " 'C54' 'C45' 'D20' 'A29' 'C95' 'E25' 'C111' 'C23 C25 C27' 'E36' 'D34'\n",
            " 'D40' 'B39' 'B41' 'B102' 'C123' 'E63' 'C130' 'B86' 'C92' 'A5' 'C51' 'B42'\n",
            " 'C91' 'C125' 'D10 D12' 'B82 B84' 'E50' 'D33' 'C83' 'B94' 'D49' 'D45'\n",
            " 'B69' 'B11' 'E46' 'C39' 'B18' 'D11' 'C93' 'B28' 'C49' 'B52 B54 B56' 'E60'\n",
            " 'C132' 'B37' 'D21' 'D19' 'C124' 'D17' 'B101' 'D28' 'D6' 'D9' 'B80' 'C106'\n",
            " 'B79' 'C47' 'D30' 'C90' 'E38' 'C78' 'C30' 'C118' 'D36' 'D48' 'D47' 'C105'\n",
            " 'B36' 'B30' 'D43' 'B24' 'C2' 'C65' 'B73' 'C104' 'C110' 'C50' 'B3' 'A24'\n",
            " 'A32' 'A11' 'A10' 'B57 B59 B63 B66' 'C28' 'E44' 'A26' 'A6' 'A7' 'C31'\n",
            " 'A19' 'B45' 'E34' 'B78' 'B50' 'C87' 'C116' 'C55 C57' 'D50' 'E68' 'E67'\n",
            " 'C126' 'C68' 'C70' 'C53' 'B19' 'D46' 'D37' 'D26' 'C32' 'C80' 'C82' 'C128'\n",
            " 'E39 E41' 'D' 'F4' 'D56' 'F33' 'E101' 'E77' 'F2' 'D38' 'F' 'F G63'\n",
            " 'F E57' 'F E46' 'F G73' 'E121' 'F E69' 'E10' 'G6' 'F38']\n",
            "\n",
            "['2' '11' nan '3' '10' 'D' '4' '9' '6' 'B' '8' 'A' '5' '7' 'C' '14' '5 9'\n",
            " '13' '1' '15' '5 7' '8 10' '12' '16' '13 15 B' 'C D' '15 16' '13 15']\n"
          ],
          "name": "stdout"
        }
      ]
    },
    {
      "cell_type": "markdown",
      "metadata": {
        "id": "E9tTEQ1INjTp",
        "colab_type": "text"
      },
      "source": [
        "age column에서 현재 age column(null data 포함)과 age_fix column(null data를 `fillna()` 적용한 column)으로 분리"
      ]
    },
    {
      "cell_type": "markdown",
      "metadata": {
        "id": "t-8olvuT4Unu",
        "colab_type": "text"
      },
      "source": [
        "pclass 와 sex 에 따라 age의 평균값과 최빈값이 다름을 확인"
      ]
    },
    {
      "cell_type": "code",
      "metadata": {
        "id": "du9QESg52wgD",
        "colab_type": "code",
        "colab": {
          "base_uri": "https://localhost:8080/",
          "height": 446
        },
        "outputId": "b1a37d40-afc7-4b3a-8ce2-6682c10fb0c2"
      },
      "source": [
        "display (tt.age.value_counts())\n",
        "print ('\\n', tt.age.mean(), tt.age.median())\n",
        "print (tt['age'][tt['pclass']==3].count(), tt['age'][tt['pclass']==3].mean(), tt['age'][tt['pclass']==3].mode())\n",
        "print (tt['age'][tt['pclass']==2].count(), tt['age'][tt['pclass']==2].mean(), tt['age'][tt['pclass']==2].mode())\n",
        "print (tt['age'][tt['pclass']==1].count(), tt['age'][tt['pclass']==1].mean(), tt['age'][tt['pclass']==1].mode())\n",
        "print (tt['age'][tt['sex']=='female'].count(), tt['age'][tt['sex']=='female'].mean(), tt['age'][tt['sex']=='female'].mode())\n",
        "print (tt['age'][tt['sex']=='male'].count(), tt['age'][tt['sex']=='male'].mean(), tt['age'][tt['sex']=='male'].mode())"
      ],
      "execution_count": 19,
      "outputs": [
        {
          "output_type": "display_data",
          "data": {
            "text/plain": [
              "24.00    47\n",
              "22.00    43\n",
              "21.00    41\n",
              "30.00    40\n",
              "18.00    39\n",
              "         ..\n",
              "70.50     1\n",
              "76.00     1\n",
              "67.00     1\n",
              "0.42      1\n",
              "0.67      1\n",
              "Name: age, Length: 98, dtype: int64"
            ]
          },
          "metadata": {
            "tags": []
          }
        },
        {
          "output_type": "stream",
          "text": [
            "\n",
            " 29.881137667304014 28.0\n",
            "501 24.81636726546906 0    22.0\n",
            "dtype: float64\n",
            "261 29.506704980842912 0    24.0\n",
            "dtype: float64\n",
            "284 39.15992957746479 0    36.0\n",
            "dtype: float64\n",
            "388 28.68708762886598 0    22.0\n",
            "dtype: float64\n",
            "658 30.58522796352583 0    21.0\n",
            "dtype: float64\n"
          ],
          "name": "stdout"
        }
      ]
    },
    {
      "cell_type": "code",
      "metadata": {
        "id": "UXjlCK_OOQJp",
        "colab_type": "code",
        "colab": {
          "base_uri": "https://localhost:8080/",
          "height": 983
        },
        "outputId": "58ca3551-ae4e-4103-a8d5-a04dfd39d720"
      },
      "source": [
        "print (tt.age.describe())\n",
        "# tt['age_fix'] = tt.age.fillna()\n",
        "\n",
        "# print (tt['age'][(tt['sibsp'].notnull()) | (tt['parch'].notnull())])\n",
        "\n",
        "print (tt['age'][(tt['sibsp'].notnull()) | (tt['parch'].notnull())].describe())\n",
        "print (tt['age'][tt['sibsp'].notnull()].describe())\n",
        "print (tt['age'][tt['parch'].notnull()].describe())\n",
        "print (tt['age'][(tt['parch']==0) | (tt['sibsp']==0) ].describe())\n",
        "print (tt['age'][((tt['parch']!=0) | (tt['sibsp']!=0)) & ((tt.parch.notnull()) & (tt.sibsp.notnull())) ].describe())\n",
        "# print (tt['age'][(tt['parch']==0 | (tt['sibsp']==0 ].describe())\n",
        "# tt.age = tt.age.dropna(inplace=True)\n"
      ],
      "execution_count": 18,
      "outputs": [
        {
          "output_type": "stream",
          "text": [
            "count    1046.000000\n",
            "mean       29.881138\n",
            "std        14.413493\n",
            "min         0.170000\n",
            "25%        21.000000\n",
            "50%        28.000000\n",
            "75%        39.000000\n",
            "max        80.000000\n",
            "Name: age, dtype: float64\n",
            "count    1046.000000\n",
            "mean       29.881138\n",
            "std        14.413493\n",
            "min         0.170000\n",
            "25%        21.000000\n",
            "50%        28.000000\n",
            "75%        39.000000\n",
            "max        80.000000\n",
            "Name: age, dtype: float64\n",
            "count    1046.000000\n",
            "mean       29.881138\n",
            "std        14.413493\n",
            "min         0.170000\n",
            "25%        21.000000\n",
            "50%        28.000000\n",
            "75%        39.000000\n",
            "max        80.000000\n",
            "Name: age, dtype: float64\n",
            "count    1046.000000\n",
            "mean       29.881138\n",
            "std        14.413493\n",
            "min         0.170000\n",
            "25%        21.000000\n",
            "50%        28.000000\n",
            "75%        39.000000\n",
            "max        80.000000\n",
            "Name: age, dtype: float64\n",
            "count    863.000000\n",
            "mean      31.450649\n",
            "std       13.060040\n",
            "min        0.330000\n",
            "25%       22.000000\n",
            "50%       29.000000\n",
            "75%       39.000000\n",
            "max       80.000000\n",
            "Name: age, dtype: float64\n",
            "count    456.000000\n",
            "mean      27.771206\n",
            "std       16.581704\n",
            "min        0.170000\n",
            "25%       16.750000\n",
            "50%       27.000000\n",
            "75%       39.000000\n",
            "max       76.000000\n",
            "Name: age, dtype: float64\n"
          ],
          "name": "stdout"
        }
      ]
    },
    {
      "cell_type": "code",
      "metadata": {
        "id": "EacyJitiRFMR",
        "colab_type": "code",
        "colab": {}
      },
      "source": [
        "print (tt['age'][(tt.parch.notnull()) & (tt.sibsp.notnull())].unique())"
      ],
      "execution_count": 0,
      "outputs": []
    },
    {
      "cell_type": "markdown",
      "metadata": {
        "id": "k7qYQ7wnIWHR",
        "colab_type": "text"
      },
      "source": [
        "fare columns의 null data에는 해당 pclass의 평균값 입력"
      ]
    },
    {
      "cell_type": "code",
      "metadata": {
        "id": "uo_ICE1aAidg",
        "colab_type": "code",
        "colab": {}
      },
      "source": [
        "print (tt[tt['fare'].isnull()])\n",
        "print (tt[ tt['fare'].isnull() ]['pclass'].max())\n",
        "# print (tt['fare'][tt['pclass']==3].mean())\n",
        "print (tt['fare'][tt['pclass']==tt[ tt['fare'].isnull() ]['pclass'].max()].mean())"
      ],
      "execution_count": 0,
      "outputs": []
    },
    {
      "cell_type": "code",
      "metadata": {
        "id": "8S0Ok31OB1Si",
        "colab_type": "code",
        "colab": {}
      },
      "source": [
        "tt.fare.fillna(value = (tt['fare'][tt['pclass']==tt[ tt['fare'].isnull() ]['pclass'].max()].mean()), inplace=True)\n",
        "print (tt.fare.isnull().sum())"
      ],
      "execution_count": 0,
      "outputs": []
    },
    {
      "cell_type": "markdown",
      "metadata": {
        "id": "VAzqIvVy99U2",
        "colab_type": "text"
      },
      "source": [
        "### fit_transforming"
      ]
    },
    {
      "cell_type": "code",
      "metadata": {
        "id": "B1UYu183vAy-",
        "colab_type": "code",
        "colab": {}
      },
      "source": [
        "# tt.cabin = tt['cabin'].str[:1]\n",
        "\n",
        "# tt.cabin = LabelEncoder().fit_transform( tt.cabin )\n",
        "display(tt.cabin)"
      ],
      "execution_count": 0,
      "outputs": []
    },
    {
      "cell_type": "code",
      "metadata": {
        "id": "oM0x-4FZ8PTR",
        "colab_type": "code",
        "colab": {}
      },
      "source": [
        ""
      ],
      "execution_count": 0,
      "outputs": []
    },
    {
      "cell_type": "code",
      "metadata": {
        "id": "mSYrTVhJ8PhH",
        "colab_type": "code",
        "colab": {}
      },
      "source": [
        ""
      ],
      "execution_count": 0,
      "outputs": []
    }
  ]
}