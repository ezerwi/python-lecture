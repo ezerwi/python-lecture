{
  "nbformat": 4,
  "nbformat_minor": 0,
  "metadata": {
    "colab": {
      "name": "Lecture43. Python Basic(2)",
      "provenance": [],
      "authorship_tag": "ABX9TyMsMyAbfzTLj/q+1FIsIPJm",
      "include_colab_link": true
    },
    "kernelspec": {
      "name": "python3",
      "display_name": "Python 3"
    }
  },
  "cells": [
    {
      "cell_type": "markdown",
      "metadata": {
        "id": "view-in-github",
        "colab_type": "text"
      },
      "source": [
        "<a href=\"https://colab.research.google.com/github/ezerwi/python-lecture/blob/master/Lecture43_Python_Basic(2).ipynb\" target=\"_parent\"><img src=\"https://colab.research.google.com/assets/colab-badge.svg\" alt=\"Open In Colab\"/></a>"
      ]
    },
    {
      "cell_type": "markdown",
      "metadata": {
        "id": "J-pgcavsuRLh",
        "colab_type": "text"
      },
      "source": [
        "# Lecture 43. Python Basic(2)"
      ]
    },
    {
      "cell_type": "code",
      "metadata": {
        "id": "aQqEbhI4yFgr",
        "colab_type": "code",
        "colab": {
          "base_uri": "https://localhost:8080/",
          "height": 35
        },
        "outputId": "6e82d6e4-3f7f-42ea-c3c1-9a9d22bad6af"
      },
      "source": [
        "!git clone https://github.com/ezerwi/python-lecture"
      ],
      "execution_count": 20,
      "outputs": [
        {
          "output_type": "stream",
          "text": [
            "fatal: destination path 'python-lecture' already exists and is not an empty directory.\n"
          ],
          "name": "stdout"
        }
      ]
    },
    {
      "cell_type": "markdown",
      "metadata": {
        "id": "o3zDh52GuZK6",
        "colab_type": "text"
      },
      "source": [
        "LIST 이어서"
      ]
    },
    {
      "cell_type": "code",
      "metadata": {
        "id": "ZpiblRYuuHF-",
        "colab_type": "code",
        "colab": {
          "base_uri": "https://localhost:8080/",
          "height": 54
        },
        "outputId": "27bcaf05-364e-4e8a-c141-68f62517ddd8"
      },
      "source": [
        "e = [1,2,3]\n",
        "print(e.index(3))\n",
        "print(e.index(1))"
      ],
      "execution_count": 1,
      "outputs": [
        {
          "output_type": "stream",
          "text": [
            "2\n",
            "0\n"
          ],
          "name": "stdout"
        }
      ]
    },
    {
      "cell_type": "code",
      "metadata": {
        "id": "NTUfUGevutMW",
        "colab_type": "code",
        "colab": {
          "base_uri": "https://localhost:8080/",
          "height": 54
        },
        "outputId": "d5e29e22-2ac6-4d77-b0b1-a16c66971165"
      },
      "source": [
        "f = [1,2,3]\n",
        "print(f.pop())\n",
        "print(f)"
      ],
      "execution_count": 4,
      "outputs": [
        {
          "output_type": "stream",
          "text": [
            "3\n",
            "[1, 2]\n"
          ],
          "name": "stdout"
        }
      ]
    },
    {
      "cell_type": "code",
      "metadata": {
        "id": "_WTH5lDtu8v3",
        "colab_type": "code",
        "colab": {
          "base_uri": "https://localhost:8080/",
          "height": 35
        },
        "outputId": "015792c5-8244-42a4-e6cd-19bd86a45f1c"
      },
      "source": [
        "g = [1,2,3,1]\n",
        "print(g.count(1))"
      ],
      "execution_count": 8,
      "outputs": [
        {
          "output_type": "stream",
          "text": [
            "2\n"
          ],
          "name": "stdout"
        }
      ]
    },
    {
      "cell_type": "code",
      "metadata": {
        "id": "Q2vUVodwvNiW",
        "colab_type": "code",
        "colab": {
          "base_uri": "https://localhost:8080/",
          "height": 35
        },
        "outputId": "3e736d79-111c-4f78-dc02-213598dda09f"
      },
      "source": [
        "h = [1,2,3]\n",
        "h.extend([4,5])\n",
        "print(h)"
      ],
      "execution_count": 10,
      "outputs": [
        {
          "output_type": "stream",
          "text": [
            "[1, 2, 3, 4, 5]\n"
          ],
          "name": "stdout"
        }
      ]
    },
    {
      "cell_type": "code",
      "metadata": {
        "id": "o0euZl1WvfxX",
        "colab_type": "code",
        "colab": {
          "base_uri": "https://localhost:8080/",
          "height": 54
        },
        "outputId": "4697cfc0-c021-4a37-a8df-a1e6031e99dc"
      },
      "source": [
        "a = [1,2,3]\n",
        "a.append(4)\n",
        "print(a)\n",
        "a.append([5,6])\n",
        "print(a)"
      ],
      "execution_count": 13,
      "outputs": [
        {
          "output_type": "stream",
          "text": [
            "[1, 2, 3, 4]\n",
            "[1, 2, 3, 4, [5, 6]]\n"
          ],
          "name": "stdout"
        }
      ]
    },
    {
      "cell_type": "markdown",
      "metadata": {
        "id": "8NisFwWxvp5l",
        "colab_type": "text"
      },
      "source": [
        "# 튜플\n",
        "리스트와 비슷한 성질 갖는 자료형이지만, 요소값 변경 불가\n",
        "\n",
        "프로그램 실행되는 동안 그 값이 항상 변하지 않아야 되는 경우 사용"
      ]
    },
    {
      "cell_type": "code",
      "metadata": {
        "id": "qfQVthYLwOjz",
        "colab_type": "code",
        "colab": {
          "base_uri": "https://localhost:8080/",
          "height": 73
        },
        "outputId": "f43c0370-4d0c-4d33-bd2f-bafd6c6adbe9"
      },
      "source": [
        "t1 = (1,2,3,4,5)\n",
        "t2 = ('a','b','c')\n",
        "t3 = (1,'a','abc',[1,2,3,4,5],['a','b','c'])\n",
        "def myfunc() :\n",
        "  print ('HELLO')\n",
        "t4 = (21,2,myfunc)\n",
        "# t1[0] = 6\n",
        "print(t1)\n",
        "print(t4)\n",
        "t4[2]()   #list/tuple 내 함수 실행 방식"
      ],
      "execution_count": 17,
      "outputs": [
        {
          "output_type": "stream",
          "text": [
            "(1, 2, 3, 4, 5)\n",
            "(21, 2, <function myfunc at 0x7faa7a368950>)\n",
            "HELLO\n"
          ],
          "name": "stdout"
        }
      ]
    },
    {
      "cell_type": "code",
      "metadata": {
        "id": "mPq8GUNFw0rO",
        "colab_type": "code",
        "colab": {
          "base_uri": "https://localhost:8080/",
          "height": 35
        },
        "outputId": "28f0ff73-df0b-4c69-9e0b-99fcf901c39a"
      },
      "source": [
        "# tuple이 1개의 원소만 가질 경우 요소 뒤에 콤마 붙여야 함\n",
        "t1 = (1,)\n",
        "print(t1)"
      ],
      "execution_count": 18,
      "outputs": [
        {
          "output_type": "stream",
          "text": [
            "(1,)\n"
          ],
          "name": "stdout"
        }
      ]
    },
    {
      "cell_type": "code",
      "metadata": {
        "id": "Vkhx9sSbxaX3",
        "colab_type": "code",
        "colab": {}
      },
      "source": [
        ""
      ],
      "execution_count": 0,
      "outputs": []
    }
  ]
}