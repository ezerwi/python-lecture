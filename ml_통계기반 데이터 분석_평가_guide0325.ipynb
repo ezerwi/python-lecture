{
 "cells": [
  {
   "cell_type": "markdown",
   "metadata": {},
   "source": [
    "## 훈련과정 : R·파이썬 기반 빅데이터 분석 전문가 양성과정\n",
    "- 교과목 평가 : 통계기반 데이터 분석\n",
    "- 성명 :\n",
    "- 점수 :"
   ]
  },
  {
   "cell_type": "code",
   "execution_count": 40,
   "metadata": {
    "scrolled": true
   },
   "outputs": [
    {
     "data": {
      "text/html": [
       "<div>\n",
       "<style scoped>\n",
       "    .dataframe tbody tr th:only-of-type {\n",
       "        vertical-align: middle;\n",
       "    }\n",
       "\n",
       "    .dataframe tbody tr th {\n",
       "        vertical-align: top;\n",
       "    }\n",
       "\n",
       "    .dataframe thead th {\n",
       "        text-align: right;\n",
       "    }\n",
       "</style>\n",
       "<table border=\"1\" class=\"dataframe\">\n",
       "  <thead>\n",
       "    <tr style=\"text-align: right;\">\n",
       "      <th></th>\n",
       "      <th>mpg</th>\n",
       "      <th>cylinders</th>\n",
       "      <th>displacement</th>\n",
       "      <th>horsepower</th>\n",
       "      <th>weight</th>\n",
       "      <th>acceleration</th>\n",
       "      <th>model year</th>\n",
       "      <th>origin</th>\n",
       "      <th>name</th>\n",
       "    </tr>\n",
       "  </thead>\n",
       "  <tbody>\n",
       "    <tr>\n",
       "      <th>0</th>\n",
       "      <td>18.0</td>\n",
       "      <td>8</td>\n",
       "      <td>307.0</td>\n",
       "      <td>130.0</td>\n",
       "      <td>3504.0</td>\n",
       "      <td>12.0</td>\n",
       "      <td>70</td>\n",
       "      <td>1</td>\n",
       "      <td>chevrolet chevelle malibu</td>\n",
       "    </tr>\n",
       "    <tr>\n",
       "      <th>1</th>\n",
       "      <td>15.0</td>\n",
       "      <td>8</td>\n",
       "      <td>350.0</td>\n",
       "      <td>165.0</td>\n",
       "      <td>3693.0</td>\n",
       "      <td>11.5</td>\n",
       "      <td>70</td>\n",
       "      <td>1</td>\n",
       "      <td>buick skylark 320</td>\n",
       "    </tr>\n",
       "    <tr>\n",
       "      <th>2</th>\n",
       "      <td>18.0</td>\n",
       "      <td>8</td>\n",
       "      <td>318.0</td>\n",
       "      <td>150.0</td>\n",
       "      <td>3436.0</td>\n",
       "      <td>11.0</td>\n",
       "      <td>70</td>\n",
       "      <td>1</td>\n",
       "      <td>plymouth satellite</td>\n",
       "    </tr>\n",
       "    <tr>\n",
       "      <th>3</th>\n",
       "      <td>16.0</td>\n",
       "      <td>8</td>\n",
       "      <td>304.0</td>\n",
       "      <td>150.0</td>\n",
       "      <td>3433.0</td>\n",
       "      <td>12.0</td>\n",
       "      <td>70</td>\n",
       "      <td>1</td>\n",
       "      <td>amc rebel sst</td>\n",
       "    </tr>\n",
       "    <tr>\n",
       "      <th>4</th>\n",
       "      <td>17.0</td>\n",
       "      <td>8</td>\n",
       "      <td>302.0</td>\n",
       "      <td>140.0</td>\n",
       "      <td>3449.0</td>\n",
       "      <td>10.5</td>\n",
       "      <td>70</td>\n",
       "      <td>1</td>\n",
       "      <td>ford torino</td>\n",
       "    </tr>\n",
       "  </tbody>\n",
       "</table>\n",
       "</div>"
      ],
      "text/plain": [
       "    mpg  cylinders  displacement horsepower  weight  acceleration  model year  \\\n",
       "0  18.0          8         307.0      130.0  3504.0          12.0          70   \n",
       "1  15.0          8         350.0      165.0  3693.0          11.5          70   \n",
       "2  18.0          8         318.0      150.0  3436.0          11.0          70   \n",
       "3  16.0          8         304.0      150.0  3433.0          12.0          70   \n",
       "4  17.0          8         302.0      140.0  3449.0          10.5          70   \n",
       "\n",
       "   origin                       name  \n",
       "0       1  chevrolet chevelle malibu  \n",
       "1       1          buick skylark 320  \n",
       "2       1         plymouth satellite  \n",
       "3       1              amc rebel sst  \n",
       "4       1                ford torino  "
      ]
     },
     "execution_count": 40,
     "metadata": {},
     "output_type": "execute_result"
    }
   ],
   "source": [
    "# df 생성\n",
    "import pandas as pd\n",
    "df = pd.read_csv('./dataset/auto-mpg.csv', header=None)\n",
    "df.columns = ['mpg','cylinders','displacement','horsepower','weight',\n",
    "              'acceleration','model year','origin','name'] \n",
    "df.head()"
   ]
  },
  {
   "cell_type": "markdown",
   "metadata": {},
   "source": [
    "#### Q1. df 데이터프레임에 대하여 아래 사항을 수행하세요. --- (15점)\n",
    "1. 'mpg','cylinders','displacement','weight','acceleration','model year','origin','name' 컬럼의 통계요약표를 출력\n",
    "2. mpg 컬럼의 평균값, 중간값, 최대값, 최소값, 표준편차 출력\n",
    "3. mpg 컬럼과 weight컬럼간 상관계수 출력"
   ]
  },
  {
   "cell_type": "code",
   "execution_count": 12,
   "metadata": {},
   "outputs": [
    {
     "name": "stdout",
     "output_type": "stream",
     "text": [
      "              mpg   cylinders  displacement       weight  acceleration  \\\n",
      "count  398.000000  398.000000    398.000000   398.000000    398.000000   \n",
      "mean    23.514573    5.454774    193.425879  2970.424623     15.568090   \n",
      "std      7.815984    1.701004    104.269838   846.841774      2.757689   \n",
      "min      9.000000    3.000000     68.000000  1613.000000      8.000000   \n",
      "25%     17.500000    4.000000    104.250000  2223.750000     13.825000   \n",
      "50%     23.000000    4.000000    148.500000  2803.500000     15.500000   \n",
      "75%     29.000000    8.000000    262.000000  3608.000000     17.175000   \n",
      "max     46.600000    8.000000    455.000000  5140.000000     24.800000   \n",
      "\n",
      "       model year      origin  \n",
      "count  398.000000  398.000000  \n",
      "mean    76.010050    1.572864  \n",
      "std      3.697627    0.802055  \n",
      "min     70.000000    1.000000  \n",
      "25%     73.000000    1.000000  \n",
      "50%     76.000000    1.000000  \n",
      "75%     79.000000    2.000000  \n",
      "max     82.000000    3.000000  \n",
      "\n",
      "23.514572864321607\n",
      "\n",
      "23.0\n",
      "\n",
      "46.6\n",
      "\n",
      "9.0\n",
      "\n",
      "7.815984312565782\n",
      "\n",
      "             mpg    weight\n",
      "mpg     1.000000 -0.831741\n",
      "weight -0.831741  1.000000\n"
     ]
    }
   ],
   "source": [
    "# 풀이\n",
    "print(df.describe())\n",
    "print()\n",
    "\n",
    "# 평균값 \n",
    "print(df.mpg.mean())\n",
    "print()\n",
    "# 중간값 \n",
    "print(df.mpg.median())\n",
    "print()\n",
    "# 최대값 \n",
    "print(df.mpg.max())\n",
    "print()\n",
    "# 최소값 \n",
    "print(df.mpg.min())\n",
    "print()\n",
    "# 표준편차 \n",
    "print(df.mpg.std())\n",
    "print()\n",
    "\n",
    "# 상관계수 \n",
    "print(df[['mpg','weight']].corr())\n"
   ]
  },
  {
   "cell_type": "markdown",
   "metadata": {},
   "source": [
    "#### Q2. df.horsepowr의 통계요약표를 출력하세요.  ----- (10점)"
   ]
  },
  {
   "cell_type": "code",
   "execution_count": 36,
   "metadata": {},
   "outputs": [
    {
     "data": {
      "text/plain": [
       "count    392.000000\n",
       "mean     104.469388\n",
       "std       38.491160\n",
       "min       46.000000\n",
       "25%       75.000000\n",
       "50%       93.500000\n",
       "75%      126.000000\n",
       "max      230.000000\n",
       "Name: horsepower, dtype: float64"
      ]
     },
     "execution_count": 36,
     "metadata": {},
     "output_type": "execute_result"
    }
   ],
   "source": [
    "# 풀이\n",
    "import numpy as np\n",
    "df['horsepower'].replace('?', np.nan, inplace=True)          # '?'을 np.nan으로 변경\n",
    "df.dropna(subset=['horsepower'], axis=0, inplace=True)\n",
    "df['horsepower'] = df['horsepower'].astype('float')\n",
    "\n",
    "df.horsepower.describe()"
   ]
  },
  {
   "cell_type": "markdown",
   "metadata": {},
   "source": [
    "#### Q3. 아래 사항을 처리 하세요. --- (5점)\n",
    "- origin 열의 고유값을 출력하세요.\n",
    "- origin 열에 대하여 정수형 데이터를 문자형 데이터로 변환한 후 고유값을 출력하세요."
   ]
  },
  {
   "cell_type": "code",
   "execution_count": 41,
   "metadata": {},
   "outputs": [
    {
     "name": "stdout",
     "output_type": "stream",
     "text": [
      "int64\n",
      "[1 3 2]\n",
      "['USA' 'JAPAN' 'EU']\n"
     ]
    }
   ],
   "source": [
    "print((df.origin).dtype)\n",
    "# origin 열의 고유값 확인\n",
    "print(df['origin'].unique())\n",
    "\n",
    "# 정수형 데이터를 문자형 데이터로 변환 \n",
    "df['origin'].replace({1:'USA', 2:'EU', 3:'JAPAN'}, inplace=True)\n",
    "\n",
    "print(df['origin'].unique())"
   ]
  },
  {
   "cell_type": "markdown",
   "metadata": {},
   "source": [
    "#### Q4. origin 열의 자료형을 확인하고 범주형으로 변환하여 출력하세요. --- (5점)"
   ]
  },
  {
   "cell_type": "code",
   "execution_count": 15,
   "metadata": {},
   "outputs": [
    {
     "name": "stdout",
     "output_type": "stream",
     "text": [
      "object\n",
      "category\n"
     ]
    }
   ],
   "source": [
    "print(df['origin'].dtypes)\n",
    "df['origin'] = df['origin'].astype('category')     \n",
    "print(df['origin'].dtypes) "
   ]
  },
  {
   "cell_type": "markdown",
   "metadata": {},
   "source": [
    "#### Q5. origin 열을 범주형에서 문자열로 변환한 후 자료형을 출력하세요. --- (5점)"
   ]
  },
  {
   "cell_type": "code",
   "execution_count": 16,
   "metadata": {},
   "outputs": [
    {
     "name": "stdout",
     "output_type": "stream",
     "text": [
      "object\n"
     ]
    }
   ],
   "source": [
    "df['origin'] = df['origin'].astype('str')     \n",
    "print(df['origin'].dtypes)"
   ]
  },
  {
   "cell_type": "markdown",
   "metadata": {},
   "source": [
    "#### Q6. df.horsepower를 범주형(카테고리) 데이터 처리한 후 아래와 같이 출력하세요. --- (5점)\n",
    "   horsepower hp_bin\\\n",
    "0       130.0   보통출력\\\n",
    "1       165.0   보통출력\\\n",
    "2       150.0   보통출력\\\n",
    "3       150.0   보통출력\\\n",
    "4       140.0   보통출력"
   ]
  },
  {
   "cell_type": "code",
   "execution_count": 21,
   "metadata": {},
   "outputs": [],
   "source": [
    "# df 생성\n",
    "df = pd.read_csv('./dataset/auto-mpg.csv', header=None)\n",
    "df.columns = ['mpg','cylinders','displacement','horsepower','weight',\n",
    "              'acceleration','model year','origin','name']"
   ]
  },
  {
   "cell_type": "code",
   "execution_count": 23,
   "metadata": {},
   "outputs": [
    {
     "name": "stdout",
     "output_type": "stream",
     "text": [
      "[ 46.         107.33333333 168.66666667 230.        ]\n",
      "   horsepower hp_bin\n",
      "0       130.0   보통출력\n",
      "1       165.0   보통출력\n",
      "2       150.0   보통출력\n",
      "3       150.0   보통출력\n",
      "4       140.0   보통출력\n"
     ]
    }
   ],
   "source": [
    "# 풀이\n",
    "import numpy as np\n",
    "df['horsepower'].replace('?', np.nan, inplace=True)          # '?'을 np.nan으로 변경\n",
    "df.dropna(subset=['horsepower'], axis=0, inplace=True)\n",
    "df['horsepower'] = df['horsepower'].astype('float')\n",
    "count, bin_dividers = np.histogram(df['horsepower'], bins=3)\n",
    "print(bin_dividers)\n",
    "bin_names = ['저출력', '보통출력', '고출력']\n",
    "df['hp_bin'] = pd.cut(x=df['horsepower'],     # 데이터 배열\n",
    "                      bins=bin_dividers,      # 경계 값 리스트\n",
    "                      labels=bin_names,       # bin 이름\n",
    "                      include_lowest=True)    # 첫 경계값 포함 \n",
    "print(df[['horsepower', 'hp_bin']].head())"
   ]
  },
  {
   "cell_type": "markdown",
   "metadata": {},
   "source": [
    "#### Q7. hp_bin 열의 범주형 데이터를 숫자형 범주로 변환하여 앞에서 15개만 출력하세요. --- (5점)"
   ]
  },
  {
   "cell_type": "code",
   "execution_count": 24,
   "metadata": {},
   "outputs": [
    {
     "name": "stdout",
     "output_type": "stream",
     "text": [
      "[1 1 1 1 1 0 0 0 0 0 0 1 1 0 2]\n"
     ]
    }
   ],
   "source": [
    "# 풀이\n",
    "from sklearn import preprocessing    \n",
    "\n",
    "# 전처리를 위한 encoder 객체 만들기\n",
    "le = preprocessing.LabelEncoder()\n",
    "result = le.fit_transform(df.hp_bin.head(15))\n",
    "print(result)"
   ]
  },
  {
   "cell_type": "markdown",
   "metadata": {},
   "source": [
    "#### Q8. stock-data.csv를 불러와서 아래사항을 수행하세요. --- (10점)\n",
    "- object 자료형으로 되어있는 Date 컬럼을 datetime64 자료형으로 변환\n",
    "- new_Date 컬럼을 생성한 후 다시 인덱스로 셋팅하고 기존 Date는 삭제한 후 출력 "
   ]
  },
  {
   "cell_type": "code",
   "execution_count": 28,
   "metadata": {},
   "outputs": [
    {
     "name": "stdout",
     "output_type": "stream",
     "text": [
      "            Close  Start   High    Low  Volume\n",
      "new_Date                                      \n",
      "2018-07-02  10100  10850  10900  10000  137977\n",
      "2018-06-29  10700  10550  10900   9990  170253\n",
      "2018-06-28  10400  10900  10950  10150  155769\n",
      "2018-06-27  10900  10800  11050  10500  133548\n",
      "2018-06-26  10800  10900  11000  10700   63039\n",
      "2018-06-25  11150  11400  11450  11000   55519\n",
      "2018-06-22  11300  11250  11450  10750  134805\n",
      "2018-06-21  11200  11350  11750  11200  133002\n",
      "2018-06-20  11550  11200  11600  10900  308596\n",
      "2018-06-19  11300  11850  11950  11300  180656\n",
      "2018-06-18  12000  13400  13400  12000  309787\n",
      "2018-06-15  13400  13600  13600  12900  201376\n",
      "2018-06-14  13450  13200  13700  13150  347451\n",
      "2018-06-12  13200  12200  13300  12050  558148\n",
      "2018-06-11  11950  12000  12250  11950   62293\n",
      "2018-06-08  11950  11950  12200  11800   59258\n",
      "2018-06-07  11950  12200  12300  11900   49088\n",
      "2018-06-05  12150  11800  12250  11800   42485\n",
      "2018-06-04  11900  11900  12200  11700   25171\n",
      "2018-06-01  11900  11800  12100  11750   32062\n"
     ]
    }
   ],
   "source": [
    "# 풀이\n",
    "import pandas as pd\n",
    "\n",
    "# read_csv() 함수로 CSV 파일을 가져와서 df로 변환\n",
    "df = pd.read_csv('./dataset/stock-data.csv')\n",
    "df['new_Date'] = pd.to_datetime(df['Date'])   #df에 새로운 열로 추가\n",
    "df.set_index('new_Date', inplace=True)\n",
    "df.drop('Date', axis=1, inplace=True)\n",
    "print(df)"
   ]
  },
  {
   "cell_type": "markdown",
   "metadata": {},
   "source": [
    "#### Q9. stock-data.csv를 불러와서 아래 사항을 수행한 후 월별 데이터를 작성하여 출력하세요. --- (10점)\n",
    "- object 자료형으로 되어있는 Date 컬럼을 datetime64 자료형으로 변환하여 new_Date 컬럼을 생성\n",
    "- dt 속성을 이용하여 period로 변환, 월단위 기간을 의미하는 Date_m 컬럼을 생성하고 인덱스로 지정"
   ]
  },
  {
   "cell_type": "code",
   "execution_count": 30,
   "metadata": {},
   "outputs": [
    {
     "name": "stdout",
     "output_type": "stream",
     "text": [
      "   Close  Start   High    Low  Volume   new_Date  Year  Month  Day\n",
      "0  10100  10850  10900  10000  137977 2018-07-02  2018      7    2\n",
      "1  10700  10550  10900   9990  170253 2018-06-29  2018      6   29\n",
      "2  10400  10900  10950  10150  155769 2018-06-28  2018      6   28\n",
      "3  10900  10800  11050  10500  133548 2018-06-27  2018      6   27\n",
      "4  10800  10900  11000  10700   63039 2018-06-26  2018      6   26\n",
      "\n",
      "\n",
      "   Close  Start   High    Low  Volume   new_Date  Year  Month  Day Date_yr  \\\n",
      "0  10100  10850  10900  10000  137977 2018-07-02  2018      7    2    2018   \n",
      "1  10700  10550  10900   9990  170253 2018-06-29  2018      6   29    2018   \n",
      "2  10400  10900  10950  10150  155769 2018-06-28  2018      6   28    2018   \n",
      "3  10900  10800  11050  10500  133548 2018-06-27  2018      6   27    2018   \n",
      "4  10800  10900  11000  10700   63039 2018-06-26  2018      6   26    2018   \n",
      "\n",
      "    Date_m  \n",
      "0  2018-07  \n",
      "1  2018-06  \n",
      "2  2018-06  \n",
      "3  2018-06  \n",
      "4  2018-06  \n",
      "\n",
      "\n",
      "         Close  Start   High    Low  Volume   new_Date  Year  Month  Day  \\\n",
      "Date_m                                                                     \n",
      "2018-07  10100  10850  10900  10000  137977 2018-07-02  2018      7    2   \n",
      "2018-06  10700  10550  10900   9990  170253 2018-06-29  2018      6   29   \n",
      "2018-06  10400  10900  10950  10150  155769 2018-06-28  2018      6   28   \n",
      "2018-06  10900  10800  11050  10500  133548 2018-06-27  2018      6   27   \n",
      "2018-06  10800  10900  11000  10700   63039 2018-06-26  2018      6   26   \n",
      "\n",
      "        Date_yr  \n",
      "Date_m           \n",
      "2018-07    2018  \n",
      "2018-06    2018  \n",
      "2018-06    2018  \n",
      "2018-06    2018  \n",
      "2018-06    2018  \n"
     ]
    }
   ],
   "source": [
    "# 풀이\n",
    "import pandas as pd\n",
    "\n",
    "df = pd.read_csv('./dataset/stock-data.csv')\n",
    "df['new_Date'] = pd.to_datetime(df['Date'])   #df에 새로운 열로 추가\n",
    "# df.set_index('new_Date', inplace=True)\n",
    "df.drop('Date', axis=1, inplace=True)\n",
    "\n",
    "# dt 속성을 이용하여 new_Date 열의 년월일 정보를 년, 월, 일로 구분\n",
    "df['Year'] = df['new_Date'].dt.year\n",
    "df['Month'] = df['new_Date'].dt.month\n",
    "df['Day'] = df['new_Date'].dt.day\n",
    "print(df.head())\n",
    "print('\\n')\n",
    "\n",
    "# Timestamp를 Period로 변환하여 년월일 표기 변경하기\n",
    "df['Date_yr'] = df['new_Date'].dt.to_period(freq='A')\n",
    "df['Date_m'] = df['new_Date'].dt.to_period(freq='M')\n",
    "print(df.head())\n",
    "print('\\n')\n",
    "\n",
    "# 원하는 열을 새로운 행 인덱스로 지정\n",
    "df.set_index('Date_m', inplace=True)\n",
    "print(df.head())\n"
   ]
  },
  {
   "cell_type": "markdown",
   "metadata": {},
   "source": [
    "#### Q10. df.mpg를 정규화 수행한 후 수행전과 후의 통계요약표를 출력하세요. --- (10점)"
   ]
  },
  {
   "cell_type": "code",
   "execution_count": 34,
   "metadata": {},
   "outputs": [],
   "source": [
    "# df 생성\n",
    "df = pd.read_csv('./dataset/auto-mpg.csv', header=None)\n",
    "df.columns = ['mpg','cylinders','displacement','horsepower','weight',\n",
    "              'acceleration','model year','origin','name']"
   ]
  },
  {
   "cell_type": "code",
   "execution_count": 35,
   "metadata": {},
   "outputs": [
    {
     "name": "stdout",
     "output_type": "stream",
     "text": [
      "count    398.000000\n",
      "mean      23.514573\n",
      "std        7.815984\n",
      "min        9.000000\n",
      "25%       17.500000\n",
      "50%       23.000000\n",
      "75%       29.000000\n",
      "max       46.600000\n",
      "Name: mpg, dtype: float64\n",
      "\n",
      "\n",
      "count    398.000000\n",
      "mean       0.504605\n",
      "std        0.167725\n",
      "min        0.193133\n",
      "25%        0.375536\n",
      "50%        0.493562\n",
      "75%        0.622318\n",
      "max        1.000000\n",
      "Name: mpg, dtype: float64\n"
     ]
    }
   ],
   "source": [
    "print(df.mpg.describe())\n",
    "print('\\n')\n",
    "\n",
    "df.mpg = df.mpg / abs(df.mpg.max())\n",
    "print(df.mpg.describe())"
   ]
  },
  {
   "cell_type": "markdown",
   "metadata": {},
   "source": [
    "#### Q11. 타이타닉 생존자 예측 모델 개발을 위한 최종 선정 변수와 그 이유를 논하세요. --- (20점)\n",
    "- titanic3 분석용 데이터에 대한 탐색적 분석 결과 반영 "
   ]
  }
 ],
 "metadata": {
  "kernelspec": {
   "display_name": "Python 3",
   "language": "python",
   "name": "python3"
  },
  "language_info": {
   "codemirror_mode": {
    "name": "ipython",
    "version": 3
   },
   "file_extension": ".py",
   "mimetype": "text/x-python",
   "name": "python",
   "nbconvert_exporter": "python",
   "pygments_lexer": "ipython3",
   "version": "3.7.6"
  }
 },
 "nbformat": 4,
 "nbformat_minor": 2
}
