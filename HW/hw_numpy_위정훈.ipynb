{
 "cells": [
  {
   "cell_type": "markdown",
   "metadata": {},
   "source": [
    "#### Q. random.randint()를 사용하여 array([0, 0, 0, 0, 0, 0, 0, 0, 0, 0])를 출력하세요."
   ]
  },
  {
   "cell_type": "code",
   "execution_count": 17,
   "metadata": {},
   "outputs": [
    {
     "data": {
      "text/plain": [
       "array([0, 0, 0, 0, 0, 0, 0, 0, 0, 0])"
      ]
     },
     "execution_count": 17,
     "metadata": {},
     "output_type": "execute_result"
    }
   ],
   "source": [
    "# 풀이\n",
    "np.random.randint(0,1,10)"
   ]
  },
  {
   "cell_type": "markdown",
   "metadata": {},
   "source": [
    "#### Q. np.random.rand()를 이용해서 5개의 난수를 생성하고 형변환을 통해서 0보다 큰 정수로 출력하세요."
   ]
  },
  {
   "cell_type": "code",
   "execution_count": 25,
   "metadata": {},
   "outputs": [
    {
     "name": "stdout",
     "output_type": "stream",
     "text": [
      "[3.42995085 3.97345822 4.4083591  2.01605622 2.50087076]\n",
      "[3 3 4 2 2]\n"
     ]
    }
   ],
   "source": [
    "# 풀이\n",
    "import random\n",
    "t1 = np.random.rand(5)*5\n",
    "print(t1)\n",
    "t2 = t1.astype('int32')\n",
    "print(t2)"
   ]
  },
  {
   "cell_type": "markdown",
   "metadata": {},
   "source": [
    "#### Q. arange, zeros, ones를 이용해서 1차원 배열, 2차원 배열(3,3) 을 각각 생성하세요."
   ]
  },
  {
   "cell_type": "code",
   "execution_count": 33,
   "metadata": {},
   "outputs": [
    {
     "name": "stdout",
     "output_type": "stream",
     "text": [
      "[0 1 2]\n",
      "\n",
      "[[0. 0. 0.]\n",
      " [0. 0. 0.]\n",
      " [0. 0. 0.]]\n",
      "\n",
      "[[1. 1. 1.]\n",
      " [1. 1. 1.]\n",
      " [1. 1. 1.]]\n"
     ]
    }
   ],
   "source": [
    "a1 = np.arange(3)\n",
    "print(a1)\n",
    "print()\n",
    "z1 = np.zeros((3,3))\n",
    "print(z1)\n",
    "print()\n",
    "o1 = np.ones((3,3))\n",
    "print(o1)"
   ]
  },
  {
   "cell_type": "markdown",
   "metadata": {},
   "source": [
    "#### Q. np.random.randint()를 활용 (4,3) 배열 mt1 을 생성하세요"
   ]
  },
  {
   "cell_type": "code",
   "execution_count": 18,
   "metadata": {},
   "outputs": [
    {
     "data": {
      "text/plain": [
       "array([[4, 6, 5],\n",
       "       [9, 9, 3],\n",
       "       [3, 8, 4],\n",
       "       [1, 1, 2]])"
      ]
     },
     "execution_count": 18,
     "metadata": {},
     "output_type": "execute_result"
    }
   ],
   "source": [
    "import numpy as np\n",
    "mt1 = np.random.randint(1,10, size=(4,3))\n",
    "mt1"
   ]
  },
  {
   "cell_type": "markdown",
   "metadata": {},
   "source": [
    "#### Q. mt1을 2x6 행렬로 변환 mt2로 출력하세요."
   ]
  },
  {
   "cell_type": "code",
   "execution_count": 19,
   "metadata": {},
   "outputs": [
    {
     "data": {
      "text/plain": [
       "array([[4, 6, 5, 9, 9, 3],\n",
       "       [3, 8, 4, 1, 1, 2]])"
      ]
     },
     "execution_count": 19,
     "metadata": {},
     "output_type": "execute_result"
    }
   ],
   "source": [
    "mt2 = mt1.reshape(2,6)\n",
    "mt2"
   ]
  },
  {
   "cell_type": "markdown",
   "metadata": {},
   "source": [
    "#### Q. mt2를 1차원 배열로 변환 후 mt3로 출력하세요."
   ]
  },
  {
   "cell_type": "code",
   "execution_count": 22,
   "metadata": {},
   "outputs": [
    {
     "data": {
      "text/plain": [
       "array([4, 6, 5, 9, 9, 3, 3, 8, 4, 1, 1, 2])"
      ]
     },
     "execution_count": 22,
     "metadata": {},
     "output_type": "execute_result"
    }
   ],
   "source": [
    "mt3 = mt2.reshape(-1)\n",
    "mt3"
   ]
  },
  {
   "cell_type": "markdown",
   "metadata": {},
   "source": [
    "#### Q. arange() 함수를 이용해서  0 ~ 29 정수 배열을 생성하고 2 X 5 X 3 3차원 배열로 변환하세요. "
   ]
  },
  {
   "cell_type": "code",
   "execution_count": 35,
   "metadata": {},
   "outputs": [
    {
     "data": {
      "text/plain": [
       "array([[[ 0,  1,  2],\n",
       "        [ 3,  4,  5],\n",
       "        [ 6,  7,  8],\n",
       "        [ 9, 10, 11],\n",
       "        [12, 13, 14]],\n",
       "\n",
       "       [[15, 16, 17],\n",
       "        [18, 19, 20],\n",
       "        [21, 22, 23],\n",
       "        [24, 25, 26],\n",
       "        [27, 28, 29]]])"
      ]
     },
     "execution_count": 35,
     "metadata": {},
     "output_type": "execute_result"
    }
   ],
   "source": [
    "# 풀이\n",
    "a1 = np.arange(30)\n",
    "a1.reshape(2,5,3)"
   ]
  },
  {
   "cell_type": "markdown",
   "metadata": {},
   "source": [
    "#### Q. 1 ~ 12 연속된 정수 배열을 생성하고 2 X 3 X 2 3차원 배열로 변환 후 list로 출력하세요. "
   ]
  },
  {
   "cell_type": "code",
   "execution_count": 40,
   "metadata": {},
   "outputs": [
    {
     "name": "stdout",
     "output_type": "stream",
     "text": [
      "[ 0  1  2  3  4  5  6  7  8  9 10 11]\n",
      "\n",
      "[[[ 0  1]\n",
      "  [ 2  3]\n",
      "  [ 4  5]]\n",
      "\n",
      " [[ 6  7]\n",
      "  [ 8  9]\n",
      "  [10 11]]]\n",
      "\n",
      "[[[0, 1], [2, 3], [4, 5]], [[6, 7], [8, 9], [10, 11]]]\n"
     ]
    }
   ],
   "source": [
    "# 풀이\n",
    "a1 = np.arange(start=1, stop=13)\n",
    "print(a1)\n",
    "print()\n",
    "a2 = a1.reshape(2,3,2)\n",
    "print(a2)\n",
    "print()\n",
    "a3 = a2.tolist()\n",
    "print(a3)"
   ]
  },
  {
   "cell_type": "markdown",
   "metadata": {},
   "source": [
    "#### Q. 0 ~ 29 연속 정수 배열을 생성하고 (10,3) 행렬로 변환 후 인덱싱으로 다음을 출력하세요.\n",
    "- 12\n",
    "- [24,25,26]\n",
    "- 3번째 열 \n",
    "- 2번째 ~ 5번째 행\n",
    "- [10,13,16]"
   ]
  },
  {
   "cell_type": "code",
   "execution_count": 51,
   "metadata": {},
   "outputs": [
    {
     "name": "stdout",
     "output_type": "stream",
     "text": [
      "[[ 0  1  2]\n",
      " [ 3  4  5]\n",
      " [ 6  7  8]\n",
      " [ 9 10 11]\n",
      " [12 13 14]\n",
      " [15 16 17]\n",
      " [18 19 20]\n",
      " [21 22 23]\n",
      " [24 25 26]\n",
      " [27 28 29]]\n",
      "12\n",
      "[24 25 26]\n",
      "[[ 2]\n",
      " [ 5]\n",
      " [ 8]\n",
      " [11]\n",
      " [14]\n",
      " [17]\n",
      " [20]\n",
      " [23]\n",
      " [26]\n",
      " [29]]\n",
      "[[ 3  4  5]\n",
      " [ 6  7  8]\n",
      " [ 9 10 11]\n",
      " [12 13 14]]\n",
      "[10 13 16]\n"
     ]
    }
   ],
   "source": [
    "# 풀이\n",
    "a1 = np.arange(30)\n",
    "a2 = a1.reshape(10,3)\n",
    "print(a2)\n",
    "print(a2[4,0])\n",
    "print(a2[8])\n",
    "print(a2[:,[2]])\n",
    "print(a2[1:5])\n",
    "print(a2[3:6,1])"
   ]
  },
  {
   "cell_type": "markdown",
   "metadata": {},
   "source": [
    "#### Q. 5 ~ 20 연속 정수 배열을 생성하고 불린 인덱싱을 이용하여 짝수만 출력하세요.\n",
    "#### Q. 동일 배열에서 12보다 큰 정수만 출력하세요."
   ]
  },
  {
   "cell_type": "code",
   "execution_count": 61,
   "metadata": {},
   "outputs": [
    {
     "name": "stdout",
     "output_type": "stream",
     "text": [
      "[ 6  8 10 12 14 16 18 20]\n",
      "[13 14 15 16 17 18 19 20]\n"
     ]
    }
   ],
   "source": [
    "# 풀이\n",
    "a1 = np.arange(start = 5, stop = 21)\n",
    "a2 = a1[(a1 % 2 == 0)]\n",
    "print(a2)\n",
    "a3 = a1[a1 > 12]\n",
    "print(a3)"
   ]
  },
  {
   "cell_type": "markdown",
   "metadata": {},
   "source": [
    "#### Q. random.randint()를 이용해서 10개의 배열을 a1으로 생성후 정렬하세요(내림차순)"
   ]
  },
  {
   "cell_type": "code",
   "execution_count": 69,
   "metadata": {},
   "outputs": [
    {
     "data": {
      "text/plain": [
       "array([9, 9, 9, 8, 4, 1, 1, 0, 0, 0])"
      ]
     },
     "execution_count": 69,
     "metadata": {},
     "output_type": "execute_result"
    }
   ],
   "source": [
    "# 풀이\n",
    "np.random.seed(10)\n",
    "a1 = np.random.randint(10, size= 10)\n",
    "np.sort(a1)[::-1]"
   ]
  },
  {
   "cell_type": "markdown",
   "metadata": {},
   "source": [
    "#### Q. 1 ~ 21 정수를 랜덤하게 (3,3) 행렬로 생성 후 row, column 방향으로 각각 정렬하세요."
   ]
  },
  {
   "cell_type": "code",
   "execution_count": 71,
   "metadata": {},
   "outputs": [
    {
     "name": "stdout",
     "output_type": "stream",
     "text": [
      "[[17 18 14]\n",
      " [13  2  8]\n",
      " [19 14 17]]\n",
      "[[14 17 18]\n",
      " [ 2  8 13]\n",
      " [14 17 19]]\n",
      "[[13  2  8]\n",
      " [17 14 14]\n",
      " [19 18 17]]\n"
     ]
    }
   ],
   "source": [
    "np.random.seed(11)\n",
    "a1 = np.random.randint(1, 21, size=(3,3))\n",
    "print(a1)\n",
    "a1_c = np.sort(a1, axis =1)\n",
    "print(a1_c)\n",
    "a1_r = np.sort(a1, axis = 0)\n",
    "print(a1_r)"
   ]
  },
  {
   "cell_type": "markdown",
   "metadata": {},
   "source": [
    "#### Q. 10에서 20사이의 정수로 구성된 (5,3) 행열을 np.random을 이용해서 nmt1으로 생성하세요."
   ]
  },
  {
   "cell_type": "code",
   "execution_count": 30,
   "metadata": {},
   "outputs": [
    {
     "data": {
      "text/plain": [
       "array([[18, 15, 11],\n",
       "       [19, 12, 19],\n",
       "       [11, 19, 14],\n",
       "       [11, 19, 18],\n",
       "       [10, 14, 12]])"
      ]
     },
     "execution_count": 30,
     "metadata": {},
     "output_type": "execute_result"
    }
   ],
   "source": [
    "mt1 = np.random.randint(10,20,size=(5,3))\n",
    "mt1"
   ]
  },
  {
   "cell_type": "markdown",
   "metadata": {},
   "source": [
    "#### Q. mt1 행렬을 전치 후 mt2로 출력하세요."
   ]
  },
  {
   "cell_type": "code",
   "execution_count": 28,
   "metadata": {},
   "outputs": [
    {
     "data": {
      "text/plain": [
       "array([[11, 11, 17, 10, 14],\n",
       "       [16, 11, 15, 15, 13],\n",
       "       [14, 12, 17, 16, 18]])"
      ]
     },
     "execution_count": 28,
     "metadata": {},
     "output_type": "execute_result"
    }
   ],
   "source": [
    "mt2 = mt1.transpose()\n",
    "mt2"
   ]
  },
  {
   "cell_type": "markdown",
   "metadata": {},
   "source": [
    "#### Q. 6개의 원소로 구성되는 배열을 np.random을 활용하여 생성 mt1으로 출력하세요."
   ]
  },
  {
   "cell_type": "code",
   "execution_count": 37,
   "metadata": {},
   "outputs": [
    {
     "data": {
      "text/plain": [
       "array([1, 1, 8, 0, 5, 9])"
      ]
     },
     "execution_count": 37,
     "metadata": {},
     "output_type": "execute_result"
    }
   ],
   "source": [
    "# 풀이\n",
    "mt = np.random.randint(10, size=6)\n",
    "mt"
   ]
  },
  {
   "cell_type": "markdown",
   "metadata": {},
   "source": [
    "#### Q. 행벡터 mt를 전치하여 열벡터로 변환하세요."
   ]
  },
  {
   "cell_type": "code",
   "execution_count": 39,
   "metadata": {},
   "outputs": [
    {
     "data": {
      "text/plain": [
       "array([[1],\n",
       "       [1],\n",
       "       [8],\n",
       "       [0],\n",
       "       [5],\n",
       "       [9]])"
      ]
     },
     "execution_count": 39,
     "metadata": {},
     "output_type": "execute_result"
    }
   ],
   "source": [
    "# 풀이\n",
    "# 일반적으로 벡터의 전치는 행 벡터를 열 벡터로 혹은 그 반대를 의미\n",
    "# 대괄호를 두번 사용하면 벡터를 전치할 수 있음\n",
    "np.array([[1, 1, 8, 0, 5, 9]]).T"
   ]
  },
  {
   "cell_type": "code",
   "execution_count": 40,
   "metadata": {},
   "outputs": [
    {
     "data": {
      "text/plain": [
       "numpy.ndarray"
      ]
     },
     "execution_count": 40,
     "metadata": {},
     "output_type": "execute_result"
    }
   ],
   "source": [
    "# (3,3) 행렬 생성\n",
    "matrix = np.array([[1, 2, 3],\n",
    "                  [4, 5, 6],\n",
    "                  [7, 8, 9]])\n",
    "type(matrix)"
   ]
  },
  {
   "cell_type": "markdown",
   "metadata": {},
   "source": [
    "#### Q. 배열 matrix를 broadcasting을 이용하여 다음 배열을 출력하는 연산을 수행하세요. \n",
    "array([[101, 202, 303],\\\n",
    "       [104, 205, 306],\\\n",
    "       [107, 208, 309]])\n"
   ]
  },
  {
   "cell_type": "code",
   "execution_count": 11,
   "metadata": {},
   "outputs": [
    {
     "data": {
      "text/plain": [
       "array([[101, 202, 303],\n",
       "       [104, 205, 306],\n",
       "       [107, 208, 309]])"
      ]
     },
     "execution_count": 11,
     "metadata": {},
     "output_type": "execute_result"
    }
   ],
   "source": [
    "# 풀이\n",
    "# (3,3) 크기 행렬에 (3,1) 크기 벡터를 더하면 열이 반복됨\n",
    "matrix + [100,200, 300]"
   ]
  },
  {
   "cell_type": "markdown",
   "metadata": {},
   "source": [
    "#### Q. (3,3) 2차원 배열을 np.random으로 생성하여 mt1으로 저장하고 차원을 구하세요."
   ]
  },
  {
   "cell_type": "code",
   "execution_count": 6,
   "metadata": {},
   "outputs": [
    {
     "data": {
      "text/plain": [
       "2"
      ]
     },
     "execution_count": 6,
     "metadata": {},
     "output_type": "execute_result"
    }
   ],
   "source": [
    "# 풀이\n",
    "import numpy as np\n",
    "mt1 = np.random.randint(1,10,size=(3,3))\n",
    "mt1\n",
    "np.ndim(mt1)"
   ]
  },
  {
   "cell_type": "markdown",
   "metadata": {},
   "source": [
    "#### Q. 아래 두개의 행렬에 대한 덧셈, 뺄셈, 곱셈을 수행하세요"
   ]
  },
  {
   "cell_type": "code",
   "execution_count": 12,
   "metadata": {},
   "outputs": [],
   "source": [
    "mt1 = np.array([[1, 1, 2],\n",
    "               [1, 1, 1],\n",
    "               [3, 3, 4]])\n",
    "\n",
    "mt2 = np.array([[7, 6, 8],\n",
    "                [7, 7, 6],\n",
    "                [8, 7, 8]])"
   ]
  },
  {
   "cell_type": "code",
   "execution_count": 15,
   "metadata": {},
   "outputs": [
    {
     "name": "stdout",
     "output_type": "stream",
     "text": [
      "[[ 8  7 10]\n",
      " [ 8  8  7]\n",
      " [11 10 12]]\n",
      "\n",
      "[[-6 -5 -6]\n",
      " [-6 -6 -5]\n",
      " [-5 -4 -4]]\n",
      "\n",
      "[[30 27 30]\n",
      " [22 20 22]\n",
      " [74 67 74]]\n"
     ]
    }
   ],
   "source": [
    "# 풀이\n",
    "print(mt1 + mt2)\n",
    "print()\n",
    "print(mt1-mt2)\n",
    "print()\n",
    "print(np.dot(mt1,mt2))"
   ]
  }
 ],
 "metadata": {
  "kernelspec": {
   "display_name": "Python 3",
   "language": "python",
   "name": "python3"
  },
  "language_info": {
   "codemirror_mode": {
    "name": "ipython",
    "version": 3
   },
   "file_extension": ".py",
   "mimetype": "text/x-python",
   "name": "python",
   "nbconvert_exporter": "python",
   "pygments_lexer": "ipython3",
   "version": "3.7.4"
  }
 },
 "nbformat": 4,
 "nbformat_minor": 2
}
