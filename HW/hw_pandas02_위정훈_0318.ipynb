{
 "cells": [
  {
   "cell_type": "markdown",
   "metadata": {},
   "source": [
    "### Q. 연속된 정수 1 ~ 24 와 25~50  으로 각각 구성된 (8,3) 행렬 데이터프레임 df_a와 df_b를 생성 출력하세요."
   ]
  },
  {
   "cell_type": "markdown",
   "metadata": {},
   "source": [
    "### Q. df_a, df_b의 사칙연산 결과를 데이터프레임으로 합쳐서 출력하세요."
   ]
  },
  {
   "cell_type": "markdown",
   "metadata": {},
   "source": [
    "### Q. df_a,df_b 데이터 프레임으로 아래 사항을 수행하여 df_na와 df_nb를 생성하세요.\n",
    "- 4행에서 끝행까지 선택 추출한 후 df_an, df_bn으로 각각 저장\n",
    "- df_an, df_bn의 인덱스를 각각 리셋한 후 df_na, df_nb로 저장\n",
    "- df_na의 세번째 행 x 위치에 np.nan 적용\n",
    "- df_nb의 네번째 행, z 위치에 np.nan 적용\n",
    "- df_na, df_nb를 출력, NaN 값 확인"
   ]
  },
  {
   "cell_type": "markdown",
   "metadata": {},
   "source": [
    "### Q. df_na와 df_nb의 NaN 값을 0으로 대체하고 사칙연산을 수행하세요."
   ]
  },
  {
   "cell_type": "markdown",
   "metadata": {},
   "source": [
    "### Q. 타이타닉 데이터인 train.csv 파일을 데이터프레임으로 변환 후 아래 작업을 수행하세요.\n",
    "\n",
    "* 다운받은 파일을 jupyter notebook 작업폴더에 저장한다.\n",
    "* pd.read_csv를 이용 읽기를 수행하고 titanic_df 이름으로 저장한 후 처음 5행을 출력한다."
   ]
  },
  {
   "cell_type": "markdown",
   "metadata": {},
   "source": [
    "### Q. 데이터프레임 titanic_sp에 숫자 10 더한 후 'addition' 이름으로 데이터프레임을 생성하고 출력하세요.\n",
    "### Q. 데이터프레임 addition에서 숫자 titanic_sp 뺀 후 'subtraction' 이름으로 데이터프레임을 생성하고 출력하세요."
   ]
  },
  {
   "cell_type": "markdown",
   "metadata": {},
   "source": [
    "### Q. titanic_df의 인덱스를 PassengerId로 바꾸세요."
   ]
  },
  {
   "cell_type": "markdown",
   "metadata": {},
   "source": [
    "### Q. titanic_df의 행 인덱스를 정수형 위치 인덱스로 초기화 하세요."
   ]
  },
  {
   "cell_type": "markdown",
   "metadata": {},
   "source": [
    "### Q. titanic_df를 Name 칼럼을 기준으로 올림차순 정렬한 후 titanic_sort 이름으로 저장후 출력하세요."
   ]
  },
  {
   "cell_type": "markdown",
   "metadata": {},
   "source": [
    "### Q. titanic_df에서 Sex' 칼럼 분리후 value_counts를 출력하세요."
   ]
  },
  {
   "cell_type": "markdown",
   "metadata": {},
   "source": [
    "### Q. titanic_sex를 DataFrame으로 변환하여 출력하세요."
   ]
  },
  {
   "cell_type": "markdown",
   "metadata": {},
   "source": [
    "### Q. titanic_df에서 'Survived' 칼럼을 추출해서 titanic_survived 이름으로 저장후 자료형을 확인하세요.\n",
    "### Q. titanic_survived의 처음 5개행의 값을 출력하세요.(범위 ':'을 이용)"
   ]
  },
  {
   "cell_type": "markdown",
   "metadata": {},
   "source": [
    "### Q. 데이터프레임 sex_df와 시리즈 titanic_survived를 추가한 후 ss_df 이름으로 저장 후 출력하세요. "
   ]
  },
  {
   "cell_type": "markdown",
   "metadata": {},
   "source": [
    "### Q. ss_df에 890행을 복사해서 891 행에 추가한 후 끝에서 부터 5개행을 출력하세요. "
   ]
  },
  {
   "cell_type": "markdown",
   "metadata": {},
   "source": [
    "### Q. ss_df에서 행 인덱스 891과 열 인덱스 첫번째에 해당하는 값을 loc, iloc를 활용해서 각각 구한 후 출력하세요."
   ]
  },
  {
   "cell_type": "markdown",
   "metadata": {},
   "source": [
    "### Q. titanic_df의 칼럼을 확인한 후 'PassengerId'와 'Survived' 를 제외한 모든 칼럼을 포함한 df_c2를 출력하세요."
   ]
  },
  {
   "cell_type": "markdown",
   "metadata": {},
   "source": [
    "### (응용)Q. train.csv 데이터 셋을 탐색한 후 타이타닉 예측 모델 개발을 위한 분석용 데이터 셋을 만들기 위하여 필요한 전처리 작업을 기술하세요."
   ]
  }
 ],
 "metadata": {
  "kernelspec": {
   "display_name": "Python 3",
   "language": "python",
   "name": "python3"
  },
  "language_info": {
   "codemirror_mode": {
    "name": "ipython",
    "version": 3
   },
   "file_extension": ".py",
   "mimetype": "text/x-python",
   "name": "python",
   "nbconvert_exporter": "python",
   "pygments_lexer": "ipython3",
   "version": "3.7.6"
  }
 },
 "nbformat": 4,
 "nbformat_minor": 2
}
