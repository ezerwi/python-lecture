{
  "nbformat": 4,
  "nbformat_minor": 0,
  "metadata": {
    "colab": {
      "name": "hw_0310_위정훈.ipynb",
      "provenance": [],
      "collapsed_sections": [],
      "include_colab_link": true
    },
    "kernelspec": {
      "display_name": "Python 3",
      "language": "python",
      "name": "python3"
    },
    "language_info": {
      "codemirror_mode": {
        "name": "ipython",
        "version": 3
      },
      "file_extension": ".py",
      "mimetype": "text/x-python",
      "name": "python",
      "nbconvert_exporter": "python",
      "pygments_lexer": "ipython3",
      "version": "3.7.4"
    }
  },
  "cells": [
    {
      "cell_type": "markdown",
      "metadata": {
        "id": "view-in-github",
        "colab_type": "text"
      },
      "source": [
        "<a href=\"https://colab.research.google.com/github/ezerwi/python-lecture/blob/master/hw_0310_%E1%84%8B%E1%85%B1%E1%84%8C%E1%85%A5%E1%86%BC%E1%84%92%E1%85%AE%E1%86%AB.ipynb\" target=\"_parent\"><img src=\"https://colab.research.google.com/assets/colab-badge.svg\" alt=\"Open In Colab\"/></a>"
      ]
    },
    {
      "cell_type": "markdown",
      "metadata": {
        "colab_type": "text",
        "id": "5B7ahE3A-Ovw"
      },
      "source": [
        "#### 1. a, b, c의 평균 점수 구하세요\n",
        "\n",
        "a = 80,  b = 75, c = 55"
      ]
    },
    {
      "cell_type": "code",
      "metadata": {
        "colab_type": "code",
        "id": "ucXmla89E0hM",
        "outputId": "b3b57ca3-24d7-409e-b605-c83e3e73d5a4",
        "colab": {
          "base_uri": "https://localhost:8080/",
          "height": 34
        }
      },
      "source": [
        "a, b, c = 80, 75, 55\n",
        "sum = a + b + c\n",
        "avg = sum / 3\n",
        "print (\"평균 점수 : \", avg)"
      ],
      "execution_count": 0,
      "outputs": [
        {
          "output_type": "stream",
          "text": [
            "평균 점수 :  70.0\n"
          ],
          "name": "stdout"
        }
      ]
    },
    {
      "cell_type": "markdown",
      "metadata": {
        "colab_type": "text",
        "id": "eYJB2gj_-Ov0"
      },
      "source": [
        "#### 2. 사용자 함수를 작성하여 자연수 123이 홀수인지 짝수인지를 판별하세요."
      ]
    },
    {
      "cell_type": "code",
      "metadata": {
        "colab_type": "code",
        "id": "FeHTwVjh_ccD",
        "outputId": "e9d22f19-fc1c-4e7d-8dfe-1a90a89cc0a7",
        "colab": {
          "base_uri": "https://localhost:8080/",
          "height": 34
        }
      },
      "source": [
        "Q2 = 123\n",
        "if Q2 % 2 == 0 :   print(\"짝수입니다\")\n",
        "else : print(\"홀수입니다\")"
      ],
      "execution_count": 0,
      "outputs": [
        {
          "output_type": "stream",
          "text": [
            "홀수입니다\n"
          ],
          "name": "stdout"
        }
      ]
    },
    {
      "cell_type": "markdown",
      "metadata": {
        "colab_type": "text",
        "id": "QqXOJepX-Ov1"
      },
      "source": [
        "#### 3. format 함수를 사용하여 아래와 같이 출력하세요.\n",
        "I ate 10 apples. so I was sick for 3 days. \\\n",
        "hi!!!!!!!!"
      ]
    },
    {
      "cell_type": "code",
      "metadata": {
        "colab_type": "code",
        "id": "0FCeq28rFHhM",
        "outputId": "7e978269-ed25-4e76-d621-da238b68113c",
        "colab": {
          "base_uri": "https://localhost:8080/",
          "height": 51
        }
      },
      "source": [
        "print ('I ate {} apples. so I was sick for {} days.'.format(10, 3))\n",
        "print ('hi{}'.format('!'*10))"
      ],
      "execution_count": 0,
      "outputs": [
        {
          "output_type": "stream",
          "text": [
            "I ate 10 apples. so I was sick for 3 days.\n",
            "hi!!!!!!!!!!\n"
          ],
          "name": "stdout"
        }
      ]
    },
    {
      "cell_type": "markdown",
      "metadata": {
        "colab_type": "text",
        "id": "rP4DyNl2-Ov2"
      },
      "source": [
        "#### 4. 문자열 a:b:c:d가 있다. 문자열의 replace 함수를 사용하여 a#b#c#d로 바꿔서 출력하세요."
      ]
    },
    {
      "cell_type": "code",
      "metadata": {
        "colab_type": "code",
        "id": "_t2B1NMh-XLI",
        "outputId": "d7cd6351-6fd0-49c7-bc90-39a1c7ee86f7",
        "colab": {
          "base_uri": "https://localhost:8080/",
          "height": 34
        }
      },
      "source": [
        "Q4 = \"a:b:c:d\"\n",
        "print(Q4.replace(':', '#'))"
      ],
      "execution_count": 0,
      "outputs": [
        {
          "output_type": "stream",
          "text": [
            "a#b#c#d\n"
          ],
          "name": "stdout"
        }
      ]
    },
    {
      "cell_type": "markdown",
      "metadata": {
        "colab_type": "text",
        "id": "9YWNWseg-Ov3"
      },
      "source": [
        "#### 5. 문자열 'I love python! you love java'을 리스트['I love python', ' you love java']으로 출력하세요."
      ]
    },
    {
      "cell_type": "code",
      "metadata": {
        "colab_type": "code",
        "id": "tY_bfKS3_UNk",
        "outputId": "fe873629-fb3e-4c6c-b5f8-f17c26db5cd6",
        "colab": {
          "base_uri": "https://localhost:8080/",
          "height": 34
        }
      },
      "source": [
        "Q5 = 'I love python! you love java'\n",
        "print(Q5.split('!'))"
      ],
      "execution_count": 0,
      "outputs": [
        {
          "output_type": "stream",
          "text": [
            "['I love python', ' you love java']\n"
          ],
          "name": "stdout"
        }
      ]
    },
    {
      "cell_type": "markdown",
      "metadata": {
        "colab_type": "text",
        "id": "OizxOv1P-Ov4"
      },
      "source": [
        "#### 6. [1,2,3] 리스트에 추가하여 [1,2,3,4,5, [7,8], 'a','b']를 만들어 출력하세요."
      ]
    },
    {
      "cell_type": "code",
      "metadata": {
        "colab_type": "code",
        "id": "pqBC1eaZGNCW",
        "outputId": "a62c09d7-ebf3-48a0-dcdb-43bf4bed6f41",
        "colab": {
          "base_uri": "https://localhost:8080/",
          "height": 34
        }
      },
      "source": [
        "Q6 = [1,2,3]\n",
        "Q6.extend([4,5])\n",
        "Q6.append([7,8])\n",
        "Q6.append(['a','b'])\n",
        "print(Q6)"
      ],
      "execution_count": 0,
      "outputs": [
        {
          "output_type": "stream",
          "text": [
            "[1, 2, 3, 4, 5, [7, 8], ['a', 'b']]\n"
          ],
          "name": "stdout"
        }
      ]
    },
    {
      "cell_type": "markdown",
      "metadata": {
        "colab_type": "text",
        "id": "aVd94GO3-Ov6"
      },
      "source": [
        "#### 7. a = {'A':90, 'B':80, 'C':70} 에서 key 'B'에 해당하는 값을 출력하고 그 요소는 a에서 삭제하세요. "
      ]
    },
    {
      "cell_type": "code",
      "metadata": {
        "colab_type": "code",
        "id": "8DfLBShRGxcN",
        "outputId": "8869e9d4-9b18-4e2e-85e5-3967a271f443",
        "colab": {
          "base_uri": "https://localhost:8080/",
          "height": 51
        }
      },
      "source": [
        "a = {'A':90, 'B':80, 'C':70}\n",
        "print(a.get('B'))\n",
        "del a['B']\n",
        "print(a)"
      ],
      "execution_count": 0,
      "outputs": [
        {
          "output_type": "stream",
          "text": [
            "80\n",
            "{'A': 90, 'C': 70}\n"
          ],
          "name": "stdout"
        }
      ]
    },
    {
      "cell_type": "markdown",
      "metadata": {
        "colab_type": "text",
        "id": "MMOpMOWK-Ov7"
      },
      "source": [
        "#### 8. 구구단을 구하는 사용자 함수를 만든 후 5단을 출력하세요.\n"
      ]
    },
    {
      "cell_type": "code",
      "metadata": {
        "colab_type": "code",
        "id": "j3h_o7xwHjML",
        "outputId": "2fa9c5a8-50f0-4cd2-c8f7-7224237e382e",
        "colab": {
          "base_uri": "https://localhost:8080/",
          "height": 187
        }
      },
      "source": [
        "def Gugu(num) :\n",
        "    print (\"구구단\", num, \"단\")\n",
        "    for i in range(1, 10) :\n",
        "        print(num,\"X\", i,\"=\", num*i)\n",
        "\n",
        "Gugu(5)"
      ],
      "execution_count": 0,
      "outputs": [
        {
          "output_type": "stream",
          "text": [
            "구구단 5 단\n",
            "5 X 1 = 5\n",
            "5 X 2 = 10\n",
            "5 X 3 = 15\n",
            "5 X 4 = 20\n",
            "5 X 5 = 25\n",
            "5 X 6 = 30\n",
            "5 X 7 = 35\n",
            "5 X 8 = 40\n",
            "5 X 9 = 45\n"
          ],
          "name": "stdout"
        }
      ]
    },
    {
      "cell_type": "markdown",
      "metadata": {
        "colab_type": "text",
        "id": "owjVFPWC-Ov8"
      },
      "source": [
        "#### 10. 5000미만의 자연수에서 2의 배수와 5의 배수의 총합"
      ]
    },
    {
      "cell_type": "code",
      "metadata": {
        "colab_type": "code",
        "id": "9d0HHAQ5IRyk",
        "outputId": "e1ac6512-510d-4136-fb6a-3b936ac2c4a2",
        "colab": {
          "base_uri": "https://localhost:8080/",
          "height": 34
        }
      },
      "source": [
        "sum = 0\n",
        "for i in range(5000) :\n",
        "    if i % 2 == 0 or i % 5 == 0 :\n",
        "        sum += i\n",
        "\n",
        "print (sum)"
      ],
      "execution_count": 0,
      "outputs": [
        {
          "output_type": "stream",
          "text": [
            "7497500\n"
          ],
          "name": "stdout"
        }
      ]
    },
    {
      "cell_type": "markdown",
      "metadata": {
        "colab_type": "text",
        "id": "N5AR6uDN-Ov9"
      },
      "source": [
        "#### 11. 게시물의 총 건수(m)와 한 페이지에 보여 줄 게시물 수(n)를 입력시 총 페이지 수를 출력하는 사용자 함수를 작성 후 m 과 n이 다음과 같이 주어졌을 때 총페이지 수를 구하세요.\n",
        "- m=100, n=20\n",
        "- m=500, n=25\n"
      ]
    },
    {
      "cell_type": "code",
      "metadata": {
        "colab_type": "code",
        "id": "6ftNOCWYLaxw",
        "outputId": "9dcfb2c7-4a59-4429-beaa-be65e2895fe9",
        "colab": {
          "base_uri": "https://localhost:8080/",
          "height": 51
        }
      },
      "source": [
        "def pages(m, n) :\n",
        "    pgs = m//n\n",
        "    if m%n != 0 : pgs += 1\n",
        "    return pgs\n",
        "\n",
        "print(pages(100, 20))\n",
        "print(pages(500, 25))"
      ],
      "execution_count": 0,
      "outputs": [
        {
          "output_type": "stream",
          "text": [
            "5\n",
            "20\n"
          ],
          "name": "stdout"
        }
      ]
    },
    {
      "cell_type": "markdown",
      "metadata": {
        "colab_type": "text",
        "id": "WSFiVw_1-Ov-"
      },
      "source": [
        "#### 12. random 모듈을 사용하여 로또 번호(1~45 사이의 숫자 6개)를 생성하세요."
      ]
    },
    {
      "cell_type": "code",
      "metadata": {
        "colab_type": "code",
        "id": "hOR_gBCiKheX",
        "outputId": "3bc3d7a0-1a53-4438-a9ab-aabfb1b320e0",
        "colab": {
          "base_uri": "https://localhost:8080/",
          "height": 119
        }
      },
      "source": [
        "import random\n",
        "\n",
        "for i in range(6):\n",
        "    print(random.randint(1, 45))"
      ],
      "execution_count": 0,
      "outputs": [
        {
          "output_type": "stream",
          "text": [
            "10\n",
            "5\n",
            "40\n",
            "7\n",
            "38\n",
            "36\n"
          ],
          "name": "stdout"
        }
      ]
    },
    {
      "cell_type": "markdown",
      "metadata": {
        "colab_type": "text",
        "id": "mHLXy0pR-Ov_"
      },
      "source": [
        "#### 13. 사칙연산 클래스 만들고 다음 사항들을 출력하세요"
      ]
    },
    {
      "cell_type": "code",
      "metadata": {
        "colab_type": "code",
        "id": "9es18IHz-OwB",
        "outputId": "fc4b5eff-20d5-424c-e12c-fcdb405cf951",
        "colab": {
          "base_uri": "https://localhost:8080/",
          "height": 153
        }
      },
      "source": [
        "class FourCal :\n",
        "    def __init__(self, first, second) :\n",
        "        self.first = first\n",
        "        self.second = second\n",
        "    def sum(self) : return self.first + self.second\n",
        "    def sub(self) : return self.first - self.second\n",
        "    def mul(self) : return self.first * self.second\n",
        "    def div(self) : return self.first / self.second\n",
        "\n",
        "a = FourCal(4,2)\n",
        "b = FourCal(3,7)\n",
        "# a.setdata(4,2)\n",
        "# b.setdata(3,7)\n",
        "print(a.sum())\n",
        "print(a.mul())\n",
        "print(a.sub())\n",
        "print(round(a.div()))\n",
        "print(b.sum())\n",
        "print(b.mul())\n",
        "print(b.sub())\n",
        "print(round(b.div()))"
      ],
      "execution_count": 0,
      "outputs": [
        {
          "output_type": "stream",
          "text": [
            "6\n",
            "8\n",
            "2\n",
            "2\n",
            "10\n",
            "21\n",
            "-4\n",
            "0\n"
          ],
          "name": "stdout"
        }
      ]
    },
    {
      "cell_type": "markdown",
      "metadata": {
        "colab_type": "text",
        "id": "ROlL43rm-OwG"
      },
      "source": [
        "#### 14. for문을 사용해 1부터 100까지의 숫자를 출력하세요."
      ]
    },
    {
      "cell_type": "code",
      "metadata": {
        "colab_type": "code",
        "id": "JbtvgRhx-4T0",
        "outputId": "ad880f0d-3c43-4da8-c8fe-282067d30f2f",
        "colab": {
          "base_uri": "https://localhost:8080/",
          "height": 54
        }
      },
      "source": [
        "for i in range(1,101) :\n",
        "    print(i, end=' ')"
      ],
      "execution_count": 0,
      "outputs": [
        {
          "output_type": "stream",
          "text": [
            "1 2 3 4 5 6 7 8 9 10 11 12 13 14 15 16 17 18 19 20 21 22 23 24 25 26 27 28 29 30 31 32 33 34 35 36 37 38 39 40 41 42 43 44 45 46 47 48 49 50 51 52 53 54 55 56 57 58 59 60 61 62 63 64 65 66 67 68 69 70 71 72 73 74 75 76 77 78 79 80 81 82 83 84 85 86 87 88 89 90 91 92 93 94 95 96 97 98 99 100 "
          ],
          "name": "stdout"
        }
      ]
    },
    {
      "cell_type": "markdown",
      "metadata": {
        "colab_type": "text",
        "id": "5hRxKTgg-OwH"
      },
      "source": [
        "#### 15. A 학급에 총 10명의 학생이 있다. 이 학생들의 중간고사 점수는 다음과 같다.\n",
        "[70, 60, 55, 75, 95, 90, 80, 80, 85, 100]\\\n",
        "for문을 사용하여 A 학급의 평균 점수를 구해 보자."
      ]
    },
    {
      "cell_type": "code",
      "metadata": {
        "colab_type": "code",
        "id": "lodo12Yq_Blo",
        "outputId": "36755e14-1257-4bc4-ba83-c08f0b51fc6d",
        "colab": {
          "base_uri": "https://localhost:8080/",
          "height": 34
        }
      },
      "source": [
        "Q15 = [70, 60, 55, 75, 95, 90, 80, 80, 85, 100]\n",
        "sum = 0\n",
        "for i in Q15 :\n",
        "    sum += i\n",
        "avg = sum / len(Q15)\n",
        "print(avg)"
      ],
      "execution_count": 0,
      "outputs": [
        {
          "output_type": "stream",
          "text": [
            "79.0\n"
          ],
          "name": "stdout"
        }
      ]
    }
  ]
}