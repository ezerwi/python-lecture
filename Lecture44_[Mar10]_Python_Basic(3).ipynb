{
  "nbformat": 4,
  "nbformat_minor": 0,
  "metadata": {
    "colab": {
      "name": "Lecture44_[Mar10]_Python_Basic(3).ipynb",
      "provenance": [],
      "collapsed_sections": [],
      "toc_visible": true,
      "mount_file_id": "1ciSNz0sbbcVF0WPicVJMV6HmG4uqv6ok",
      "authorship_tag": "ABX9TyOsshU69+M9wdHD6X2xdUe0",
      "include_colab_link": true
    },
    "kernelspec": {
      "name": "python3",
      "display_name": "Python 3"
    }
  },
  "cells": [
    {
      "cell_type": "markdown",
      "metadata": {
        "id": "view-in-github",
        "colab_type": "text"
      },
      "source": [
        "<a href=\"https://colab.research.google.com/github/ezerwi/python-lecture/blob/master/Lecture44_%5BMar10%5D_Python_Basic(3).ipynb\" target=\"_parent\"><img src=\"https://colab.research.google.com/assets/colab-badge.svg\" alt=\"Open In Colab\"/></a>"
      ]
    },
    {
      "cell_type": "markdown",
      "metadata": {
        "id": "wx2mg8EnvOOu",
        "colab_type": "text"
      },
      "source": [
        "### Lecture44  Mar/10/2020\n"
      ]
    },
    {
      "cell_type": "markdown",
      "metadata": {
        "id": "xZ4RYQ4O3LbH",
        "colab_type": "text"
      },
      "source": [
        "### 커피 자판기 프로그램"
      ]
    },
    {
      "cell_type": "code",
      "metadata": {
        "id": "T8SIIcUs3O2T",
        "colab_type": "code",
        "outputId": "b85eb7cf-de86-419d-f2e7-652776ca4be2",
        "colab": {
          "base_uri": "https://localhost:8080/",
          "height": 130
        }
      },
      "source": [
        "coffee = 10 # 총 판매 가능 개수\n",
        "price = 300 # 커피 가격\n",
        "print(\"커피 자판기\")\n",
        "\n",
        "while coffee > 0  :\n",
        "  money = int( input(\"커피를 주문하시겠습니까?\") )\n",
        "  if money < price :\n",
        "    print(\"금액이 부족합니다. {}을 반환합니다.\".format(money))\n",
        "    \n",
        "  if money >= price and (money <= coffee*price) :\n",
        "    order = money // price\n",
        "    coffee -= order\n",
        "    ret = money % price\n",
        "    print(\"커피 {}개를 주문합니다\".format(order))\n",
        "    if ret != 0 :\n",
        "      print(\"잔돈 {}원을 반환합니다.\".format(ret))\n",
        "  elif money >= price and ( money > coffee*price) :\n",
        "    print(\"만들 수 있는 개수를 초과합니다. 커피 10개만 주문합니다.\")\n",
        "    print(\"잔돈 {}원을 반환합니다.\".format(money - coffee*price))\n",
        "    coffee = 0\n",
        "  \n",
        "  print(\"남은 커피 개수 : \", coffee)\n",
        "  \n",
        "print (\"커피 소진 : 더 이상 커피가 없습니다.\")\n",
        "    "
      ],
      "execution_count": 0,
      "outputs": [
        {
          "output_type": "stream",
          "text": [
            "커피 자판기\n",
            "커피를 주문하시겠습니까?5000\n",
            "만들 수 있는 개수를 초과합니다. 커피 10개만 주문합니다.\n",
            "잔돈 2000원을 반환합니다.\n",
            "남은 커피 개수 :  0\n",
            "커피 소진 : 더 이상 커피가 없습니다.\n"
          ],
          "name": "stdout"
        }
      ]
    },
    {
      "cell_type": "markdown",
      "metadata": {
        "id": "N5MnMVYOA4H0",
        "colab_type": "text"
      },
      "source": [
        "### 함수"
      ]
    },
    {
      "cell_type": "code",
      "metadata": {
        "id": "RiojWH2iA6x_",
        "colab_type": "code",
        "outputId": "f65ca3af-db1a-4c5a-a878-77bb6322dfc4",
        "colab": {
          "base_uri": "https://localhost:8080/",
          "height": 35
        }
      },
      "source": [
        "def say() :\n",
        "  return 'Hi'\n",
        "\n",
        "a = say()\n",
        "print(a)"
      ],
      "execution_count": 0,
      "outputs": [
        {
          "output_type": "stream",
          "text": [
            "Hi\n"
          ],
          "name": "stdout"
        }
      ]
    },
    {
      "cell_type": "code",
      "metadata": {
        "id": "Q341KwpOBA-A",
        "colab_type": "code",
        "outputId": "296a44f7-9e44-4c6f-dbcd-bc9564079fd2",
        "colab": {
          "base_uri": "https://localhost:8080/",
          "height": 35
        }
      },
      "source": [
        "def sum (a, b) :\n",
        "  print(\"%d, %d의 합은 %d입니다.\" % (a, b, a+b))\n",
        "sum(3, 4)"
      ],
      "execution_count": 0,
      "outputs": [
        {
          "output_type": "stream",
          "text": [
            "3, 4의 합은 7입니다.\n"
          ],
          "name": "stdout"
        }
      ]
    },
    {
      "cell_type": "markdown",
      "metadata": {
        "id": "8NJ-0IRfCtuA",
        "colab_type": "text"
      },
      "source": [
        "여러 개의 인자를 받는 함수\n",
        "\n",
        "변수명 앞에 *을 붙이면 입력값들을 tuple로 변경해 처리\n"
      ]
    },
    {
      "cell_type": "code",
      "metadata": {
        "id": "TfiBoXd4BRl7",
        "colab_type": "code",
        "outputId": "fadbbdfc-d7a0-4911-d3d5-6800068ebe6f",
        "colab": {
          "base_uri": "https://localhost:8080/",
          "height": 35
        }
      },
      "source": [
        "def sum_many(*args) :\n",
        "    sum = 0\n",
        "    for i in args :\n",
        "        sum += i\n",
        "    return sum\n",
        "print (sum_many(1,2,3,4,5))"
      ],
      "execution_count": 0,
      "outputs": [
        {
          "output_type": "stream",
          "text": [
            "15\n"
          ],
          "name": "stdout"
        }
      ]
    },
    {
      "cell_type": "code",
      "metadata": {
        "id": "ZypnVJbgCkkw",
        "colab_type": "code",
        "outputId": "f59161a7-f376-4feb-9987-c709d8005050",
        "colab": {
          "base_uri": "https://localhost:8080/",
          "height": 54
        }
      },
      "source": [
        "def sum_mul (choice, *args) :\n",
        "    if choice == 'sum' :\n",
        "        res = 0\n",
        "        for i in args :\n",
        "            res += i\n",
        "    if choice == 'mul' :\n",
        "        res = 1\n",
        "        for i in args : \n",
        "            res *= i\n",
        "    return res\n",
        "\n",
        "print (sum_mul('sum', 1,2,3,4,5))\n",
        "print (sum_mul('mul', 1,2,3,4,5))"
      ],
      "execution_count": 0,
      "outputs": [
        {
          "output_type": "stream",
          "text": [
            "15\n",
            "120\n"
          ],
          "name": "stdout"
        }
      ]
    },
    {
      "cell_type": "code",
      "metadata": {
        "id": "7qGhzPspD2u7",
        "colab_type": "code",
        "outputId": "8243ac47-3f01-4c64-e2f8-3405c3d6f868",
        "colab": {
          "base_uri": "https://localhost:8080/",
          "height": 54
        }
      },
      "source": [
        "def sub_div (choice, *args) :\n",
        "    res = args[0]\n",
        "    if choice == 'sub' :\n",
        "        res = -args[0]\n",
        "        for i in range(1,len(args)) :\n",
        "            res -= args[i]\n",
        "    if choice == 'div' :\n",
        "        for i in range(1,len(args)) :\n",
        "            res /= i\n",
        "    return res\n",
        "\n",
        "print (sub_div('sub', 2,4,6,8,10))\n",
        "print (sub_div('div', 2,4,6,8,10))"
      ],
      "execution_count": 0,
      "outputs": [
        {
          "output_type": "stream",
          "text": [
            "-30\n",
            "0.08333333333333333\n"
          ],
          "name": "stdout"
        }
      ]
    },
    {
      "cell_type": "markdown",
      "metadata": {
        "id": "4qolNsvgG4T9",
        "colab_type": "text"
      },
      "source": [
        "함수의 결과값은 항상 하나이므로, return 값을 2개 이상으로 정할 경우 tuple로 반환\n",
        "\n",
        "- 결과값을 tuple이 아닌 각각 저장하고 싶으면 변수를 2개 선언하여 저장\n",
        "\n",
        "- 'return'을 중복 생성할수는 없음; 먼저 생성된 return에서 함수 종료되므로"
      ]
    },
    {
      "cell_type": "code",
      "metadata": {
        "id": "OKqSBm9KFZan",
        "colab_type": "code",
        "outputId": "b5777913-1f5d-4507-8901-d9432e6bf792",
        "colab": {
          "base_uri": "https://localhost:8080/",
          "height": 73
        }
      },
      "source": [
        "def sum_and_mul (a,b) :\n",
        "    return a+b, a*b\n",
        "print(sum_and_mul(4,7))\n",
        "\n",
        "rs1, rs2 = sum_and_mul(4,7)\n",
        "print (rs1)\n",
        "print (rs2)"
      ],
      "execution_count": 0,
      "outputs": [
        {
          "output_type": "stream",
          "text": [
            "(11, 28)\n",
            "11\n",
            "28\n"
          ],
          "name": "stdout"
        }
      ]
    },
    {
      "cell_type": "code",
      "metadata": {
        "id": "PitL_o_7HpmQ",
        "colab_type": "code",
        "outputId": "337ce362-159d-42f3-92be-859a7abde38a",
        "colab": {
          "base_uri": "https://localhost:8080/",
          "height": 54
        }
      },
      "source": [
        "def sy_nick(nick) :\n",
        "    if nick == '바보' : return '아니야!'\n",
        "    print ('나의 별명은 %s입니다.' % nick)\n",
        "\n",
        "print(sy_nick('바보'))\n",
        "sy_nick('google')"
      ],
      "execution_count": 0,
      "outputs": [
        {
          "output_type": "stream",
          "text": [
            "아니야!\n",
            "나의 별명은 google입니다.\n"
          ],
          "name": "stdout"
        }
      ]
    },
    {
      "cell_type": "code",
      "metadata": {
        "id": "rrztPW3KISLR",
        "colab_type": "code",
        "outputId": "0a0192c0-d205-4694-8fd3-a8d29f467d21",
        "colab": {
          "base_uri": "https://localhost:8080/",
          "height": 136
        }
      },
      "source": [
        "def say_myself(name, old, man=True) :\n",
        "    print ('My name is %s' % name)\n",
        "    print ('My age is %d' % old)\n",
        "    if man : print ('My gender is Male')\n",
        "    else : print ('My gender is Female')\n",
        "\n",
        "say_myself ('wjh', 31)\n",
        "print(' ')\n",
        "say_myself ('wss', 28, False)"
      ],
      "execution_count": 0,
      "outputs": [
        {
          "output_type": "stream",
          "text": [
            "My name is wjh\n",
            "My age is 31\n",
            "My gender is Male\n",
            " \n",
            "My name is wss\n",
            "My age is 28\n",
            "My gender is Female\n"
          ],
          "name": "stdout"
        }
      ]
    },
    {
      "cell_type": "code",
      "metadata": {
        "id": "2II-P6GOMtWf",
        "colab_type": "code",
        "outputId": "58938c95-f845-4adb-d77c-64420db155cc",
        "colab": {
          "base_uri": "https://localhost:8080/",
          "height": 130
        }
      },
      "source": [
        "# 아래와 같은 경우는 에러 발생\n",
        "# 초기값 설정하는 인자는 반드시 초기값 설정 없는 인자들 뒤에 위치해야 함\n",
        "\n",
        "# non-default argument follows default argument\n",
        "\n",
        "def say_myself(name, man=True, old) :\n",
        "    print ('My name is %s' % name)\n",
        "    print ('My age is %d' % old)\n",
        "    if man : print ('My gender is Male')\n",
        "    else : print ('My gender is Female')\n",
        "\n",
        "say_myself ('wjh', True, 31)"
      ],
      "execution_count": 0,
      "outputs": [
        {
          "output_type": "error",
          "ename": "SyntaxError",
          "evalue": "ignored",
          "traceback": [
            "\u001b[0;36m  File \u001b[0;32m\"<ipython-input-40-60a58ccce229>\"\u001b[0;36m, line \u001b[0;32m2\u001b[0m\n\u001b[0;31m    def say_myself(name, man=True, old) :\u001b[0m\n\u001b[0m                  ^\u001b[0m\n\u001b[0;31mSyntaxError\u001b[0m\u001b[0;31m:\u001b[0m non-default argument follows default argument\n"
          ]
        }
      ]
    },
    {
      "cell_type": "markdown",
      "metadata": {
        "id": "GYIvGueUOBwl",
        "colab_type": "text"
      },
      "source": [
        "### 함수 안에서 선언된 지역변수의 효력 범위\n",
        "\n",
        "global 명령을 이용해 함수 안에서 함수 밖의 변수 직접 사용 가능\n",
        "\n",
        "그러나 함수는 독립적으로 존재하는 것이 좋기 때문에 외부변수에 종속적인 함수는 비추천"
      ]
    },
    {
      "cell_type": "code",
      "metadata": {
        "id": "e7egDadgO01P",
        "colab_type": "code",
        "outputId": "f9df75d0-eddf-442b-d518-c7f003bdece9",
        "colab": {
          "base_uri": "https://localhost:8080/",
          "height": 51
        }
      },
      "source": [
        "a = 1\n",
        "def vartest(a) :\n",
        "    a = a+1\n",
        "    \n",
        "print (vartest(a))\n",
        "print (a)"
      ],
      "execution_count": 0,
      "outputs": [
        {
          "output_type": "stream",
          "text": [
            "None\n",
            "1\n"
          ],
          "name": "stdout"
        }
      ]
    },
    {
      "cell_type": "code",
      "metadata": {
        "id": "KFWkC0e1O8OD",
        "colab_type": "code",
        "outputId": "63367b69-1471-465d-83db-67b97a50a644",
        "colab": {
          "base_uri": "https://localhost:8080/",
          "height": 51
        }
      },
      "source": [
        "a = 1\n",
        "def vartest(a) :\n",
        "    a = a+1\n",
        "    return a\n",
        "print (vartest(a))\n",
        "a = vartest(a)\n",
        "print (a)"
      ],
      "execution_count": 0,
      "outputs": [
        {
          "output_type": "stream",
          "text": [
            "2\n",
            "2\n"
          ],
          "name": "stdout"
        }
      ]
    },
    {
      "cell_type": "code",
      "metadata": {
        "id": "GT8jjTG-PPa4",
        "colab_type": "code",
        "outputId": "78235d2e-dfb1-47a2-8e35-b2313e91c927",
        "colab": {
          "base_uri": "https://localhost:8080/",
          "height": 51
        }
      },
      "source": [
        "a = 1\n",
        "def vartest() :\n",
        "    global a\n",
        "    a = a+1\n",
        "print (vartest())\n",
        "print (a)"
      ],
      "execution_count": 0,
      "outputs": [
        {
          "output_type": "stream",
          "text": [
            "None\n",
            "2\n"
          ],
          "name": "stdout"
        }
      ]
    },
    {
      "cell_type": "markdown",
      "metadata": {
        "id": "HhPc5lIePSOr",
        "colab_type": "text"
      },
      "source": [
        "### 사용자 입출력"
      ]
    },
    {
      "cell_type": "code",
      "metadata": {
        "id": "0DzVSWsUQnRg",
        "colab_type": "code",
        "outputId": "3241bb0b-cad5-4397-929d-7d779fe27911",
        "colab": {
          "base_uri": "https://localhost:8080/",
          "height": 68
        }
      },
      "source": [
        "a = input ('Input strings : \\n')\n",
        "print ('Your input is : ', a)"
      ],
      "execution_count": 0,
      "outputs": [
        {
          "output_type": "stream",
          "text": [
            "Input strings : \n",
            "hello\n",
            "Your input is :  hello\n"
          ],
          "name": "stdout"
        }
      ]
    },
    {
      "cell_type": "code",
      "metadata": {
        "id": "5uwuoncdQq0K",
        "colab_type": "code",
        "outputId": "704d19da-03d9-4aa1-f80a-8e631b3428f0",
        "colab": {
          "base_uri": "https://localhost:8080/",
          "height": 136
        }
      },
      "source": [
        "while True :\n",
        "    data = input (\"input\\t: \")\n",
        "    if not data : break\n",
        "    print (\"output\\t:\", data)"
      ],
      "execution_count": 0,
      "outputs": [
        {
          "output_type": "stream",
          "text": [
            "input\t: df\n",
            "output\t: df\n",
            "input\t: hihi\n",
            "output\t: hihi\n",
            "input\t: bye\n",
            "output\t: bye\n",
            "input\t: \n"
          ],
          "name": "stdout"
        }
      ]
    },
    {
      "cell_type": "code",
      "metadata": {
        "id": "-aQ8TGLGRLjI",
        "colab_type": "code",
        "outputId": "b267e7c3-2b63-45e9-a75f-4679821a564e",
        "colab": {
          "base_uri": "https://localhost:8080/",
          "height": 68
        }
      },
      "source": [
        "print (\"life\"\"is\"\"too\"\"short\")\n",
        "print (\"life\"+\"is\"+\"too\"+\"short\")\n",
        "print (\"life\",\"is\",\"too\",\"short\")"
      ],
      "execution_count": 0,
      "outputs": [
        {
          "output_type": "stream",
          "text": [
            "lifeistooshort\n",
            "lifeistooshort\n",
            "life is too short\n"
          ],
          "name": "stdout"
        }
      ]
    },
    {
      "cell_type": "code",
      "metadata": {
        "id": "EWSvCLqHSAdT",
        "colab_type": "code",
        "outputId": "990f394a-ad11-4961-d98c-f07afd2bf841",
        "colab": {
          "base_uri": "https://localhost:8080/",
          "height": 34
        }
      },
      "source": [
        "for i in range(0, 10) :\n",
        "    print (i+1, end=\" \")"
      ],
      "execution_count": 0,
      "outputs": [
        {
          "output_type": "stream",
          "text": [
            "1 2 3 4 5 6 7 8 9 10 "
          ],
          "name": "stdout"
        }
      ]
    },
    {
      "cell_type": "code",
      "metadata": {
        "id": "7iH03WmgSM5y",
        "colab_type": "code",
        "colab": {}
      },
      "source": [
        "f = open ('text1.txt', 'w')\n",
        "f.close()"
      ],
      "execution_count": 0,
      "outputs": []
    },
    {
      "cell_type": "code",
      "metadata": {
        "id": "yNK6Od_4TGjU",
        "colab_type": "code",
        "colab": {}
      },
      "source": [
        "f = open ('text1.txt', 'w')\n",
        "for i in range(1, 11) :\n",
        "    data = '%d번째 줄입니다.\\n' % i\n",
        "    f.write(data)\n",
        "f.close()"
      ],
      "execution_count": 0,
      "outputs": []
    },
    {
      "cell_type": "code",
      "metadata": {
        "id": "KPfvUbQ9TJPR",
        "colab_type": "code",
        "outputId": "53330e05-dcf0-4592-cd2e-647b2c9189e4",
        "colab": {
          "base_uri": "https://localhost:8080/",
          "height": 357
        }
      },
      "source": [
        "f = open ('text1.txt', 'r')\n",
        "while True :\n",
        "    line = f.readline()\n",
        "    if not line : break\n",
        "    print (line)\n",
        "f.close()"
      ],
      "execution_count": 0,
      "outputs": [
        {
          "output_type": "stream",
          "text": [
            "1번째 줄입니다.\n",
            "\n",
            "2번째 줄입니다.\n",
            "\n",
            "3번째 줄입니다.\n",
            "\n",
            "4번째 줄입니다.\n",
            "\n",
            "5번째 줄입니다.\n",
            "\n",
            "6번째 줄입니다.\n",
            "\n",
            "7번째 줄입니다.\n",
            "\n",
            "8번째 줄입니다.\n",
            "\n",
            "9번째 줄입니다.\n",
            "\n",
            "10번째 줄입니다.\n",
            "\n"
          ],
          "name": "stdout"
        }
      ]
    },
    {
      "cell_type": "code",
      "metadata": {
        "id": "oiRU9hvjYG17",
        "colab_type": "code",
        "outputId": "74318e02-da83-4295-a757-2e8e1e17bdd6",
        "colab": {
          "base_uri": "https://localhost:8080/",
          "height": 394
        }
      },
      "source": [
        "f = open ('text1.txt', 'r')\n",
        "\n",
        "lines = f.readlines()\n",
        "print(lines)\n",
        "for line in lines :\n",
        "    print (line)\n",
        "    \n",
        "f.close()"
      ],
      "execution_count": 0,
      "outputs": [
        {
          "output_type": "stream",
          "text": [
            "['1번째 줄입니다.\\n', '2번째 줄입니다.\\n', '3번째 줄입니다.\\n', '4번째 줄입니다.\\n', '5번째 줄입니다.\\n', '6번째 줄입니다.\\n', '7번째 줄입니다.\\n', '8번째 줄입니다.\\n', '9번째 줄입니다.\\n', '10번째 줄입니다.\\n']\n",
            "1번째 줄입니다.\n",
            "\n",
            "2번째 줄입니다.\n",
            "\n",
            "3번째 줄입니다.\n",
            "\n",
            "4번째 줄입니다.\n",
            "\n",
            "5번째 줄입니다.\n",
            "\n",
            "6번째 줄입니다.\n",
            "\n",
            "7번째 줄입니다.\n",
            "\n",
            "8번째 줄입니다.\n",
            "\n",
            "9번째 줄입니다.\n",
            "\n",
            "10번째 줄입니다.\n",
            "\n"
          ],
          "name": "stdout"
        }
      ]
    },
    {
      "cell_type": "code",
      "metadata": {
        "id": "NfvLS3BOYXtU",
        "colab_type": "code",
        "outputId": "13298585-4f43-4a44-95d0-2d39aa59f6c6",
        "colab": {
          "base_uri": "https://localhost:8080/",
          "height": 306
        }
      },
      "source": [
        "f = open ('text1.txt', 'r')\n",
        "data = f.read()\n",
        "print(data)\n",
        "f.close"
      ],
      "execution_count": 0,
      "outputs": [
        {
          "output_type": "stream",
          "text": [
            "1번째 줄입니다.\n",
            "2번째 줄입니다.\n",
            "3번째 줄입니다.\n",
            "4번째 줄입니다.\n",
            "5번째 줄입니다.\n",
            "6번째 줄입니다.\n",
            "7번째 줄입니다.\n",
            "8번째 줄입니다.\n",
            "9번째 줄입니다.\n",
            "10번째 줄입니다.\n",
            "11째 줄입니다\n",
            "12째 줄입니다\n",
            "13째 줄입니다\n",
            "14째 줄입니다\n",
            "15째 줄입니다\n",
            "\n"
          ],
          "name": "stdout"
        },
        {
          "output_type": "execute_result",
          "data": {
            "text/plain": [
              "<function TextIOWrapper.close>"
            ]
          },
          "metadata": {
            "tags": []
          },
          "execution_count": 72
        }
      ]
    },
    {
      "cell_type": "code",
      "metadata": {
        "id": "SHK2ch1cYgVn",
        "colab_type": "code",
        "colab": {}
      },
      "source": [
        "f = open ('text1.txt', 'a')\n",
        "for i in range(11, 16) :\n",
        "    data = '%d째 줄입니다\\n' % i\n",
        "    f.write(data)\n",
        "f.close()"
      ],
      "execution_count": 0,
      "outputs": []
    },
    {
      "cell_type": "code",
      "metadata": {
        "id": "bco0_vUDcb7v",
        "colab_type": "code",
        "colab": {}
      },
      "source": [
        "f = open('foo.txt', 'w')\n",
        "f.write('파이썬을 배웁시다')\n",
        "f.close()"
      ],
      "execution_count": 0,
      "outputs": []
    },
    {
      "cell_type": "code",
      "metadata": {
        "id": "MaPtss-QdTZN",
        "colab_type": "code",
        "colab": {}
      },
      "source": [
        "with open('foo.txt','w') as f :\n",
        "    f.write('파이썬은 재밌습니다')"
      ],
      "execution_count": 0,
      "outputs": []
    },
    {
      "cell_type": "code",
      "metadata": {
        "id": "lJcBU_WxdXys",
        "colab_type": "code",
        "outputId": "6c63fbf6-51cd-4808-d897-03f705d3eeb6",
        "colab": {
          "base_uri": "https://localhost:8080/",
          "height": 34
        }
      },
      "source": [
        "with open('foo.txt', 'r') as f :\n",
        "    data = f.read()\n",
        "    print(data)"
      ],
      "execution_count": 0,
      "outputs": [
        {
          "output_type": "stream",
          "text": [
            "파이썬은 재밌습니다\n"
          ],
          "name": "stdout"
        }
      ]
    },
    {
      "cell_type": "markdown",
      "metadata": {
        "id": "-TeUflkIde4y",
        "colab_type": "text"
      },
      "source": [
        "## Class\n"
      ]
    },
    {
      "cell_type": "code",
      "metadata": {
        "id": "1tfOJAtseAZj",
        "colab_type": "code",
        "outputId": "64dbd268-6aa8-4fe9-81bb-26edbd406a98",
        "colab": {
          "base_uri": "https://localhost:8080/",
          "height": 51
        }
      },
      "source": [
        "result = 0\n",
        "def add(num) :\n",
        "    global result\n",
        "    result += num\n",
        "    return result\n",
        "\n",
        "print (add(3))\n",
        "print (add(4))"
      ],
      "execution_count": 0,
      "outputs": [
        {
          "output_type": "stream",
          "text": [
            "3\n",
            "7\n"
          ],
          "name": "stdout"
        }
      ]
    },
    {
      "cell_type": "code",
      "metadata": {
        "id": "n-YxvUVEewPN",
        "colab_type": "code",
        "outputId": "8f5de87d-7eed-48e8-abfc-faaeb16add40",
        "colab": {
          "base_uri": "https://localhost:8080/",
          "height": 119
        }
      },
      "source": [
        "class Cal :\n",
        "    # __init__ 생성자\n",
        "    # self 객체를 받아 initialize\n",
        "    def __init__(self) :\n",
        "        self.result = 0\n",
        "    def adder(self, num) :\n",
        "        self.result += num\n",
        "        return self.result\n",
        "    def subst(self, num) :\n",
        "        self.result -= num\n",
        "        return self.result\n",
        "    def multi (self, num) :\n",
        "        self.result = 1\n",
        "        self.result *= num\n",
        "        return self.result\n",
        "    def divider(self, num) :\n",
        "        self.result = 1\n",
        "        self.result /= num\n",
        "        return self.result\n",
        "\n",
        "cal1 = Cal()\n",
        "cal2 = Cal()\n",
        "\n",
        "print (cal1.adder (3))\n",
        "print (cal1.adder (4))\n",
        "print (cal2.adder (3))\n",
        "print (cal2.adder (7))\n",
        "\n",
        "print (cal1.subst (4))\n",
        "print (cal1.subst (3))"
      ],
      "execution_count": 0,
      "outputs": [
        {
          "output_type": "stream",
          "text": [
            "3\n",
            "7\n",
            "3\n",
            "10\n",
            "3\n",
            "0\n"
          ],
          "name": "stdout"
        }
      ]
    },
    {
      "cell_type": "markdown",
      "metadata": {
        "id": "d3fr5meBhNNz",
        "colab_type": "text"
      },
      "source": [
        "### 사칙연산 Class\n",
        "객체에 숫자 지정할 수 있게\n",
        "\n",
        "setdata Method에는 self - first - second 총 3개의 매개변수가 필요한데, 실제로는 a.setdata(4,2)처럼 2개 값만 전달\n",
        "\n",
        "setdata Method의 첫번째 매개변수 self에는 setdata 를 호출한 객체 a가 자동으로 전달되기 때문\n",
        "\n",
        "method의 첫 매개변수 self를 명시적으로 구현하는 것은 python만의 독특한 특징"
      ]
    },
    {
      "cell_type": "code",
      "metadata": {
        "id": "w2j27Af74BoC",
        "colab_type": "code",
        "outputId": "a5d05d91-ac83-469e-8c88-569bb7aa2fac",
        "colab": {
          "base_uri": "https://localhost:8080/",
          "height": 85
        }
      },
      "source": [
        "class FourCal :\n",
        "    def __init__(self, first, second) :\n",
        "        self.first = first\n",
        "        self.second = second\n",
        "    # def setdata(self, first, second) :\n",
        "    #     self.first = first\n",
        "    #     self.second = second\n",
        "    result = 0\n",
        "    def add (self) :\n",
        "        return self.first + self.second\n",
        "    def sub (self) :\n",
        "        return self.first - self.second\n",
        "    def multi (self) :\n",
        "        return self.first * self.second\n",
        "    def div (self) :\n",
        "        return self.first / self.second\n",
        "\n",
        "\n",
        "# a = FourCal()\n",
        "# a.setdata(4,2)\n",
        "# print(a.first, a.second)\n",
        "\n",
        "# b = FourCal()\n",
        "# b.setdata(3,7)\n",
        "# print(b.first, b.second)\n",
        "\n",
        "a = FourCal(4, 6)\n",
        "print (a.add())\n",
        "print (a.sub())\n",
        "print (a.multi())\n",
        "print (a.div())"
      ],
      "execution_count": 0,
      "outputs": [
        {
          "output_type": "stream",
          "text": [
            "10\n",
            "-2\n",
            "24\n",
            "0.6666666666666666\n"
          ],
          "name": "stdout"
        }
      ]
    },
    {
      "cell_type": "markdown",
      "metadata": {
        "id": "s1d3fUSo4Tfq",
        "colab_type": "text"
      },
      "source": [
        "### 생성자\n",
        "생성자 constructor 란 객체가 생성될 때 자동으로 호출되는 method\n",
        "\n",
        "method 이름으로 __init__을 사용하는 method\n",
        "\n",
        "__init__은 setdata와 역할은 동일, 그러나 __init__을 선언하게 되면 객체 생성시 자동생성되므로, 객체 생성하면서 변수 입력 필요\n",
        "\n",
        "다른 method와 마찬가지로 첫번째 매개변수 self에 생성되는 객체가 자동으로 전달됨"
      ]
    },
    {
      "cell_type": "code",
      "metadata": {
        "id": "OKsaZDamCbzv",
        "colab_type": "code",
        "colab": {
          "base_uri": "https://localhost:8080/",
          "height": 51
        },
        "outputId": "1f7bc4ff-d241-437a-dc95-7e361ccd3304"
      },
      "source": [
        "class HouseWi :\n",
        "    LastName = 'Wi'\n",
        "pey = HouseWi()\n",
        "pes = HouseWi()\n",
        "print (pey.LastName)\n",
        "print (pes.LastName)"
      ],
      "execution_count": 96,
      "outputs": [
        {
          "output_type": "stream",
          "text": [
            "Wi\n",
            "Wi\n"
          ],
          "name": "stdout"
        }
      ]
    },
    {
      "cell_type": "code",
      "metadata": {
        "id": "THlLyRgiCqKW",
        "colab_type": "code",
        "colab": {
          "base_uri": "https://localhost:8080/",
          "height": 51
        },
        "outputId": "9b5a2f21-2808-40a4-b95a-6a446e373f48"
      },
      "source": [
        "class HouseWi :\n",
        "    LastName = 'Wi'\n",
        "    def setname(self, name) :\n",
        "        self.fullname = self.LastName +\" \"+ name\n",
        "    def travel(self, where) :\n",
        "        print('%s, Travel to %s' % (self.fullname, where))\n",
        "pey = HouseWi()\n",
        "pey.setname('johnny')\n",
        "print (pey.fullname)\n",
        "pey.travel('Busan')\n",
        "\n",
        "pes = HouseWi()\n",
        "# travel 함수를 위해서 fullname이 필요, setname 하지 않고 travel할 경우 AttributeError\n",
        "# pes.travel('Jeju')"
      ],
      "execution_count": 103,
      "outputs": [
        {
          "output_type": "stream",
          "text": [
            "Wi johnny\n",
            "Wi johnny, Travel to Busan\n"
          ],
          "name": "stdout"
        }
      ]
    },
    {
      "cell_type": "code",
      "metadata": {
        "id": "yG_K558zDBTG",
        "colab_type": "code",
        "colab": {
          "base_uri": "https://localhost:8080/",
          "height": 34
        },
        "outputId": "9d06db77-d1ff-4428-e65b-15ea885d3ec3"
      },
      "source": [
        "class HouseWi : \n",
        "    LastName = 'Wi'\n",
        "    def __init__(self, name) :\n",
        "        self.fullname = self.LastName +\" \"+ name\n",
        "    def travel(self, where) :\n",
        "        print('%s, Travel to %s' % (self.fullname, where))\n",
        "\n",
        "son1 = HouseWi('Jake')\n",
        "son1.travel('Hawaii')"
      ],
      "execution_count": 107,
      "outputs": [
        {
          "output_type": "stream",
          "text": [
            "Wi Jake, Travel to Hawaii\n"
          ],
          "name": "stdout"
        }
      ]
    },
    {
      "cell_type": "markdown",
      "metadata": {
        "id": "jObKY63JIeUe",
        "colab_type": "text"
      },
      "source": [
        "### Class Inheritance, Method Override & Overloading"
      ]
    },
    {
      "cell_type": "code",
      "metadata": {
        "id": "gskc2df1F4bQ",
        "colab_type": "code",
        "colab": {
          "base_uri": "https://localhost:8080/",
          "height": 51
        },
        "outputId": "e222d728-7c6f-4a24-c224-23452643b575"
      },
      "source": [
        "class HouseJJ(HouseWi) :\n",
        "    LastName = 'JJ'\n",
        "    pass\n",
        "son2 = HouseJJ('Johan')\n",
        "son2.travel('Kenya')\n",
        "\n",
        "\n",
        "class HouseKK(HouseWi) :\n",
        "    LastName = 'KK'\n",
        "\n",
        "    # Method Overriding\n",
        "    def travel (self, where, day) :\n",
        "        print('%s, Travel to %s on %s'%(self.fullname, where, day))\n",
        "\n",
        "son3 = HouseKK('Paulo')\n",
        "son3.travel('Paris', 'Saturday')"
      ],
      "execution_count": 110,
      "outputs": [
        {
          "output_type": "stream",
          "text": [
            "JJ Johan, Travel to Kenya\n",
            "KK Paulo, Travel to Paris on Saturday\n"
          ],
          "name": "stdout"
        }
      ]
    },
    {
      "cell_type": "code",
      "metadata": {
        "id": "28NUUOFTIxgR",
        "colab_type": "code",
        "colab": {
          "base_uri": "https://localhost:8080/",
          "height": 51
        },
        "outputId": "da20c592-1e77-41be-eafc-f9f107ab3e7b"
      },
      "source": [
        "class HouseYY(HouseWi) :\n",
        "    LastName = 'YY'\n",
        "    def love(self, other) :\n",
        "        print('%s fall in love with %s' %(self.fullname, other.fullname))\n",
        "    def __add__(self, other) :\n",
        "        print('%s marriage %s ' % (self.fullname, other.fullname))\n",
        "\n",
        "husband = HouseYY ('James')\n",
        "wife = HouseJJ ('Miriam')\n",
        "husband.love(wife)\n",
        "husband + wife"
      ],
      "execution_count": 114,
      "outputs": [
        {
          "output_type": "stream",
          "text": [
            "YY James fall in love with JJ Miriam\n",
            "YY James marriage JJ Miriam \n"
          ],
          "name": "stdout"
        }
      ]
    },
    {
      "cell_type": "code",
      "metadata": {
        "id": "4ydACncWM_Ln",
        "colab_type": "code",
        "colab": {}
      },
      "source": [
        ""
      ],
      "execution_count": 0,
      "outputs": []
    }
  ]
}