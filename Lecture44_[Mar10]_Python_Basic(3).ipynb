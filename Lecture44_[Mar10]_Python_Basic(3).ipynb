{
  "nbformat": 4,
  "nbformat_minor": 0,
  "metadata": {
    "colab": {
      "name": "Lecture44_[Mar10]_Python_Basic(3).ipynb",
      "provenance": [],
      "collapsed_sections": [],
      "toc_visible": true,
      "mount_file_id": "1ciSNz0sbbcVF0WPicVJMV6HmG4uqv6ok",
      "authorship_tag": "ABX9TyMY41F9fSqZieU7NY5D/OTG",
      "include_colab_link": true
    },
    "kernelspec": {
      "name": "python3",
      "display_name": "Python 3"
    }
  },
  "cells": [
    {
      "cell_type": "markdown",
      "metadata": {
        "id": "view-in-github",
        "colab_type": "text"
      },
      "source": [
        "<a href=\"https://colab.research.google.com/github/ezerwi/python-lecture/blob/master/Lecture44_%5BMar10%5D_Python_Basic(3).ipynb\" target=\"_parent\"><img src=\"https://colab.research.google.com/assets/colab-badge.svg\" alt=\"Open In Colab\"/></a>"
      ]
    },
    {
      "cell_type": "markdown",
      "metadata": {
        "id": "wx2mg8EnvOOu",
        "colab_type": "text"
      },
      "source": [
        "### Lecture44  Mar/10/2020\n"
      ]
    },
    {
      "cell_type": "markdown",
      "metadata": {
        "id": "xZ4RYQ4O3LbH",
        "colab_type": "text"
      },
      "source": [
        "### 커피 자판기 프로그램"
      ]
    },
    {
      "cell_type": "code",
      "metadata": {
        "id": "T8SIIcUs3O2T",
        "colab_type": "code",
        "outputId": "b85eb7cf-de86-419d-f2e7-652776ca4be2",
        "colab": {
          "base_uri": "https://localhost:8080/",
          "height": 130
        }
      },
      "source": [
        "coffee = 10 # 총 판매 가능 개수\n",
        "price = 300 # 커피 가격\n",
        "print(\"커피 자판기\")\n",
        "\n",
        "while coffee > 0  :\n",
        "  money = int( input(\"커피를 주문하시겠습니까?\") )\n",
        "  if money < price :\n",
        "    print(\"금액이 부족합니다. {}을 반환합니다.\".format(money))\n",
        "    \n",
        "  if money >= price and (money <= coffee*price) :\n",
        "    order = money // price\n",
        "    coffee -= order\n",
        "    ret = money % price\n",
        "    print(\"커피 {}개를 주문합니다\".format(order))\n",
        "    if ret != 0 :\n",
        "      print(\"잔돈 {}원을 반환합니다.\".format(ret))\n",
        "  elif money >= price and ( money > coffee*price) :\n",
        "    print(\"만들 수 있는 개수를 초과합니다. 커피 10개만 주문합니다.\")\n",
        "    print(\"잔돈 {}원을 반환합니다.\".format(money - coffee*price))\n",
        "    coffee = 0\n",
        "  \n",
        "  print(\"남은 커피 개수 : \", coffee)\n",
        "  \n",
        "print (\"커피 소진 : 더 이상 커피가 없습니다.\")\n",
        "    "
      ],
      "execution_count": 0,
      "outputs": [
        {
          "output_type": "stream",
          "text": [
            "커피 자판기\n",
            "커피를 주문하시겠습니까?5000\n",
            "만들 수 있는 개수를 초과합니다. 커피 10개만 주문합니다.\n",
            "잔돈 2000원을 반환합니다.\n",
            "남은 커피 개수 :  0\n",
            "커피 소진 : 더 이상 커피가 없습니다.\n"
          ],
          "name": "stdout"
        }
      ]
    },
    {
      "cell_type": "markdown",
      "metadata": {
        "id": "N5MnMVYOA4H0",
        "colab_type": "text"
      },
      "source": [
        "### 함수"
      ]
    },
    {
      "cell_type": "code",
      "metadata": {
        "id": "RiojWH2iA6x_",
        "colab_type": "code",
        "outputId": "f65ca3af-db1a-4c5a-a878-77bb6322dfc4",
        "colab": {
          "base_uri": "https://localhost:8080/",
          "height": 35
        }
      },
      "source": [
        "def say() :\n",
        "  return 'Hi'\n",
        "\n",
        "a = say()\n",
        "print(a)"
      ],
      "execution_count": 0,
      "outputs": [
        {
          "output_type": "stream",
          "text": [
            "Hi\n"
          ],
          "name": "stdout"
        }
      ]
    },
    {
      "cell_type": "code",
      "metadata": {
        "id": "Q341KwpOBA-A",
        "colab_type": "code",
        "outputId": "296a44f7-9e44-4c6f-dbcd-bc9564079fd2",
        "colab": {
          "base_uri": "https://localhost:8080/",
          "height": 35
        }
      },
      "source": [
        "def sum (a, b) :\n",
        "  print(\"%d, %d의 합은 %d입니다.\" % (a, b, a+b))\n",
        "sum(3, 4)"
      ],
      "execution_count": 0,
      "outputs": [
        {
          "output_type": "stream",
          "text": [
            "3, 4의 합은 7입니다.\n"
          ],
          "name": "stdout"
        }
      ]
    },
    {
      "cell_type": "markdown",
      "metadata": {
        "id": "8NJ-0IRfCtuA",
        "colab_type": "text"
      },
      "source": [
        "여러 개의 인자를 받는 함수\n",
        "\n",
        "변수명 앞에 *을 붙이면 입력값들을 tuple로 변경해 처리\n"
      ]
    },
    {
      "cell_type": "code",
      "metadata": {
        "id": "TfiBoXd4BRl7",
        "colab_type": "code",
        "outputId": "fadbbdfc-d7a0-4911-d3d5-6800068ebe6f",
        "colab": {
          "base_uri": "https://localhost:8080/",
          "height": 35
        }
      },
      "source": [
        "def sum_many(*args) :\n",
        "    sum = 0\n",
        "    for i in args :\n",
        "        sum += i\n",
        "    return sum\n",
        "print (sum_many(1,2,3,4,5))"
      ],
      "execution_count": 0,
      "outputs": [
        {
          "output_type": "stream",
          "text": [
            "15\n"
          ],
          "name": "stdout"
        }
      ]
    },
    {
      "cell_type": "code",
      "metadata": {
        "id": "ZypnVJbgCkkw",
        "colab_type": "code",
        "outputId": "f59161a7-f376-4feb-9987-c709d8005050",
        "colab": {
          "base_uri": "https://localhost:8080/",
          "height": 54
        }
      },
      "source": [
        "def sum_mul (choice, *args) :\n",
        "    if choice == 'sum' :\n",
        "        res = 0\n",
        "        for i in args :\n",
        "            res += i\n",
        "    if choice == 'mul' :\n",
        "        res = 1\n",
        "        for i in args : \n",
        "            res *= i\n",
        "    return res\n",
        "\n",
        "print (sum_mul('sum', 1,2,3,4,5))\n",
        "print (sum_mul('mul', 1,2,3,4,5))"
      ],
      "execution_count": 0,
      "outputs": [
        {
          "output_type": "stream",
          "text": [
            "15\n",
            "120\n"
          ],
          "name": "stdout"
        }
      ]
    },
    {
      "cell_type": "code",
      "metadata": {
        "id": "7qGhzPspD2u7",
        "colab_type": "code",
        "outputId": "8243ac47-3f01-4c64-e2f8-3405c3d6f868",
        "colab": {
          "base_uri": "https://localhost:8080/",
          "height": 54
        }
      },
      "source": [
        "def sub_div (choice, *args) :\n",
        "    res = args[0]\n",
        "    if choice == 'sub' :\n",
        "        res = -args[0]\n",
        "        for i in range(1,len(args)) :\n",
        "            res -= args[i]\n",
        "    if choice == 'div' :\n",
        "        for i in range(1,len(args)) :\n",
        "            res /= i\n",
        "    return res\n",
        "\n",
        "print (sub_div('sub', 2,4,6,8,10))\n",
        "print (sub_div('div', 2,4,6,8,10))"
      ],
      "execution_count": 0,
      "outputs": [
        {
          "output_type": "stream",
          "text": [
            "-30\n",
            "0.08333333333333333\n"
          ],
          "name": "stdout"
        }
      ]
    },
    {
      "cell_type": "markdown",
      "metadata": {
        "id": "4qolNsvgG4T9",
        "colab_type": "text"
      },
      "source": [
        "함수의 결과값은 항상 하나이므로, return 값을 2개 이상으로 정할 경우 tuple로 반환\n",
        "\n",
        "- 결과값을 tuple이 아닌 각각 저장하고 싶으면 변수를 2개 선언하여 저장\n",
        "\n",
        "- 'return'을 중복 생성할수는 없음; 먼저 생성된 return에서 함수 종료되므로"
      ]
    },
    {
      "cell_type": "code",
      "metadata": {
        "id": "OKqSBm9KFZan",
        "colab_type": "code",
        "outputId": "b5777913-1f5d-4507-8901-d9432e6bf792",
        "colab": {
          "base_uri": "https://localhost:8080/",
          "height": 73
        }
      },
      "source": [
        "def sum_and_mul (a,b) :\n",
        "    return a+b, a*b\n",
        "print(sum_and_mul(4,7))\n",
        "\n",
        "rs1, rs2 = sum_and_mul(4,7)\n",
        "print (rs1)\n",
        "print (rs2)"
      ],
      "execution_count": 0,
      "outputs": [
        {
          "output_type": "stream",
          "text": [
            "(11, 28)\n",
            "11\n",
            "28\n"
          ],
          "name": "stdout"
        }
      ]
    },
    {
      "cell_type": "code",
      "metadata": {
        "id": "PitL_o_7HpmQ",
        "colab_type": "code",
        "outputId": "337ce362-159d-42f3-92be-859a7abde38a",
        "colab": {
          "base_uri": "https://localhost:8080/",
          "height": 54
        }
      },
      "source": [
        "def sy_nick(nick) :\n",
        "    if nick == '바보' : return '아니야!'\n",
        "    print ('나의 별명은 %s입니다.' % nick)\n",
        "\n",
        "print(sy_nick('바보'))\n",
        "sy_nick('google')"
      ],
      "execution_count": 0,
      "outputs": [
        {
          "output_type": "stream",
          "text": [
            "아니야!\n",
            "나의 별명은 google입니다.\n"
          ],
          "name": "stdout"
        }
      ]
    },
    {
      "cell_type": "code",
      "metadata": {
        "id": "rrztPW3KISLR",
        "colab_type": "code",
        "colab": {
          "base_uri": "https://localhost:8080/",
          "height": 136
        },
        "outputId": "0a0192c0-d205-4694-8fd3-a8d29f467d21"
      },
      "source": [
        "def say_myself(name, old, man=True) :\n",
        "    print ('My name is %s' % name)\n",
        "    print ('My age is %d' % old)\n",
        "    if man : print ('My gender is Male')\n",
        "    else : print ('My gender is Female')\n",
        "\n",
        "say_myself ('wjh', 31)\n",
        "print(' ')\n",
        "say_myself ('wss', 28, False)"
      ],
      "execution_count": 36,
      "outputs": [
        {
          "output_type": "stream",
          "text": [
            "My name is wjh\n",
            "My age is 31\n",
            "My gender is Male\n",
            " \n",
            "My name is wss\n",
            "My age is 28\n",
            "My gender is Female\n"
          ],
          "name": "stdout"
        }
      ]
    },
    {
      "cell_type": "code",
      "metadata": {
        "id": "2II-P6GOMtWf",
        "colab_type": "code",
        "colab": {
          "base_uri": "https://localhost:8080/",
          "height": 130
        },
        "outputId": "58938c95-f845-4adb-d77c-64420db155cc"
      },
      "source": [
        "# 아래와 같은 경우는 에러 발생\n",
        "# 초기값 설정하는 인자는 반드시 초기값 설정 없는 인자들 뒤에 위치해야 함\n",
        "\n",
        "# non-default argument follows default argument\n",
        "\n",
        "def say_myself(name, man=True, old) :\n",
        "    print ('My name is %s' % name)\n",
        "    print ('My age is %d' % old)\n",
        "    if man : print ('My gender is Male')\n",
        "    else : print ('My gender is Female')\n",
        "\n",
        "say_myself ('wjh', True, 31)"
      ],
      "execution_count": 40,
      "outputs": [
        {
          "output_type": "error",
          "ename": "SyntaxError",
          "evalue": "ignored",
          "traceback": [
            "\u001b[0;36m  File \u001b[0;32m\"<ipython-input-40-60a58ccce229>\"\u001b[0;36m, line \u001b[0;32m2\u001b[0m\n\u001b[0;31m    def say_myself(name, man=True, old) :\u001b[0m\n\u001b[0m                  ^\u001b[0m\n\u001b[0;31mSyntaxError\u001b[0m\u001b[0;31m:\u001b[0m non-default argument follows default argument\n"
          ]
        }
      ]
    },
    {
      "cell_type": "markdown",
      "metadata": {
        "id": "GYIvGueUOBwl",
        "colab_type": "text"
      },
      "source": [
        "### 함수 안에서 선언된 지역변수의 효력 범위\n",
        "\n",
        "global 명령을 이용해 함수 안에서 함수 밖의 변수 직접 사용 가능\n",
        "\n",
        "그러나 함수는 독립적으로 존재하는 것이 좋기 때문에 외부변수에 종속적인 함수는 비추천"
      ]
    },
    {
      "cell_type": "code",
      "metadata": {
        "id": "e7egDadgO01P",
        "colab_type": "code",
        "colab": {
          "base_uri": "https://localhost:8080/",
          "height": 51
        },
        "outputId": "f9df75d0-eddf-442b-d518-c7f003bdece9"
      },
      "source": [
        "a = 1\n",
        "def vartest(a) :\n",
        "    a = a+1\n",
        "    \n",
        "print (vartest(a))\n",
        "print (a)"
      ],
      "execution_count": 41,
      "outputs": [
        {
          "output_type": "stream",
          "text": [
            "None\n",
            "1\n"
          ],
          "name": "stdout"
        }
      ]
    },
    {
      "cell_type": "code",
      "metadata": {
        "id": "KFWkC0e1O8OD",
        "colab_type": "code",
        "colab": {
          "base_uri": "https://localhost:8080/",
          "height": 51
        },
        "outputId": "63367b69-1471-465d-83db-67b97a50a644"
      },
      "source": [
        "a = 1\n",
        "def vartest(a) :\n",
        "    a = a+1\n",
        "    return a\n",
        "print (vartest(a))\n",
        "a = vartest(a)\n",
        "print (a)"
      ],
      "execution_count": 47,
      "outputs": [
        {
          "output_type": "stream",
          "text": [
            "2\n",
            "2\n"
          ],
          "name": "stdout"
        }
      ]
    },
    {
      "cell_type": "code",
      "metadata": {
        "id": "GT8jjTG-PPa4",
        "colab_type": "code",
        "colab": {
          "base_uri": "https://localhost:8080/",
          "height": 51
        },
        "outputId": "78235d2e-dfb1-47a2-8e35-b2313e91c927"
      },
      "source": [
        "a = 1\n",
        "def vartest() :\n",
        "    global a\n",
        "    a = a+1\n",
        "print (vartest())\n",
        "print (a)"
      ],
      "execution_count": 46,
      "outputs": [
        {
          "output_type": "stream",
          "text": [
            "None\n",
            "2\n"
          ],
          "name": "stdout"
        }
      ]
    },
    {
      "cell_type": "markdown",
      "metadata": {
        "id": "HhPc5lIePSOr",
        "colab_type": "text"
      },
      "source": [
        "### 사용자 입출력"
      ]
    },
    {
      "cell_type": "code",
      "metadata": {
        "id": "0DzVSWsUQnRg",
        "colab_type": "code",
        "colab": {
          "base_uri": "https://localhost:8080/",
          "height": 68
        },
        "outputId": "3241bb0b-cad5-4397-929d-7d779fe27911"
      },
      "source": [
        "a = input ('Input strings : \\n')\n",
        "print ('Your input is : ', a)"
      ],
      "execution_count": 51,
      "outputs": [
        {
          "output_type": "stream",
          "text": [
            "Input strings : \n",
            "hello\n",
            "Your input is :  hello\n"
          ],
          "name": "stdout"
        }
      ]
    },
    {
      "cell_type": "code",
      "metadata": {
        "id": "5uwuoncdQq0K",
        "colab_type": "code",
        "colab": {
          "base_uri": "https://localhost:8080/",
          "height": 136
        },
        "outputId": "704d19da-03d9-4aa1-f80a-8e631b3428f0"
      },
      "source": [
        "while True :\n",
        "    data = input (\"input\\t: \")\n",
        "    if not data : break\n",
        "    print (\"output\\t:\", data)"
      ],
      "execution_count": 55,
      "outputs": [
        {
          "output_type": "stream",
          "text": [
            "input\t: df\n",
            "output\t: df\n",
            "input\t: hihi\n",
            "output\t: hihi\n",
            "input\t: bye\n",
            "output\t: bye\n",
            "input\t: \n"
          ],
          "name": "stdout"
        }
      ]
    },
    {
      "cell_type": "code",
      "metadata": {
        "id": "-aQ8TGLGRLjI",
        "colab_type": "code",
        "colab": {
          "base_uri": "https://localhost:8080/",
          "height": 68
        },
        "outputId": "b267e7c3-2b63-45e9-a75f-4679821a564e"
      },
      "source": [
        "print (\"life\"\"is\"\"too\"\"short\")\n",
        "print (\"life\"+\"is\"+\"too\"+\"short\")\n",
        "print (\"life\",\"is\",\"too\",\"short\")"
      ],
      "execution_count": 57,
      "outputs": [
        {
          "output_type": "stream",
          "text": [
            "lifeistooshort\n",
            "lifeistooshort\n",
            "life is too short\n"
          ],
          "name": "stdout"
        }
      ]
    },
    {
      "cell_type": "code",
      "metadata": {
        "id": "EWSvCLqHSAdT",
        "colab_type": "code",
        "colab": {
          "base_uri": "https://localhost:8080/",
          "height": 34
        },
        "outputId": "990f394a-ad11-4961-d98c-f07afd2bf841"
      },
      "source": [
        "for i in range(0, 10) :\n",
        "    print (i+1, end=\" \")"
      ],
      "execution_count": 59,
      "outputs": [
        {
          "output_type": "stream",
          "text": [
            "1 2 3 4 5 6 7 8 9 10 "
          ],
          "name": "stdout"
        }
      ]
    },
    {
      "cell_type": "code",
      "metadata": {
        "id": "7iH03WmgSM5y",
        "colab_type": "code",
        "colab": {}
      },
      "source": [
        "f = open ('text1.txt', 'w')\n",
        "f.close()"
      ],
      "execution_count": 0,
      "outputs": []
    },
    {
      "cell_type": "code",
      "metadata": {
        "id": "yNK6Od_4TGjU",
        "colab_type": "code",
        "colab": {}
      },
      "source": [
        "f = open ('text1.txt', 'w')\n",
        "for i in range(1, 11) :\n",
        "    data = '%d번째 줄입니다.\\n' % i\n",
        "    f.write(data)\n",
        "f.close()"
      ],
      "execution_count": 0,
      "outputs": []
    },
    {
      "cell_type": "code",
      "metadata": {
        "id": "KPfvUbQ9TJPR",
        "colab_type": "code",
        "colab": {
          "base_uri": "https://localhost:8080/",
          "height": 357
        },
        "outputId": "53330e05-dcf0-4592-cd2e-647b2c9189e4"
      },
      "source": [
        "f = open ('text1.txt', 'r')\n",
        "while True :\n",
        "    line = f.readline()\n",
        "    if not line : break\n",
        "    print (line)\n",
        "f.close()"
      ],
      "execution_count": 67,
      "outputs": [
        {
          "output_type": "stream",
          "text": [
            "1번째 줄입니다.\n",
            "\n",
            "2번째 줄입니다.\n",
            "\n",
            "3번째 줄입니다.\n",
            "\n",
            "4번째 줄입니다.\n",
            "\n",
            "5번째 줄입니다.\n",
            "\n",
            "6번째 줄입니다.\n",
            "\n",
            "7번째 줄입니다.\n",
            "\n",
            "8번째 줄입니다.\n",
            "\n",
            "9번째 줄입니다.\n",
            "\n",
            "10번째 줄입니다.\n",
            "\n"
          ],
          "name": "stdout"
        }
      ]
    },
    {
      "cell_type": "code",
      "metadata": {
        "id": "oiRU9hvjYG17",
        "colab_type": "code",
        "colab": {
          "base_uri": "https://localhost:8080/",
          "height": 394
        },
        "outputId": "74318e02-da83-4295-a757-2e8e1e17bdd6"
      },
      "source": [
        "f = open ('text1.txt', 'r')\n",
        "\n",
        "lines = f.readlines()\n",
        "print(lines)\n",
        "for line in lines :\n",
        "    print (line)\n",
        "    \n",
        "f.close()"
      ],
      "execution_count": 69,
      "outputs": [
        {
          "output_type": "stream",
          "text": [
            "['1번째 줄입니다.\\n', '2번째 줄입니다.\\n', '3번째 줄입니다.\\n', '4번째 줄입니다.\\n', '5번째 줄입니다.\\n', '6번째 줄입니다.\\n', '7번째 줄입니다.\\n', '8번째 줄입니다.\\n', '9번째 줄입니다.\\n', '10번째 줄입니다.\\n']\n",
            "1번째 줄입니다.\n",
            "\n",
            "2번째 줄입니다.\n",
            "\n",
            "3번째 줄입니다.\n",
            "\n",
            "4번째 줄입니다.\n",
            "\n",
            "5번째 줄입니다.\n",
            "\n",
            "6번째 줄입니다.\n",
            "\n",
            "7번째 줄입니다.\n",
            "\n",
            "8번째 줄입니다.\n",
            "\n",
            "9번째 줄입니다.\n",
            "\n",
            "10번째 줄입니다.\n",
            "\n"
          ],
          "name": "stdout"
        }
      ]
    },
    {
      "cell_type": "code",
      "metadata": {
        "id": "NfvLS3BOYXtU",
        "colab_type": "code",
        "colab": {
          "base_uri": "https://localhost:8080/",
          "height": 306
        },
        "outputId": "13298585-4f43-4a44-95d0-2d39aa59f6c6"
      },
      "source": [
        "f = open ('text1.txt', 'r')\n",
        "data = f.read()\n",
        "print(data)\n",
        "f.close"
      ],
      "execution_count": 72,
      "outputs": [
        {
          "output_type": "stream",
          "text": [
            "1번째 줄입니다.\n",
            "2번째 줄입니다.\n",
            "3번째 줄입니다.\n",
            "4번째 줄입니다.\n",
            "5번째 줄입니다.\n",
            "6번째 줄입니다.\n",
            "7번째 줄입니다.\n",
            "8번째 줄입니다.\n",
            "9번째 줄입니다.\n",
            "10번째 줄입니다.\n",
            "11째 줄입니다\n",
            "12째 줄입니다\n",
            "13째 줄입니다\n",
            "14째 줄입니다\n",
            "15째 줄입니다\n",
            "\n"
          ],
          "name": "stdout"
        },
        {
          "output_type": "execute_result",
          "data": {
            "text/plain": [
              "<function TextIOWrapper.close>"
            ]
          },
          "metadata": {
            "tags": []
          },
          "execution_count": 72
        }
      ]
    },
    {
      "cell_type": "code",
      "metadata": {
        "id": "SHK2ch1cYgVn",
        "colab_type": "code",
        "colab": {}
      },
      "source": [
        "f = open ('text1.txt', 'a')\n",
        "for i in range(11, 16) :\n",
        "    data = '%d째 줄입니다\\n' % i\n",
        "    f.write(data)\n",
        "f.close()"
      ],
      "execution_count": 0,
      "outputs": []
    },
    {
      "cell_type": "code",
      "metadata": {
        "id": "bco0_vUDcb7v",
        "colab_type": "code",
        "colab": {}
      },
      "source": [
        "f = open('foo.txt', 'w')\n",
        "f.write('파이썬을 배웁시다')\n",
        "f.close()"
      ],
      "execution_count": 0,
      "outputs": []
    },
    {
      "cell_type": "code",
      "metadata": {
        "id": "MaPtss-QdTZN",
        "colab_type": "code",
        "colab": {}
      },
      "source": [
        "with open('foo.txt','w') as f :\n",
        "    f.write('파이썬은 재밌습니다')"
      ],
      "execution_count": 0,
      "outputs": []
    },
    {
      "cell_type": "code",
      "metadata": {
        "id": "lJcBU_WxdXys",
        "colab_type": "code",
        "colab": {
          "base_uri": "https://localhost:8080/",
          "height": 34
        },
        "outputId": "6c63fbf6-51cd-4808-d897-03f705d3eeb6"
      },
      "source": [
        "with open('foo.txt', 'r') as f :\n",
        "    data = f.read()\n",
        "    print(data)"
      ],
      "execution_count": 78,
      "outputs": [
        {
          "output_type": "stream",
          "text": [
            "파이썬은 재밌습니다\n"
          ],
          "name": "stdout"
        }
      ]
    },
    {
      "cell_type": "markdown",
      "metadata": {
        "id": "-TeUflkIde4y",
        "colab_type": "text"
      },
      "source": [
        "## Class\n"
      ]
    },
    {
      "cell_type": "code",
      "metadata": {
        "id": "1tfOJAtseAZj",
        "colab_type": "code",
        "colab": {
          "base_uri": "https://localhost:8080/",
          "height": 51
        },
        "outputId": "64dbd268-6aa8-4fe9-81bb-26edbd406a98"
      },
      "source": [
        "result = 0\n",
        "def add(num) :\n",
        "    global result\n",
        "    result += num\n",
        "    return result\n",
        "\n",
        "print (add(3))\n",
        "print (add(4))"
      ],
      "execution_count": 81,
      "outputs": [
        {
          "output_type": "stream",
          "text": [
            "3\n",
            "7\n"
          ],
          "name": "stdout"
        }
      ]
    },
    {
      "cell_type": "code",
      "metadata": {
        "id": "n-YxvUVEewPN",
        "colab_type": "code",
        "colab": {
          "base_uri": "https://localhost:8080/",
          "height": 85
        },
        "outputId": "f7049fc1-432d-47df-f69f-4a5f9d28a4d8"
      },
      "source": [
        "class Cal :\n",
        "    # __init__ 생성자\n",
        "    # self 객체를 받아 initialize\n",
        "    def __init__(self) :\n",
        "        self.result = 0\n",
        "    def adder(self, num) :\n",
        "        self.result += num\n",
        "        return self.result\n",
        "\n",
        "cal1 = Cal()\n",
        "cal2 = Cal()\n",
        "\n",
        "print (cal1.adder (3))\n",
        "print (cal1.adder (4))\n",
        "print (cal2.adder (3))\n",
        "print (cal2.adder (7))"
      ],
      "execution_count": 87,
      "outputs": [
        {
          "output_type": "stream",
          "text": [
            "3\n",
            "7\n",
            "3\n",
            "10\n"
          ],
          "name": "stdout"
        }
      ]
    },
    {
      "cell_type": "code",
      "metadata": {
        "id": "d3fr5meBhNNz",
        "colab_type": "code",
        "colab": {}
      },
      "source": [
        ""
      ],
      "execution_count": 0,
      "outputs": []
    }
  ]
}