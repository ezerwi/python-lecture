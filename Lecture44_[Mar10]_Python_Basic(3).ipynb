{
  "nbformat": 4,
  "nbformat_minor": 0,
  "metadata": {
    "colab": {
      "name": "Lecture44_[Mar10]_Python_Basic(3).ipynb",
      "provenance": [],
      "collapsed_sections": [],
      "authorship_tag": "ABX9TyO1H//t1sXfxs92Eeuw1NVu",
      "include_colab_link": true
    },
    "kernelspec": {
      "name": "python3",
      "display_name": "Python 3"
    }
  },
  "cells": [
    {
      "cell_type": "markdown",
      "metadata": {
        "id": "view-in-github",
        "colab_type": "text"
      },
      "source": [
        "<a href=\"https://colab.research.google.com/github/ezerwi/python-lecture/blob/master/Lecture44_%5BMar10%5D_Python_Basic(3).ipynb\" target=\"_parent\"><img src=\"https://colab.research.google.com/assets/colab-badge.svg\" alt=\"Open In Colab\"/></a>"
      ]
    },
    {
      "cell_type": "markdown",
      "metadata": {
        "id": "wx2mg8EnvOOu",
        "colab_type": "text"
      },
      "source": [
        "### Lecture44  Mar/10/2020\n"
      ]
    },
    {
      "cell_type": "markdown",
      "metadata": {
        "id": "xZ4RYQ4O3LbH",
        "colab_type": "text"
      },
      "source": [
        "#### 커피 자판기 프로그램"
      ]
    },
    {
      "cell_type": "code",
      "metadata": {
        "id": "T8SIIcUs3O2T",
        "colab_type": "code",
        "colab": {
          "base_uri": "https://localhost:8080/",
          "height": 130
        },
        "outputId": "b85eb7cf-de86-419d-f2e7-652776ca4be2"
      },
      "source": [
        "coffee = 10 # 총 판매 가능 개수\n",
        "price = 300 # 커피 가격\n",
        "print(\"커피 자판기\")\n",
        "\n",
        "while coffee > 0  :\n",
        "  money = int( input(\"커피를 주문하시겠습니까?\") )\n",
        "  if money < price :\n",
        "    print(\"금액이 부족합니다. {}을 반환합니다.\".format(money))\n",
        "    \n",
        "  if money >= price and (money <= coffee*price) :\n",
        "    order = money // price\n",
        "    coffee -= order\n",
        "    ret = money % price\n",
        "    print(\"커피 {}개를 주문합니다\".format(order))\n",
        "    if ret != 0 :\n",
        "      print(\"잔돈 {}원을 반환합니다.\".format(ret))\n",
        "  elif money >= price and ( money > coffee*price) :\n",
        "    print(\"만들 수 있는 개수를 초과합니다. 커피 10개만 주문합니다.\")\n",
        "    print(\"잔돈 {}원을 반환합니다.\".format(money - coffee*price))\n",
        "    coffee = 0\n",
        "  \n",
        "  print(\"남은 커피 개수 : \", coffee)\n",
        "  \n",
        "print (\"커피 소진 : 더 이상 커피가 없습니다.\")\n",
        "    "
      ],
      "execution_count": 11,
      "outputs": [
        {
          "output_type": "stream",
          "text": [
            "커피 자판기\n",
            "커피를 주문하시겠습니까?5000\n",
            "만들 수 있는 개수를 초과합니다. 커피 10개만 주문합니다.\n",
            "잔돈 2000원을 반환합니다.\n",
            "남은 커피 개수 :  0\n",
            "커피 소진 : 더 이상 커피가 없습니다.\n"
          ],
          "name": "stdout"
        }
      ]
    },
    {
      "cell_type": "markdown",
      "metadata": {
        "id": "N5MnMVYOA4H0",
        "colab_type": "text"
      },
      "source": [
        "### 함수"
      ]
    },
    {
      "cell_type": "code",
      "metadata": {
        "id": "RiojWH2iA6x_",
        "colab_type": "code",
        "colab": {
          "base_uri": "https://localhost:8080/",
          "height": 35
        },
        "outputId": "f65ca3af-db1a-4c5a-a878-77bb6322dfc4"
      },
      "source": [
        "def say() :\n",
        "  return 'Hi'\n",
        "\n",
        "a = say()\n",
        "print(a)"
      ],
      "execution_count": 12,
      "outputs": [
        {
          "output_type": "stream",
          "text": [
            "Hi\n"
          ],
          "name": "stdout"
        }
      ]
    },
    {
      "cell_type": "code",
      "metadata": {
        "id": "Q341KwpOBA-A",
        "colab_type": "code",
        "colab": {
          "base_uri": "https://localhost:8080/",
          "height": 35
        },
        "outputId": "296a44f7-9e44-4c6f-dbcd-bc9564079fd2"
      },
      "source": [
        "def sum (a, b) :\n",
        "  print(\"%d, %d의 합은 %d입니다.\" % (a, b, a+b))\n",
        "sum(3, 4)"
      ],
      "execution_count": 18,
      "outputs": [
        {
          "output_type": "stream",
          "text": [
            "3, 4의 합은 7입니다.\n"
          ],
          "name": "stdout"
        }
      ]
    },
    {
      "cell_type": "markdown",
      "metadata": {
        "id": "8NJ-0IRfCtuA",
        "colab_type": "text"
      },
      "source": [
        "여러 개의 인자를 받는 함수\n",
        "\n",
        "변수명 앞에 *을 붙이면 입력값들을 tuple로 변경해 처리\n"
      ]
    },
    {
      "cell_type": "code",
      "metadata": {
        "id": "TfiBoXd4BRl7",
        "colab_type": "code",
        "colab": {
          "base_uri": "https://localhost:8080/",
          "height": 35
        },
        "outputId": "fadbbdfc-d7a0-4911-d3d5-6800068ebe6f"
      },
      "source": [
        "def sum_many(*args) :\n",
        "    sum = 0\n",
        "    for i in args :\n",
        "        sum += i\n",
        "    return sum\n",
        "print (sum_many(1,2,3,4,5))"
      ],
      "execution_count": 16,
      "outputs": [
        {
          "output_type": "stream",
          "text": [
            "15\n"
          ],
          "name": "stdout"
        }
      ]
    },
    {
      "cell_type": "code",
      "metadata": {
        "id": "ZypnVJbgCkkw",
        "colab_type": "code",
        "colab": {
          "base_uri": "https://localhost:8080/",
          "height": 54
        },
        "outputId": "f59161a7-f376-4feb-9987-c709d8005050"
      },
      "source": [
        "def sum_mul (choice, *args) :\n",
        "    if choice == 'sum' :\n",
        "        res = 0\n",
        "        for i in args :\n",
        "            res += i\n",
        "    if choice == 'mul' :\n",
        "        res = 1\n",
        "        for i in args : \n",
        "            res *= i\n",
        "    return res\n",
        "\n",
        "print (sum_mul('sum', 1,2,3,4,5))\n",
        "print (sum_mul('mul', 1,2,3,4,5))"
      ],
      "execution_count": 20,
      "outputs": [
        {
          "output_type": "stream",
          "text": [
            "15\n",
            "120\n"
          ],
          "name": "stdout"
        }
      ]
    },
    {
      "cell_type": "code",
      "metadata": {
        "id": "7qGhzPspD2u7",
        "colab_type": "code",
        "colab": {
          "base_uri": "https://localhost:8080/",
          "height": 54
        },
        "outputId": "8243ac47-3f01-4c64-e2f8-3405c3d6f868"
      },
      "source": [
        "def sub_div (choice, *args) :\n",
        "    res = args[0]\n",
        "    if choice == 'sub' :\n",
        "        res = -args[0]\n",
        "        for i in range(1,len(args)) :\n",
        "            res -= args[i]\n",
        "    if choice == 'div' :\n",
        "        for i in range(1,len(args)) :\n",
        "            res /= i\n",
        "    return res\n",
        "\n",
        "print (sub_div('sub', 2,4,6,8,10))\n",
        "print (sub_div('div', 2,4,6,8,10))"
      ],
      "execution_count": 29,
      "outputs": [
        {
          "output_type": "stream",
          "text": [
            "-30\n",
            "0.08333333333333333\n"
          ],
          "name": "stdout"
        }
      ]
    },
    {
      "cell_type": "markdown",
      "metadata": {
        "id": "4qolNsvgG4T9",
        "colab_type": "text"
      },
      "source": [
        "함수의 결과값은 항상 하나이므로, return 값을 2개 이상으로 정할 경우 tuple로 반환\n",
        "\n",
        "- 결과값을 tuple이 아닌 각각 저장하고 싶으면 변수를 2개 선언하여 저장\n",
        "\n",
        "- 'return'을 중복 생성할수는 없음; 먼저 생성된 return에서 함수 종료되므로"
      ]
    },
    {
      "cell_type": "code",
      "metadata": {
        "id": "OKqSBm9KFZan",
        "colab_type": "code",
        "colab": {
          "base_uri": "https://localhost:8080/",
          "height": 73
        },
        "outputId": "b5777913-1f5d-4507-8901-d9432e6bf792"
      },
      "source": [
        "def sum_and_mul (a,b) :\n",
        "    return a+b, a*b\n",
        "print(sum_and_mul(4,7))\n",
        "\n",
        "rs1, rs2 = sum_and_mul(4,7)\n",
        "print (rs1)\n",
        "print (rs2)"
      ],
      "execution_count": 30,
      "outputs": [
        {
          "output_type": "stream",
          "text": [
            "(11, 28)\n",
            "11\n",
            "28\n"
          ],
          "name": "stdout"
        }
      ]
    },
    {
      "cell_type": "code",
      "metadata": {
        "id": "PitL_o_7HpmQ",
        "colab_type": "code",
        "colab": {
          "base_uri": "https://localhost:8080/",
          "height": 54
        },
        "outputId": "337ce362-159d-42f3-92be-859a7abde38a"
      },
      "source": [
        "def sy_nick(nick) :\n",
        "    if nick == '바보' : return '아니야!'\n",
        "    print ('나의 별명은 %s입니다.' % nick)\n",
        "\n",
        "print(sy_nick('바보'))\n",
        "sy_nick('google')"
      ],
      "execution_count": 33,
      "outputs": [
        {
          "output_type": "stream",
          "text": [
            "아니야!\n",
            "나의 별명은 google입니다.\n"
          ],
          "name": "stdout"
        }
      ]
    },
    {
      "cell_type": "code",
      "metadata": {
        "id": "rrztPW3KISLR",
        "colab_type": "code",
        "colab": {}
      },
      "source": [
        ""
      ],
      "execution_count": 0,
      "outputs": []
    }
  ]
}