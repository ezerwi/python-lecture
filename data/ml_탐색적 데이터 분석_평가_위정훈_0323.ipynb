{
 "cells": [
  {
   "cell_type": "markdown",
   "metadata": {},
   "source": [
    "## 훈련과정 : R·파이썬 기반 빅데이터 분석 전문가 양성과정\n",
    "- 교과목 평가 : 탐색적 데이터 분석\n",
    "- 성명 :\n",
    "- 점수 :"
   ]
  },
  {
   "cell_type": "markdown",
   "metadata": {},
   "source": [
    "#### Q1. titanic3.csv 데이터 셋을 불러와서 사용자 함수 transform_features()을 이용하여  필요한 전처리 작업을 수행한 후 아래 사항을 수행하세요. --- (30점)\n",
    "- 'pclass','sex','age','fare','survived' 컬럼으로 이루어진 df1을 만들고 pickle을 이용해서 t3_df.pkl로 저장\n",
    "- t3_df.pkl을 df1이름으로 불러옴"
   ]
  },
  {
   "cell_type": "markdown",
   "metadata": {},
   "source": [
    "#### Q2. df1을 pclass별 그룹핑하여 다음사항을 수행하세요. --- (10점)\n",
    "- pclass별 평균\n",
    "- pclass별 최대값, 최소값"
   ]
  },
  {
   "cell_type": "markdown",
   "metadata": {},
   "source": [
    "#### Q3. pclass 열, sex 열을 기준으로 분할하여 g2에 저장 후 출력하세요. --- (5점)"
   ]
  },
  {
   "cell_type": "markdown",
   "metadata": {},
   "source": [
    "#### Q4. g2에 연산 메소드를 적용해서 pclass, sex 별 age, fare, survived의 평균값을 출력하세요. --- (5점)"
   ]
  },
  {
   "cell_type": "markdown",
   "metadata": {},
   "source": [
    "#### Q5. g2에서 3(pclass), 0(female) 그룹을 선택해서 g3에 저장하고 처음 5개행을 출력하세요. --- (5점)"
   ]
  },
  {
   "cell_type": "markdown",
   "metadata": {},
   "source": [
    "#### Q6. 최대값 - 최소값을 반환하는 사용자 함수를 정의하고 아래사항을 수행하세요. --- (5점)\n",
    "- grouped 객체에 agg() 메소드를 적용 사용자함수를 인자로 전달하여 그룹별로 집계 "
   ]
  },
  {
   "cell_type": "markdown",
   "metadata": {},
   "source": [
    "#### Q7. grouped 각 열마다 아래와 같이 상이한 함수를 적용하여 agg_sep 이름으로 저장하고 출력하세요. --- (10점)\n",
    "{'fare':['min', 'max'], 'age':'mean'}"
   ]
  },
  {
   "cell_type": "markdown",
   "metadata": {},
   "source": [
    "#### Q8. t3_df.pkl을 불러와서 df1에 저장하고  pclass별 grouped 객체로 그룹핑하여 아래사항을 수행하세요. --- (10점)\n",
    "- age 열의 평균이 30보다 작은 그룹만을 필터링하여 데이터프레임으로 반환하여 age_fileter 이름으로 저장 후 5개행 출력"
   ]
  },
  {
   "cell_type": "markdown",
   "metadata": {},
   "source": [
    "#### Q9. grouped.age 컬럼의 Z-score를 계산하는 사용자 함수를 정의하고 함수 매핑하여 age_zscore 이름으로 결과를 출력하세요. --- (10점)"
   ]
  },
  {
   "cell_type": "markdown",
   "metadata": {},
   "source": [
    "#### Q10. t3_df.pkl을 불러와서 df1에 저장하고 pclass, sex 열을 기준으로 grouped 객체로 그룹핑하여 아래사항을 수행하세요. --- (10점)\n",
    "- grouped 객체에 연산 메서드를 적용 평균을 출력"
   ]
  }
 ],
 "metadata": {
  "kernelspec": {
   "display_name": "Python 3",
   "language": "python",
   "name": "python3"
  },
  "language_info": {
   "codemirror_mode": {
    "name": "ipython",
    "version": 3
   },
   "file_extension": ".py",
   "mimetype": "text/x-python",
   "name": "python",
   "nbconvert_exporter": "python",
   "pygments_lexer": "ipython3",
   "version": "3.7.6"
  }
 },
 "nbformat": 4,
 "nbformat_minor": 2
}
