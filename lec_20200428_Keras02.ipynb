{
  "nbformat": 4,
  "nbformat_minor": 0,
  "metadata": {
    "colab": {
      "name": "lec_20200428_Keras02.ipynb",
      "provenance": [],
      "collapsed_sections": [],
      "toc_visible": true,
      "authorship_tag": "ABX9TyOceVAipQZD/3Xg8xnhKfMx",
      "include_colab_link": true
    },
    "kernelspec": {
      "name": "python3",
      "display_name": "Python 3"
    }
  },
  "cells": [
    {
      "cell_type": "markdown",
      "metadata": {
        "id": "view-in-github",
        "colab_type": "text"
      },
      "source": [
        "<a href=\"https://colab.research.google.com/github/gitgitWi/python-lecture/blob/master/lec_20200428_Keras02.ipynb\" target=\"_parent\"><img src=\"https://colab.research.google.com/assets/colab-badge.svg\" alt=\"Open In Colab\"/></a>"
      ]
    },
    {
      "cell_type": "markdown",
      "metadata": {
        "id": "9qShQRnwLhMz",
        "colab_type": "text"
      },
      "source": [
        "mkdate : 2020/04/28\n",
        "\n",
        "# Binary classification with Keras IMDB dataset\n",
        "\n",
        "\n"
      ]
    },
    {
      "cell_type": "code",
      "metadata": {
        "id": "Es9UJTn4LPPq",
        "colab_type": "code",
        "colab": {}
      },
      "source": [
        "import tensorflow as tf\n",
        "from tensorflow import keras\n",
        "import numpy as np, pandas as pd"
      ],
      "execution_count": 0,
      "outputs": []
    },
    {
      "cell_type": "markdown",
      "metadata": {
        "id": "pPfiHz0XMwn7",
        "colab_type": "text"
      },
      "source": [
        "`load_data`\n",
        " - `num_words = 10000` : 가장 많이 등장하는 상위 10000개 단어 선택"
      ]
    },
    {
      "cell_type": "code",
      "metadata": {
        "id": "AzzuQlS-LdgI",
        "colab_type": "code",
        "colab": {}
      },
      "source": [
        "imdb = keras.datasets.imdb\n",
        "(train_data, train_labels), (test_data, test_labels)  = imdb.load_data(num_words = 10000)"
      ],
      "execution_count": 0,
      "outputs": []
    },
    {
      "cell_type": "markdown",
      "metadata": {
        "id": "F7wsgbkKNcmJ",
        "colab_type": "text"
      },
      "source": [
        "## 데이터 탐색\n",
        "\n",
        "- train_data / test_data : 영화 review에 나오는 단어\n",
        "- label : \n",
        "    - 0 : negative\n",
        "    - 1 : positive"
      ]
    },
    {
      "cell_type": "code",
      "metadata": {
        "id": "ogxvm5wiMAb7",
        "colab_type": "code",
        "colab": {
          "base_uri": "https://localhost:8080/",
          "height": 34
        },
        "outputId": "d349a17d-933f-49aa-bb64-dc2336a7f43a"
      },
      "source": [
        "train_data.shape, train_labels.shape, test_data.shape, test_labels.shape, "
      ],
      "execution_count": 9,
      "outputs": [
        {
          "output_type": "execute_result",
          "data": {
            "text/plain": [
              "((25000,), (25000,), (25000,), (25000,))"
            ]
          },
          "metadata": {
            "tags": []
          },
          "execution_count": 9
        }
      ]
    },
    {
      "cell_type": "markdown",
      "metadata": {
        "id": "uGs42CBCPBrI",
        "colab_type": "text"
      },
      "source": [
        "CNN에서는 입력 data들의 길이가 모두 같아야 하므로, 나중에 data 길이 맞춰주는 작업 필요"
      ]
    },
    {
      "cell_type": "code",
      "metadata": {
        "id": "Xtubs_7HMJSq",
        "colab_type": "code",
        "colab": {
          "base_uri": "https://localhost:8080/",
          "height": 69
        },
        "outputId": "d1803207-04bb-4938-eb44-b1f49400fe03"
      },
      "source": [
        "print (len(train_data[0]), len(train_data[1]))\n",
        "print (train_data[0][:20])\n",
        "print (train_data[1][:20])"
      ],
      "execution_count": 20,
      "outputs": [
        {
          "output_type": "stream",
          "text": [
            "218 189\n",
            "[1, 14, 22, 16, 43, 530, 973, 1622, 1385, 65, 458, 4468, 66, 3941, 4, 173, 36, 256, 5, 25]\n",
            "[1, 194, 1153, 194, 8255, 78, 228, 5, 6, 1463, 4369, 5012, 134, 26, 4, 715, 8, 118, 1634, 14]\n"
          ],
          "name": "stdout"
        }
      ]
    },
    {
      "cell_type": "code",
      "metadata": {
        "id": "BOZvT2qwM97A",
        "colab_type": "code",
        "colab": {
          "base_uri": "https://localhost:8080/",
          "height": 52
        },
        "outputId": "d46f0e0e-650c-43c7-8773-3ec683a965ae"
      },
      "source": [
        "print (train_labels[0])\n",
        "np.bincount(train_labels)"
      ],
      "execution_count": 16,
      "outputs": [
        {
          "output_type": "stream",
          "text": [
            "1\n"
          ],
          "name": "stdout"
        },
        {
          "output_type": "execute_result",
          "data": {
            "text/plain": [
              "array([12500, 12500])"
            ]
          },
          "metadata": {
            "tags": []
          },
          "execution_count": 16
        }
      ]
    },
    {
      "cell_type": "code",
      "metadata": {
        "id": "RMM8pUf0NK14",
        "colab_type": "code",
        "colab": {}
      },
      "source": [
        "word_index = imdb.get_word_index()\n",
        "\n",
        "word_index = { k : (v+3) for k,v in word_index.items()}\n",
        "word_index[\"<PAD>\"] = 0\n",
        "word_index[\"<START>\"] = 1\n",
        "word_index[\"<UNK>\"] = 2\n",
        "word_index[\"<UNUSED>\"] = 3\n",
        "\n",
        "reverse_word_index = dict([ (value, key) for (key, value) in word_index.items() ])\n"
      ],
      "execution_count": 0,
      "outputs": []
    },
    {
      "cell_type": "code",
      "metadata": {
        "id": "Mwnl05K0QNTA",
        "colab_type": "code",
        "colab": {
          "base_uri": "https://localhost:8080/",
          "height": 34
        },
        "outputId": "ebf2470f-73b4-4e07-a5e4-d5adcfce9d18"
      },
      "source": [
        "reverse_word_index.get(np.random.randint(100000), '?')"
      ],
      "execution_count": 42,
      "outputs": [
        {
          "output_type": "execute_result",
          "data": {
            "text/plain": [
              "'ager'"
            ]
          },
          "metadata": {
            "tags": []
          },
          "execution_count": 42
        }
      ]
    },
    {
      "cell_type": "code",
      "metadata": {
        "id": "lMQoUbcKQRxq",
        "colab_type": "code",
        "colab": {}
      },
      "source": [
        "def decode_review(text) : return ' '.join([reverse_word_index.get(i, '?') for i in text])"
      ],
      "execution_count": 0,
      "outputs": []
    },
    {
      "cell_type": "code",
      "metadata": {
        "id": "hekwD5LrSAfR",
        "colab_type": "code",
        "colab": {
          "base_uri": "https://localhost:8080/",
          "height": 72
        },
        "outputId": "0c92cd9d-0dff-4cb9-8ee4-254927268615"
      },
      "source": [
        "print (decode_review(train_data[0]))\n",
        "print (decode_review(train_data[1]))"
      ],
      "execution_count": 36,
      "outputs": [
        {
          "output_type": "stream",
          "text": [
            "<START> this film was just brilliant casting location scenery story direction everyone's really suited the part they played and you could just imagine being there robert <UNK> is an amazing actor and now the same being director <UNK> father came from the same scottish island as myself so i loved the fact there was a real connection with this film the witty remarks throughout the film were great it was just brilliant so much that i bought the film as soon as it was released for <UNK> and would recommend it to everyone to watch and the fly fishing was amazing really cried at the end it was so sad and you know what they say if you cry at a film it must have been good and this definitely was also <UNK> to the two little boy's that played the <UNK> of norman and paul they were just brilliant children are often left out of the <UNK> list i think because the stars that play them all grown up are such a big profile for the whole film but these children are amazing and should be praised for what they have done don't you think the whole story was so lovely because it was true and was someone's life after all that was shared with us all\n",
            "<START> big hair big boobs bad music and a giant safety pin these are the words to best describe this terrible movie i love cheesy horror movies and i've seen hundreds but this had got to be on of the worst ever made the plot is paper thin and ridiculous the acting is an abomination the script is completely laughable the best is the end showdown with the cop and how he worked out who the killer is it's just so damn terribly written the clothes are sickening and funny in equal <UNK> the hair is big lots of boobs <UNK> men wear those cut <UNK> shirts that show off their <UNK> sickening that men actually wore them and the music is just <UNK> trash that plays over and over again in almost every scene there is trashy music boobs and <UNK> taking away bodies and the gym still doesn't close for <UNK> all joking aside this is a truly bad film whose only charm is to look back on the disaster that was the 80's and have a good old laugh at how bad everything was back then\n"
          ],
          "name": "stdout"
        }
      ]
    },
    {
      "cell_type": "markdown",
      "metadata": {
        "id": "pmqQpprpSE58",
        "colab_type": "text"
      },
      "source": [
        "## 데이터 준비\n",
        "\n",
        "data는 신경망 주입 전 tensor로 변환해야 함\n",
        "\n",
        "### Way01. `one-hot-encoding`\n",
        "\n",
        "- 정수 배열을 0, 1로 이루어진 vector로 변환\n",
        "    - ex. [3,5] ~> [1,1,0,0,0,....,0]\n",
        "\n",
        "- 이후 실수 vecotr data 다룰수 있는 dense layer를 첫번째 layer로 사용\n",
        "- 여기서 num_words * num_reviews 크기의 행렬이 필요하기 때문에 memory 를 많이 사용; 각 데이터마다 제각기 다른 행렬을 만들게 됨\n",
        "\n",
        "### Way02. `padding`\n",
        "\n",
        "- 정수 배열의 길이가 모두 같도록 padding 추가해 `max_length * num_reviews` 크기의 정수 tensor \n",
        "- 이후 `embedding` layer를 신경망의 첫번째 layer로 사용\n",
        "- 여기서는 이 방식을 사용\n",
        "\n",
        "```python\n",
        "keras.preprocessing.sequence.pad_sequences(\n",
        "    sequences,\n",
        "    maxlen=None, \n",
        "    dtype='int32', \n",
        "    padding='pre',          # 'pre' or 'post'\n",
        "    truncating='pre',       # 'pre' or 'post' \n",
        "    value=0.0)              # padding value\n",
        "\n",
        "  >>> sequence = [[1], [2, 3], [4, 5, 6]]\n",
        "  >>> tf.keras.preprocessing.sequence.pad_sequences(sequence)\n",
        "  array([[0, 0, 1],\n",
        "         [0, 2, 3],\n",
        "         [4, 5, 6]], dtype=int32)\n",
        "\n",
        "  >>> tf.keras.preprocessing.sequence.pad_sequences(sequence, value=-1)\n",
        "  array([[-1, -1,  1],\n",
        "         [-1,  2,  3],\n",
        "         [ 4,  5,  6]], dtype=int32)\n",
        "\n",
        "  >>> tf.keras.preprocessing.sequence.pad_sequences(sequence, padding='post')\n",
        "  array([[1, 0, 0],\n",
        "         [2, 3, 0],\n",
        "         [4, 5, 6]], dtype=int32)\n",
        "\n",
        "  >>> tf.keras.preprocessing.sequence.pad_sequences(sequence, maxlen=2)\n",
        "  array([[0, 1],\n",
        "         [2, 3],\n",
        "         [5, 6]], dtype=int32)\n",
        "\n",
        "```\n"
      ]
    },
    {
      "cell_type": "code",
      "metadata": {
        "id": "i0cvaxR8TzH9",
        "colab_type": "code",
        "colab": {}
      },
      "source": [
        "train_data = keras.preprocessing.sequence.pad_sequences(train_data,\n",
        "                                                        value = word_index['<PAD>'],\n",
        "                                                        padding = \"post\",\n",
        "                                                        maxlen = 256\n",
        "                                                        )\n",
        "\n",
        "test_data = keras.preprocessing.sequence.pad_sequences(test_data,\n",
        "                                                       value = word_index[\"<PAD>\"],\n",
        "                                                       padding = \"post\",\n",
        "                                                       maxlen = 256\n",
        "                                                       )"
      ],
      "execution_count": 0,
      "outputs": []
    },
    {
      "cell_type": "code",
      "metadata": {
        "id": "8wlMk2Qtajfa",
        "colab_type": "code",
        "colab": {
          "base_uri": "https://localhost:8080/",
          "height": 451
        },
        "outputId": "204f5a49-f3fa-4064-9338-b46f5e4bf14b"
      },
      "source": [
        "print (len (train_data[0]), len (train_data[1]), )\n",
        "train_data[0]"
      ],
      "execution_count": 46,
      "outputs": [
        {
          "output_type": "stream",
          "text": [
            "256 256\n"
          ],
          "name": "stdout"
        },
        {
          "output_type": "execute_result",
          "data": {
            "text/plain": [
              "array([   1,   14,   22,   16,   43,  530,  973, 1622, 1385,   65,  458,\n",
              "       4468,   66, 3941,    4,  173,   36,  256,    5,   25,  100,   43,\n",
              "        838,  112,   50,  670,    2,    9,   35,  480,  284,    5,  150,\n",
              "          4,  172,  112,  167,    2,  336,  385,   39,    4,  172, 4536,\n",
              "       1111,   17,  546,   38,   13,  447,    4,  192,   50,   16,    6,\n",
              "        147, 2025,   19,   14,   22,    4, 1920, 4613,  469,    4,   22,\n",
              "         71,   87,   12,   16,   43,  530,   38,   76,   15,   13, 1247,\n",
              "          4,   22,   17,  515,   17,   12,   16,  626,   18,    2,    5,\n",
              "         62,  386,   12,    8,  316,    8,  106,    5,    4, 2223, 5244,\n",
              "         16,  480,   66, 3785,   33,    4,  130,   12,   16,   38,  619,\n",
              "          5,   25,  124,   51,   36,  135,   48,   25, 1415,   33,    6,\n",
              "         22,   12,  215,   28,   77,   52,    5,   14,  407,   16,   82,\n",
              "          2,    8,    4,  107,  117, 5952,   15,  256,    4,    2,    7,\n",
              "       3766,    5,  723,   36,   71,   43,  530,  476,   26,  400,  317,\n",
              "         46,    7,    4,    2, 1029,   13,  104,   88,    4,  381,   15,\n",
              "        297,   98,   32, 2071,   56,   26,  141,    6,  194, 7486,   18,\n",
              "          4,  226,   22,   21,  134,  476,   26,  480,    5,  144,   30,\n",
              "       5535,   18,   51,   36,   28,  224,   92,   25,  104,    4,  226,\n",
              "         65,   16,   38, 1334,   88,   12,   16,  283,    5,   16, 4472,\n",
              "        113,  103,   32,   15,   16, 5345,   19,  178,   32,    0,    0,\n",
              "          0,    0,    0,    0,    0,    0,    0,    0,    0,    0,    0,\n",
              "          0,    0,    0,    0,    0,    0,    0,    0,    0,    0,    0,\n",
              "          0,    0,    0,    0,    0,    0,    0,    0,    0,    0,    0,\n",
              "          0,    0,    0], dtype=int32)"
            ]
          },
          "metadata": {
            "tags": []
          },
          "execution_count": 46
        }
      ]
    },
    {
      "cell_type": "markdown",
      "metadata": {
        "id": "krgYMgGtbsZ3",
        "colab_type": "text"
      },
      "source": [
        "### `keras.layers.Embedding`\n",
        "\n",
        "```python\n",
        "def keras.layers.Embedding(\n",
        "    input_dim, \n",
        "    output_dim, \n",
        "    embeddings_initializer='uniform', \n",
        "    embeddings_regularizer=None, \n",
        "    activity_regularizer=None, \n",
        "    embeddings_constraint=None, \n",
        "    mask_zero=False, \n",
        "    input_length=None, \n",
        "    **kwargs)\n",
        "```\n",
        "\n",
        "- 정수로 입력 받은 단어 입력 받고\n",
        "- 각 단어 index에 해당하는 embedding vector 찾음\n",
        "- vector는 훈련을 통해 학습, 출력 배열에 새로운 차원으로 추가됨\n",
        "- 최종 차원은 (batch, sequence, embedding)\n",
        "\n",
        "Turns positive integers (indexes) into dense vectors of fixed size.\n",
        "\n",
        "  e.g. `[[4], [20]] -> [[0.25, 0.1], [0.6, -0.2]]`\n",
        "\n",
        "<br />\n",
        "\n",
        "### `keras.layers.GlobalAveragePooling1D`\n",
        "\n",
        "```python\n",
        "keras.layers.GlobalAveragePooling1D(\n",
        "    data_format='channels_last', \n",
        "    **kwargs\n",
        "    )\n",
        "```\n",
        "\n",
        "- sequence 차원에 대해 평균 계산, \n",
        "- 각 sample에 대해 고정된 길이의 출력 vector 반환\n",
        "\n",
        "<br />\n",
        "\n",
        "### `keras.layers.Dense`\n",
        "\n",
        "- `keras.layers.Dense(16, activation='relu')` : 16개 은닉 유닛 가진 fully-connected dense layer\n",
        "- `keras.layers.Dense(1, activation='sigmoid')` : sigmoid 활성화 함수를 사용해 0~1 사이 실수(확률 또는 신뢰도) 출력"
      ]
    },
    {
      "cell_type": "code",
      "metadata": {
        "id": "ijgyx0MfalRM",
        "colab_type": "code",
        "colab": {
          "base_uri": "https://localhost:8080/",
          "height": 295
        },
        "outputId": "84fd50d8-e6be-463d-d636-4c8fe2847e04"
      },
      "source": [
        "max_words = 10000\n",
        "\n",
        "model = keras.Sequential()\n",
        "model.add(keras.layers.Embedding(max_words, 16, input_shape = (None,)))\n",
        "model.add(keras.layers.GlobalAveragePooling1D())\n",
        "model.add(keras.layers.Dense(16, activation='relu'))\n",
        "model.add(keras.layers.Dense(1, activation='sigmoid'))\n",
        "\n",
        "model.summary()"
      ],
      "execution_count": 48,
      "outputs": [
        {
          "output_type": "stream",
          "text": [
            "Model: \"sequential_1\"\n",
            "_________________________________________________________________\n",
            "Layer (type)                 Output Shape              Param #   \n",
            "=================================================================\n",
            "embedding_1 (Embedding)      (None, None, 16)          160000    \n",
            "_________________________________________________________________\n",
            "global_average_pooling1d_1 ( (None, 16)                0         \n",
            "_________________________________________________________________\n",
            "dense_2 (Dense)              (None, 16)                272       \n",
            "_________________________________________________________________\n",
            "dense_3 (Dense)              (None, 1)                 17        \n",
            "=================================================================\n",
            "Total params: 160,289\n",
            "Trainable params: 160,289\n",
            "Non-trainable params: 0\n",
            "_________________________________________________________________\n"
          ],
          "name": "stdout"
        }
      ]
    },
    {
      "cell_type": "markdown",
      "metadata": {
        "id": "LkHvv9ADcH5C",
        "colab_type": "text"
      },
      "source": [
        "## Compile\n",
        "\n"
      ]
    },
    {
      "cell_type": "code",
      "metadata": {
        "id": "T4CYOx3_eaIa",
        "colab_type": "code",
        "colab": {}
      },
      "source": [
        "model.compile(\n",
        "    optimizer='adam',\n",
        "    loss = 'binary_crossentropy',\n",
        "    metrics = ['accuracy']\n",
        "    )"
      ],
      "execution_count": 0,
      "outputs": []
    },
    {
      "cell_type": "markdown",
      "metadata": {
        "id": "tnQ677KzempC",
        "colab_type": "text"
      },
      "source": [
        "## Validation dataset\n",
        "\n",
        "원본 train dataset 에서 10000개 sample 떼어내어 validation set\n",
        "\n",
        "훈련 dataset만 사용해 model 개발하고 tuning"
      ]
    },
    {
      "cell_type": "code",
      "metadata": {
        "id": "POcgWyfqfGB2",
        "colab_type": "code",
        "colab": {}
      },
      "source": [
        "x_val = train_data[:10000]\n",
        "partial_x_train = train_data[10000:]\n",
        "\n",
        "y_val = train_labels[:10000]\n",
        "partial_y_train = train_labels[10000:]"
      ],
      "execution_count": 0,
      "outputs": []
    },
    {
      "cell_type": "markdown",
      "metadata": {
        "id": "KonNi0t9faXh",
        "colab_type": "text"
      },
      "source": [
        "## Training\n",
        "\n",
        "```python\n",
        "model.fit(\n",
        "    x=None, \n",
        "    y=None, \n",
        "    batch_size=None, \n",
        "    epochs=1, \n",
        "\n",
        "    # verbose: 0, 1, or 2. Verbosity mode.\n",
        "    # 0 = silent, 1 = progress bar, 2 = one line per epoch.\n",
        "    verbose=1, \n",
        "    callbacks=None, \n",
        "    validation_split=0.0, \n",
        "    validation_data=None, \n",
        "    shuffle=True, \n",
        "    class_weight=None, \n",
        "    sample_weight=None, \n",
        "    initial_epoch=0, \n",
        "    steps_per_epoch=None, \n",
        "    validation_steps=None, \n",
        "    validation_batch_size=None, \n",
        "    validation_freq=1, \n",
        "    max_queue_size=10, \n",
        "    workers=1, \n",
        "    use_multiprocessing=False, \n",
        "    **kwargs\n",
        "    )\n",
        "```\n",
        "\n",
        "- at mini-batch with 512 samples\n",
        "- 40 epochs \n",
        "- training 1번 할 때마다 validataion test 1번씩"
      ]
    },
    {
      "cell_type": "code",
      "metadata": {
        "id": "JZC82TVkgH4q",
        "colab_type": "code",
        "colab": {
          "base_uri": "https://localhost:8080/",
          "height": 1000
        },
        "outputId": "93d688c7-28eb-4c6f-b7b8-1a4fccaab81c"
      },
      "source": [
        "history = model.fit(\n",
        "    partial_x_train,    partial_y_train,\n",
        "    epochs = 40,\n",
        "    batch_size = 512,\n",
        "    validation_data = (x_val, y_val),\n",
        "    verbose = 1\n",
        ")"
      ],
      "execution_count": 52,
      "outputs": [
        {
          "output_type": "stream",
          "text": [
            "Epoch 1/40\n",
            "30/30 [==============================] - 1s 23ms/step - loss: 0.6920 - accuracy: 0.5722 - val_loss: 0.6905 - val_accuracy: 0.6332\n",
            "Epoch 2/40\n",
            "30/30 [==============================] - 1s 18ms/step - loss: 0.6878 - accuracy: 0.5993 - val_loss: 0.6846 - val_accuracy: 0.7230\n",
            "Epoch 3/40\n",
            "30/30 [==============================] - 1s 17ms/step - loss: 0.6780 - accuracy: 0.7345 - val_loss: 0.6722 - val_accuracy: 0.7084\n",
            "Epoch 4/40\n",
            "30/30 [==============================] - 1s 17ms/step - loss: 0.6607 - accuracy: 0.7541 - val_loss: 0.6519 - val_accuracy: 0.7329\n",
            "Epoch 5/40\n",
            "30/30 [==============================] - 1s 17ms/step - loss: 0.6338 - accuracy: 0.7637 - val_loss: 0.6226 - val_accuracy: 0.7641\n",
            "Epoch 6/40\n",
            "30/30 [==============================] - 1s 18ms/step - loss: 0.5970 - accuracy: 0.7979 - val_loss: 0.5858 - val_accuracy: 0.7887\n",
            "Epoch 7/40\n",
            "30/30 [==============================] - 1s 17ms/step - loss: 0.5544 - accuracy: 0.8183 - val_loss: 0.5444 - val_accuracy: 0.8090\n",
            "Epoch 8/40\n",
            "30/30 [==============================] - 1s 17ms/step - loss: 0.5070 - accuracy: 0.8367 - val_loss: 0.5030 - val_accuracy: 0.8232\n",
            "Epoch 9/40\n",
            "30/30 [==============================] - 1s 18ms/step - loss: 0.4619 - accuracy: 0.8517 - val_loss: 0.4644 - val_accuracy: 0.8371\n",
            "Epoch 10/40\n",
            "30/30 [==============================] - 1s 17ms/step - loss: 0.4217 - accuracy: 0.8651 - val_loss: 0.4305 - val_accuracy: 0.8464\n",
            "Epoch 11/40\n",
            "30/30 [==============================] - 1s 17ms/step - loss: 0.3859 - accuracy: 0.8751 - val_loss: 0.4032 - val_accuracy: 0.8537\n",
            "Epoch 12/40\n",
            "30/30 [==============================] - 1s 17ms/step - loss: 0.3556 - accuracy: 0.8841 - val_loss: 0.3802 - val_accuracy: 0.8595\n",
            "Epoch 13/40\n",
            "30/30 [==============================] - 1s 18ms/step - loss: 0.3307 - accuracy: 0.8895 - val_loss: 0.3619 - val_accuracy: 0.8658\n",
            "Epoch 14/40\n",
            "30/30 [==============================] - 1s 17ms/step - loss: 0.3087 - accuracy: 0.8943 - val_loss: 0.3477 - val_accuracy: 0.8689\n",
            "Epoch 15/40\n",
            "30/30 [==============================] - 1s 18ms/step - loss: 0.2910 - accuracy: 0.9007 - val_loss: 0.3354 - val_accuracy: 0.8729\n",
            "Epoch 16/40\n",
            "30/30 [==============================] - 1s 18ms/step - loss: 0.2743 - accuracy: 0.9049 - val_loss: 0.3253 - val_accuracy: 0.8746\n",
            "Epoch 17/40\n",
            "30/30 [==============================] - 1s 18ms/step - loss: 0.2600 - accuracy: 0.9101 - val_loss: 0.3175 - val_accuracy: 0.8763\n",
            "Epoch 18/40\n",
            "30/30 [==============================] - 1s 17ms/step - loss: 0.2477 - accuracy: 0.9127 - val_loss: 0.3107 - val_accuracy: 0.8772\n",
            "Epoch 19/40\n",
            "30/30 [==============================] - 1s 18ms/step - loss: 0.2362 - accuracy: 0.9187 - val_loss: 0.3046 - val_accuracy: 0.8798\n",
            "Epoch 20/40\n",
            "30/30 [==============================] - 1s 18ms/step - loss: 0.2252 - accuracy: 0.9217 - val_loss: 0.3003 - val_accuracy: 0.8800\n",
            "Epoch 21/40\n",
            "30/30 [==============================] - 1s 17ms/step - loss: 0.2141 - accuracy: 0.9255 - val_loss: 0.2960 - val_accuracy: 0.8820\n",
            "Epoch 22/40\n",
            "30/30 [==============================] - 1s 18ms/step - loss: 0.2041 - accuracy: 0.9296 - val_loss: 0.2932 - val_accuracy: 0.8836\n",
            "Epoch 23/40\n",
            "30/30 [==============================] - 1s 18ms/step - loss: 0.1968 - accuracy: 0.9323 - val_loss: 0.2907 - val_accuracy: 0.8844\n",
            "Epoch 24/40\n",
            "30/30 [==============================] - 1s 18ms/step - loss: 0.1879 - accuracy: 0.9352 - val_loss: 0.2893 - val_accuracy: 0.8826\n",
            "Epoch 25/40\n",
            "30/30 [==============================] - 1s 17ms/step - loss: 0.1795 - accuracy: 0.9389 - val_loss: 0.2874 - val_accuracy: 0.8847\n",
            "Epoch 26/40\n",
            "30/30 [==============================] - 1s 18ms/step - loss: 0.1738 - accuracy: 0.9437 - val_loss: 0.2863 - val_accuracy: 0.8850\n",
            "Epoch 27/40\n",
            "30/30 [==============================] - 1s 17ms/step - loss: 0.1668 - accuracy: 0.9465 - val_loss: 0.2854 - val_accuracy: 0.8855\n",
            "Epoch 28/40\n",
            "30/30 [==============================] - 1s 17ms/step - loss: 0.1599 - accuracy: 0.9493 - val_loss: 0.2854 - val_accuracy: 0.8857\n",
            "Epoch 29/40\n",
            "30/30 [==============================] - 1s 17ms/step - loss: 0.1556 - accuracy: 0.9509 - val_loss: 0.2856 - val_accuracy: 0.8837\n",
            "Epoch 30/40\n",
            "30/30 [==============================] - 1s 19ms/step - loss: 0.1497 - accuracy: 0.9543 - val_loss: 0.2868 - val_accuracy: 0.8862\n",
            "Epoch 31/40\n",
            "30/30 [==============================] - 1s 18ms/step - loss: 0.1445 - accuracy: 0.9548 - val_loss: 0.2863 - val_accuracy: 0.8867\n",
            "Epoch 32/40\n",
            "30/30 [==============================] - 1s 17ms/step - loss: 0.1384 - accuracy: 0.9582 - val_loss: 0.2873 - val_accuracy: 0.8861\n",
            "Epoch 33/40\n",
            "30/30 [==============================] - 1s 18ms/step - loss: 0.1342 - accuracy: 0.9603 - val_loss: 0.2895 - val_accuracy: 0.8844\n",
            "Epoch 34/40\n",
            "30/30 [==============================] - 1s 17ms/step - loss: 0.1281 - accuracy: 0.9619 - val_loss: 0.2906 - val_accuracy: 0.8847\n",
            "Epoch 35/40\n",
            "30/30 [==============================] - 1s 18ms/step - loss: 0.1231 - accuracy: 0.9647 - val_loss: 0.2913 - val_accuracy: 0.8859\n",
            "Epoch 36/40\n",
            "30/30 [==============================] - 1s 17ms/step - loss: 0.1194 - accuracy: 0.9665 - val_loss: 0.2939 - val_accuracy: 0.8843\n",
            "Epoch 37/40\n",
            "30/30 [==============================] - 1s 17ms/step - loss: 0.1158 - accuracy: 0.9679 - val_loss: 0.2959 - val_accuracy: 0.8837\n",
            "Epoch 38/40\n",
            "30/30 [==============================] - 1s 17ms/step - loss: 0.1127 - accuracy: 0.9684 - val_loss: 0.2972 - val_accuracy: 0.8851\n",
            "Epoch 39/40\n",
            "30/30 [==============================] - 1s 17ms/step - loss: 0.1075 - accuracy: 0.9707 - val_loss: 0.3001 - val_accuracy: 0.8835\n",
            "Epoch 40/40\n",
            "30/30 [==============================] - 1s 17ms/step - loss: 0.1034 - accuracy: 0.9723 - val_loss: 0.3022 - val_accuracy: 0.8837\n"
          ],
          "name": "stdout"
        }
      ]
    },
    {
      "cell_type": "markdown",
      "metadata": {
        "id": "yaTniao7gnoS",
        "colab_type": "text"
      },
      "source": [
        "## Evaluate model"
      ]
    },
    {
      "cell_type": "code",
      "metadata": {
        "id": "dNY5IwEph429",
        "colab_type": "code",
        "colab": {
          "base_uri": "https://localhost:8080/",
          "height": 52
        },
        "outputId": "bfcdc875-2eb3-4b49-f55d-1885243c7c6a"
      },
      "source": [
        "results = model.evaluate(test_data, test_labels, verbose=1)\n",
        "results"
      ],
      "execution_count": 55,
      "outputs": [
        {
          "output_type": "stream",
          "text": [
            "782/782 [==============================] - 1s 1ms/step - loss: 0.3219 - accuracy: 0.8738\n"
          ],
          "name": "stdout"
        },
        {
          "output_type": "execute_result",
          "data": {
            "text/plain": [
              "[0.32191553711891174, 0.8737599849700928]"
            ]
          },
          "metadata": {
            "tags": []
          },
          "execution_count": 55
        }
      ]
    },
    {
      "cell_type": "code",
      "metadata": {
        "id": "c4LX7R-yh_NW",
        "colab_type": "code",
        "colab": {}
      },
      "source": [
        "??model.evaluate"
      ],
      "execution_count": 0,
      "outputs": []
    },
    {
      "cell_type": "markdown",
      "metadata": {
        "id": "4aTzbz1Ti1w2",
        "colab_type": "text"
      },
      "source": [
        "## Graph of Accuracy and Loss\n",
        "\n",
        "위에서 `history = model.fit(...)`을 통해 훈련 과정을 dictionary 형태로 저장"
      ]
    },
    {
      "cell_type": "code",
      "metadata": {
        "id": "P2zPG14enluc",
        "colab_type": "code",
        "colab": {
          "base_uri": "https://localhost:8080/",
          "height": 34
        },
        "outputId": "67368ab1-b4a3-4779-f541-b6e817fea4b8"
      },
      "source": [
        "type(history)"
      ],
      "execution_count": 60,
      "outputs": [
        {
          "output_type": "execute_result",
          "data": {
            "text/plain": [
              "tensorflow.python.keras.callbacks.History"
            ]
          },
          "metadata": {
            "tags": []
          },
          "execution_count": 60
        }
      ]
    },
    {
      "cell_type": "code",
      "metadata": {
        "id": "ETcrnodXngl1",
        "colab_type": "code",
        "colab": {
          "base_uri": "https://localhost:8080/",
          "height": 34
        },
        "outputId": "ac130247-eeec-461e-a6b9-0817cb2b9d8a"
      },
      "source": [
        "history_dict = history.history\n",
        "history_dict.keys()"
      ],
      "execution_count": 56,
      "outputs": [
        {
          "output_type": "execute_result",
          "data": {
            "text/plain": [
              "dict_keys(['loss', 'accuracy', 'val_loss', 'val_accuracy'])"
            ]
          },
          "metadata": {
            "tags": []
          },
          "execution_count": 56
        }
      ]
    },
    {
      "cell_type": "code",
      "metadata": {
        "id": "ZEvMfyx8nzwX",
        "colab_type": "code",
        "colab": {}
      },
      "source": [
        "import matplotlib.pyplot as plt\n",
        "\n",
        "acc = history_dict['accuracy']\n",
        "val_acc = history_dict['val_accuracy']\n",
        "loss = history_dict['loss']\n",
        "val_loss = history_dict['val_loss']\n",
        "\n",
        "epochs = range(1, len(acc)+1)"
      ],
      "execution_count": 0,
      "outputs": []
    },
    {
      "cell_type": "code",
      "metadata": {
        "id": "8eKwgmWSocV8",
        "colab_type": "code",
        "colab": {
          "base_uri": "https://localhost:8080/",
          "height": 295
        },
        "outputId": "446a8255-c3c1-4141-dc34-b253f2485444"
      },
      "source": [
        "plt.plot(epochs, loss, 'bo', label = 'Training loss')\n",
        "plt.plot(epochs, val_loss, 'r', label = 'Validation loss')\n",
        "plt.title('Training and Validation Loss', fontdict={'color' : 'white'})\n",
        "plt.xlabel('Epochs')\n",
        "plt.ylabel('Loss')\n",
        "plt.legend()\n",
        "plt.show()"
      ],
      "execution_count": 64,
      "outputs": [
        {
          "output_type": "display_data",
          "data": {
            "image/png": "[encoded data removed]",
            "text/plain": [
              "<Figure size 432x288 with 1 Axes>"
            ]
          },
          "metadata": {
            "tags": [],
            "needs_background": "light"
          }
        }
      ]
    },
    {
      "cell_type": "code",
      "metadata": {
        "id": "lCzigNyEpd0L",
        "colab_type": "code",
        "colab": {
          "base_uri": "https://localhost:8080/",
          "height": 295
        },
        "outputId": "9f9ab0ea-e6e4-4f0a-8d92-e74b178cfe5b"
      },
      "source": [
        "# clear figure\n",
        "plt.clf()\n",
        "\n",
        "plt.plot(epochs, acc, 'bo', label = 'Traing Acc')\n",
        "plt.plot(epochs, val_acc, 'r', label = 'Validation Acc')\n",
        "plt.title('Training and Validation Accuracy', fontdict={'color' : 'white'})\n",
        "plt.xlabel('Epochs')\n",
        "plt.ylabel('Loss')\n",
        "plt.legend()\n",
        "plt.show()"
      ],
      "execution_count": 69,
      "outputs": [
        {
          "output_type": "display_data",
          "data": {
            "image/png": "[encoded data removed]",
            "text/plain": [
              "<Figure size 432x288 with 1 Axes>"
            ]
          },
          "metadata": {
            "tags": [],
            "needs_background": "light"
          }
        }
      ]
    },
    {
      "cell_type": "markdown",
      "metadata": {
        "id": "MHlYGnvKqrIW",
        "colab_type": "text"
      },
      "source": [
        "위의 두 차트를 통해 epoch = 20 부근에서 overfitting 발생하는 것을 알수 있음\n",
        "\n",
        "model compile에서 사용한 optimizer 가 매 훈련 반복할 때 마다 최적화 대상의 값을 최소화하기 때문\n",
        "\n",
        "\n",
        "실무적으로는,  overfitting 구간을 찾기 위해 epoch 값을 일부러 과하게 지정함"
      ]
    }
  ]
}