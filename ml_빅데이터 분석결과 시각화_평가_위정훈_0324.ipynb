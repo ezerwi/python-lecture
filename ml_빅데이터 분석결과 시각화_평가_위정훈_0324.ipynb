{
 "cells": [
  {
   "cell_type": "markdown",
   "metadata": {},
   "source": [
    "## 훈련과정 : R·파이썬 기반 빅데이터 분석 전문가 양성과정\n",
    "- 교과목 평가 : 빅데이터 분석결과 시각화\n",
    "- 성명 :\n",
    "- 점수 :"
   ]
  },
  {
   "cell_type": "markdown",
   "metadata": {},
   "source": [
    "#### Q1. 'auto-mpg.csv' 데이터셋을 df 이름으로 불러온 후 아래 사항을 수행하세요. --- (20점)\n",
    "- df.columns = ['mpg','cylinders','displacement','horsepower','weight','model year','origin','name']\n",
    "- mpg , cylinders, weight, displacement, acceleration 칼럼만을 선택해서 df_s 이름으로 저장하고 처음 5개행을 출력하세요.\n",
    "- df_s에서 mpg와 각 칼럼간의 산점도를 그리고 음의 상관관계가 있는 변수를 기술하세요."
   ]
  },
  {
   "cell_type": "markdown",
   "metadata": {},
   "source": [
    "#### Q2. df_s의 각 컬럼간의 상관관계에 대한 시각화를 아래와 같이 수행하세요.\n",
    "- 2개의 행과 2개의 열을 가진 subplots를 이용해서 표현\n",
    "- Seaborn의 regplot을 이용해 산점도와 선형 회귀 직선을 함께 표현"
   ]
  },
  {
   "cell_type": "markdown",
   "metadata": {},
   "source": [
    "#### Q3. auto_mpg.csv 파일을 df 이름으로 불러와서 horsepower열에 대한 히스토그램을 그린 후 출력하세요.\n",
    "df.columns = ['mpg','cylinders','displacement','horsepower','weight',\n",
    "              'acceleration','model year','origin','name']"
   ]
  },
  {
   "cell_type": "markdown",
   "metadata": {},
   "source": [
    "#### Q4. 아래 사항을 준수하여 막대 그래프(barplot)를 출력하세요.\n",
    "- Seaborn 제공 데이터셋 가져오기 : titanic = sns.load_dataset('titanic')\n",
    "- sns.barplot 이용\n",
    "- 스타일 테마 설정 : sns.set_style('whitegrid')\n",
    "- 그래프 객체 생성 : figure에 3개의 서브 플롯을 생성\n",
    "- x축, y축에 변수 할당 : x='sex', y='survived', data=titanic, ax=ax1\n",
    "- x축, y축에 변수 할당하고 hue 옵션 추가 : x='sex', y='survived', hue='class', data=titanic, ax=ax2\n",
    "- x축, y축에 변수 할당하고 hue 옵션을 추가하여 누적 출력 : x='sex', y='survived', hue='class', dodge=False, data=titanic, ax=ax3\n",
    "- 차트 제목 표시\\\n",
    "ax1.set_title('titanic survived - sex')\\\n",
    "ax2.set_title('titanic survived - sex/class')\\\n",
    "ax3.set_title('titanic survived - sex/class(stacked)')"
   ]
  },
  {
   "cell_type": "markdown",
   "metadata": {},
   "source": [
    "#### Q5. 아래 사항을 준수하여 빈도 그래프(countplot)를 출력하세요.\n",
    "- Seaborn 제공 데이터셋 가져오기 : titanic = sns.load_dataset('titanic')\n",
    "- sns.countplot 이용\n",
    "- 스타일 테마 설정 : sns.set_style('whitegrid')\n",
    "- 그래프 객체 생성 : figure에 3개의 서브 플롯을 생성\n",
    "- 기본값 : x='class', palette='Set1', data=titanic, ax=ax1\n",
    "- hue 옵션에 'who' 추가  : x='class', hue='who', palette='Set2', data=titanic, ax=ax2\n",
    "- dodge=False 옵션 추가 : x='class', hue='who', palette='Set3', dodge=False, data=titanic, ax=ax3\n",
    "- 차트 제목 표시\\\n",
    "ax1.set_title('titanic class')\\\n",
    "ax2.set_title('titanic class - who')\\\n",
    "ax3.set_title('titanic class - who(stacked)')"
   ]
  }
 ],
 "metadata": {
  "kernelspec": {
   "display_name": "Python 3.7.4 64-bit ('ml_python': conda)",
   "language": "python",
   "name": "python37464bitmlpythonconda8612b087dbca4cffbdb36750f6328927"
  },
  "language_info": {
   "codemirror_mode": {
    "name": "ipython",
    "version": 3
   },
   "file_extension": ".py",
   "mimetype": "text/x-python",
   "name": "python",
   "nbconvert_exporter": "python",
   "pygments_lexer": "ipython3",
   "version": "3.7.4"
  }
 },
 "nbformat": 4,
 "nbformat_minor": 2
}
