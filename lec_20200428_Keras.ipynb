{
  "nbformat": 4,
  "nbformat_minor": 0,
  "metadata": {
    "colab": {
      "name": "lec_20200428_Keras.ipynb",
      "provenance": [],
      "collapsed_sections": [],
      "authorship_tag": "ABX9TyNAMaYMVZPK9T0spzaCJJQT",
      "include_colab_link": true
    },
    "kernelspec": {
      "name": "python3",
      "display_name": "Python 3"
    }
  },
  "cells": [
    {
      "cell_type": "markdown",
      "metadata": {
        "id": "view-in-github",
        "colab_type": "text"
      },
      "source": [
        "<a href=\"https://colab.research.google.com/github/gitgitWi/python-lecture/blob/master/lec_20200428_Keras.ipynb\" target=\"_parent\"><img src=\"https://colab.research.google.com/assets/colab-badge.svg\" alt=\"Open In Colab\"/></a>"
      ]
    },
    {
      "cell_type": "markdown",
      "metadata": {
        "id": "hQHTDZ_-I875",
        "colab_type": "text"
      },
      "source": [
        "mkdate : 2020/04/28\n",
        "\n",
        "# Keras Fashion MNIST dataset\n",
        "\n",
        "1. 패션 MNIST 데이터셋 임포트  \n",
        "\n",
        "2. 데이터 탐색\n",
        "\n",
        "3. 데이터전처리\n",
        "\n",
        "4. 모델구성\n",
        "  층(레이어 설정)\n",
        "  모델 컴파일\n",
        "\n",
        "5. 모델 훈련\n",
        "\n",
        "6. 정확도 평가\n",
        "\n",
        "7. 예측만들기"
      ]
    },
    {
      "cell_type": "code",
      "metadata": {
        "id": "HfZaPnWlKOTr",
        "colab_type": "code",
        "colab": {
          "base_uri": "https://localhost:8080/",
          "height": 52
        },
        "outputId": "801c76a6-9d3d-41c9-f126-62d7017d4fe5"
      },
      "source": [
        "%load_ext autoreload\n",
        "%autoreload 2"
      ],
      "execution_count": 13,
      "outputs": [
        {
          "output_type": "stream",
          "text": [
            "The autoreload extension is already loaded. To reload it, use:\n",
            "  %reload_ext autoreload\n"
          ],
          "name": "stdout"
        }
      ]
    },
    {
      "cell_type": "code",
      "metadata": {
        "id": "pgo8t8XtKLdB",
        "colab_type": "code",
        "colab": {}
      },
      "source": [
        "import tensorflow as tf"
      ],
      "execution_count": 0,
      "outputs": []
    },
    {
      "cell_type": "code",
      "metadata": {
        "id": "r1EIWtq0KZIR",
        "colab_type": "code",
        "colab": {
          "base_uri": "https://localhost:8080/",
          "height": 34
        },
        "outputId": "f8950274-ffe6-4a7e-db41-81bbda4e2a95"
      },
      "source": [
        "from tensorflow import keras\n",
        "import numpy as np\n",
        "import matplotlib.pyplot as plt\n",
        "\n",
        "print (tf.__version__)"
      ],
      "execution_count": 2,
      "outputs": [
        {
          "output_type": "stream",
          "text": [
            "2.2.0-rc3\n"
          ],
          "name": "stdout"
        }
      ]
    },
    {
      "cell_type": "code",
      "metadata": {
        "id": "R4wx_fsDLioC",
        "colab_type": "code",
        "colab": {}
      },
      "source": [
        "fashion = keras.datasets.fashion_mnist"
      ],
      "execution_count": 0,
      "outputs": []
    },
    {
      "cell_type": "code",
      "metadata": {
        "id": "9LWBFrKALnHi",
        "colab_type": "code",
        "colab": {
          "base_uri": "https://localhost:8080/",
          "height": 176
        },
        "outputId": "a3718fce-e129-4d48-c981-414a3e4ee4f5"
      },
      "source": [
        "(train_imgs, train_labels), (test_imgs, test_labels) = fashion.load_data()"
      ],
      "execution_count": 4,
      "outputs": [
        {
          "output_type": "stream",
          "text": [
            "Downloading data from https://storage.googleapis.com/tensorflow/tf-keras-datasets/train-labels-idx1-ubyte.gz\n",
            "32768/29515 [=================================] - 0s 0us/step\n",
            "Downloading data from https://storage.googleapis.com/tensorflow/tf-keras-datasets/train-images-idx3-ubyte.gz\n",
            "26427392/26421880 [==============================] - 0s 0us/step\n",
            "Downloading data from https://storage.googleapis.com/tensorflow/tf-keras-datasets/t10k-labels-idx1-ubyte.gz\n",
            "8192/5148 [===============================================] - 0s 0us/step\n",
            "Downloading data from https://storage.googleapis.com/tensorflow/tf-keras-datasets/t10k-images-idx3-ubyte.gz\n",
            "4423680/4422102 [==============================] - 0s 0us/step\n"
          ],
          "name": "stdout"
        }
      ]
    },
    {
      "cell_type": "code",
      "metadata": {
        "id": "vxnNyPmNLueq",
        "colab_type": "code",
        "colab": {
          "base_uri": "https://localhost:8080/",
          "height": 34
        },
        "outputId": "ba64be34-7f8b-4c18-cd2f-915234ddca1b"
      },
      "source": [
        "type(train_imgs), type(train_labels)"
      ],
      "execution_count": 8,
      "outputs": [
        {
          "output_type": "execute_result",
          "data": {
            "text/plain": [
              "(numpy.ndarray, numpy.ndarray)"
            ]
          },
          "metadata": {
            "tags": []
          },
          "execution_count": 8
        }
      ]
    },
    {
      "cell_type": "code",
      "metadata": {
        "id": "pHNBi7PwOM9d",
        "colab_type": "code",
        "colab": {}
      },
      "source": [
        "class_names = ['T-shirt/top', 'Trouser','Pullover','Dress','Coat','Sandal','Shirt','Sneaker','Bag','Ankle Boot',]"
      ],
      "execution_count": 0,
      "outputs": []
    },
    {
      "cell_type": "markdown",
      "metadata": {
        "id": "28EWM4D2PXm7",
        "colab_type": "text"
      },
      "source": [
        "## data 탐색"
      ]
    },
    {
      "cell_type": "code",
      "metadata": {
        "id": "-emQRUA6MA1x",
        "colab_type": "code",
        "colab": {
          "base_uri": "https://localhost:8080/",
          "height": 34
        },
        "outputId": "a0535527-bb9f-42fb-cccb-f868379f762c"
      },
      "source": [
        "train_imgs.shape, train_labels.shape"
      ],
      "execution_count": 9,
      "outputs": [
        {
          "output_type": "execute_result",
          "data": {
            "text/plain": [
              "((60000, 28, 28), (60000,))"
            ]
          },
          "metadata": {
            "tags": []
          },
          "execution_count": 9
        }
      ]
    },
    {
      "cell_type": "code",
      "metadata": {
        "id": "9TkrdM43NtQW",
        "colab_type": "code",
        "colab": {
          "base_uri": "https://localhost:8080/",
          "height": 34
        },
        "outputId": "e44ae7ca-0587-422b-e576-f7d685833644"
      },
      "source": [
        "len(train_labels)"
      ],
      "execution_count": 25,
      "outputs": [
        {
          "output_type": "execute_result",
          "data": {
            "text/plain": [
              "60000"
            ]
          },
          "metadata": {
            "tags": []
          },
          "execution_count": 25
        }
      ]
    },
    {
      "cell_type": "code",
      "metadata": {
        "id": "dW4JcSGMQPDC",
        "colab_type": "code",
        "colab": {
          "base_uri": "https://localhost:8080/",
          "height": 52
        },
        "outputId": "76f747ee-26b6-478b-fb81-c1cf0d11c80c"
      },
      "source": [
        "train_labels[:20]"
      ],
      "execution_count": 26,
      "outputs": [
        {
          "output_type": "execute_result",
          "data": {
            "text/plain": [
              "array([9, 0, 0, 3, 0, 2, 7, 2, 5, 5, 0, 9, 5, 5, 7, 9, 1, 0, 6, 4],\n",
              "      dtype=uint8)"
            ]
          },
          "metadata": {
            "tags": []
          },
          "execution_count": 26
        }
      ]
    },
    {
      "cell_type": "code",
      "metadata": {
        "id": "Tfzlhb4QMQFL",
        "colab_type": "code",
        "colab": {
          "base_uri": "https://localhost:8080/",
          "height": 34
        },
        "outputId": "0fa14b95-ee8d-4ce4-818a-b5f60ce48e4e"
      },
      "source": [
        "test_imgs.shape, test_labels.shape"
      ],
      "execution_count": 10,
      "outputs": [
        {
          "output_type": "execute_result",
          "data": {
            "text/plain": [
              "((10000, 28, 28), (10000,))"
            ]
          },
          "metadata": {
            "tags": []
          },
          "execution_count": 10
        }
      ]
    },
    {
      "cell_type": "code",
      "metadata": {
        "id": "cQaeX31yMT0b",
        "colab_type": "code",
        "colab": {
          "base_uri": "https://localhost:8080/",
          "height": 1000
        },
        "outputId": "1a34a3b4-4686-4c21-def9-67222e88c2d3"
      },
      "source": [
        "train_imgs[0]"
      ],
      "execution_count": 11,
      "outputs": [
        {
          "output_type": "execute_result",
          "data": {
            "text/plain": [
              "array([[  0,   0,   0,   0,   0,   0,   0,   0,   0,   0,   0,   0,   0,\n",
              "          0,   0,   0,   0,   0,   0,   0,   0,   0,   0,   0,   0,   0,\n",
              "          0,   0],\n",
              "       [  0,   0,   0,   0,   0,   0,   0,   0,   0,   0,   0,   0,   0,\n",
              "          0,   0,   0,   0,   0,   0,   0,   0,   0,   0,   0,   0,   0,\n",
              "          0,   0],\n",
              "       [  0,   0,   0,   0,   0,   0,   0,   0,   0,   0,   0,   0,   0,\n",
              "          0,   0,   0,   0,   0,   0,   0,   0,   0,   0,   0,   0,   0,\n",
              "          0,   0],\n",
              "       [  0,   0,   0,   0,   0,   0,   0,   0,   0,   0,   0,   0,   1,\n",
              "          0,   0,  13,  73,   0,   0,   1,   4,   0,   0,   0,   0,   1,\n",
              "          1,   0],\n",
              "       [  0,   0,   0,   0,   0,   0,   0,   0,   0,   0,   0,   0,   3,\n",
              "          0,  36, 136, 127,  62,  54,   0,   0,   0,   1,   3,   4,   0,\n",
              "          0,   3],\n",
              "       [  0,   0,   0,   0,   0,   0,   0,   0,   0,   0,   0,   0,   6,\n",
              "          0, 102, 204, 176, 134, 144, 123,  23,   0,   0,   0,   0,  12,\n",
              "         10,   0],\n",
              "       [  0,   0,   0,   0,   0,   0,   0,   0,   0,   0,   0,   0,   0,\n",
              "          0, 155, 236, 207, 178, 107, 156, 161, 109,  64,  23,  77, 130,\n",
              "         72,  15],\n",
              "       [  0,   0,   0,   0,   0,   0,   0,   0,   0,   0,   0,   1,   0,\n",
              "         69, 207, 223, 218, 216, 216, 163, 127, 121, 122, 146, 141,  88,\n",
              "        172,  66],\n",
              "       [  0,   0,   0,   0,   0,   0,   0,   0,   0,   1,   1,   1,   0,\n",
              "        200, 232, 232, 233, 229, 223, 223, 215, 213, 164, 127, 123, 196,\n",
              "        229,   0],\n",
              "       [  0,   0,   0,   0,   0,   0,   0,   0,   0,   0,   0,   0,   0,\n",
              "        183, 225, 216, 223, 228, 235, 227, 224, 222, 224, 221, 223, 245,\n",
              "        173,   0],\n",
              "       [  0,   0,   0,   0,   0,   0,   0,   0,   0,   0,   0,   0,   0,\n",
              "        193, 228, 218, 213, 198, 180, 212, 210, 211, 213, 223, 220, 243,\n",
              "        202,   0],\n",
              "       [  0,   0,   0,   0,   0,   0,   0,   0,   0,   1,   3,   0,  12,\n",
              "        219, 220, 212, 218, 192, 169, 227, 208, 218, 224, 212, 226, 197,\n",
              "        209,  52],\n",
              "       [  0,   0,   0,   0,   0,   0,   0,   0,   0,   0,   6,   0,  99,\n",
              "        244, 222, 220, 218, 203, 198, 221, 215, 213, 222, 220, 245, 119,\n",
              "        167,  56],\n",
              "       [  0,   0,   0,   0,   0,   0,   0,   0,   0,   4,   0,   0,  55,\n",
              "        236, 228, 230, 228, 240, 232, 213, 218, 223, 234, 217, 217, 209,\n",
              "         92,   0],\n",
              "       [  0,   0,   1,   4,   6,   7,   2,   0,   0,   0,   0,   0, 237,\n",
              "        226, 217, 223, 222, 219, 222, 221, 216, 223, 229, 215, 218, 255,\n",
              "         77,   0],\n",
              "       [  0,   3,   0,   0,   0,   0,   0,   0,   0,  62, 145, 204, 228,\n",
              "        207, 213, 221, 218, 208, 211, 218, 224, 223, 219, 215, 224, 244,\n",
              "        159,   0],\n",
              "       [  0,   0,   0,   0,  18,  44,  82, 107, 189, 228, 220, 222, 217,\n",
              "        226, 200, 205, 211, 230, 224, 234, 176, 188, 250, 248, 233, 238,\n",
              "        215,   0],\n",
              "       [  0,  57, 187, 208, 224, 221, 224, 208, 204, 214, 208, 209, 200,\n",
              "        159, 245, 193, 206, 223, 255, 255, 221, 234, 221, 211, 220, 232,\n",
              "        246,   0],\n",
              "       [  3, 202, 228, 224, 221, 211, 211, 214, 205, 205, 205, 220, 240,\n",
              "         80, 150, 255, 229, 221, 188, 154, 191, 210, 204, 209, 222, 228,\n",
              "        225,   0],\n",
              "       [ 98, 233, 198, 210, 222, 229, 229, 234, 249, 220, 194, 215, 217,\n",
              "        241,  65,  73, 106, 117, 168, 219, 221, 215, 217, 223, 223, 224,\n",
              "        229,  29],\n",
              "       [ 75, 204, 212, 204, 193, 205, 211, 225, 216, 185, 197, 206, 198,\n",
              "        213, 240, 195, 227, 245, 239, 223, 218, 212, 209, 222, 220, 221,\n",
              "        230,  67],\n",
              "       [ 48, 203, 183, 194, 213, 197, 185, 190, 194, 192, 202, 214, 219,\n",
              "        221, 220, 236, 225, 216, 199, 206, 186, 181, 177, 172, 181, 205,\n",
              "        206, 115],\n",
              "       [  0, 122, 219, 193, 179, 171, 183, 196, 204, 210, 213, 207, 211,\n",
              "        210, 200, 196, 194, 191, 195, 191, 198, 192, 176, 156, 167, 177,\n",
              "        210,  92],\n",
              "       [  0,   0,  74, 189, 212, 191, 175, 172, 175, 181, 185, 188, 189,\n",
              "        188, 193, 198, 204, 209, 210, 210, 211, 188, 188, 194, 192, 216,\n",
              "        170,   0],\n",
              "       [  2,   0,   0,   0,  66, 200, 222, 237, 239, 242, 246, 243, 244,\n",
              "        221, 220, 193, 191, 179, 182, 182, 181, 176, 166, 168,  99,  58,\n",
              "          0,   0],\n",
              "       [  0,   0,   0,   0,   0,   0,   0,  40,  61,  44,  72,  41,  35,\n",
              "          0,   0,   0,   0,   0,   0,   0,   0,   0,   0,   0,   0,   0,\n",
              "          0,   0],\n",
              "       [  0,   0,   0,   0,   0,   0,   0,   0,   0,   0,   0,   0,   0,\n",
              "          0,   0,   0,   0,   0,   0,   0,   0,   0,   0,   0,   0,   0,\n",
              "          0,   0],\n",
              "       [  0,   0,   0,   0,   0,   0,   0,   0,   0,   0,   0,   0,   0,\n",
              "          0,   0,   0,   0,   0,   0,   0,   0,   0,   0,   0,   0,   0,\n",
              "          0,   0]], dtype=uint8)"
            ]
          },
          "metadata": {
            "tags": []
          },
          "execution_count": 11
        }
      ]
    },
    {
      "cell_type": "code",
      "metadata": {
        "id": "wFDfUXLqMYky",
        "colab_type": "code",
        "colab": {
          "base_uri": "https://localhost:8080/",
          "height": 34
        },
        "outputId": "b815bc09-2cc4-44c5-fb8d-ec562b691625"
      },
      "source": [
        "test_labels[0]"
      ],
      "execution_count": 12,
      "outputs": [
        {
          "output_type": "execute_result",
          "data": {
            "text/plain": [
              "9"
            ]
          },
          "metadata": {
            "tags": []
          },
          "execution_count": 12
        }
      ]
    },
    {
      "cell_type": "code",
      "metadata": {
        "id": "zaiaSdnsMjIK",
        "colab_type": "code",
        "colab": {
          "base_uri": "https://localhost:8080/",
          "height": 34
        },
        "outputId": "42cfae23-c2a9-4687-c76d-13a4fe739da7"
      },
      "source": [
        "np.unique(test_labels)"
      ],
      "execution_count": 15,
      "outputs": [
        {
          "output_type": "execute_result",
          "data": {
            "text/plain": [
              "array([0, 1, 2, 3, 4, 5, 6, 7, 8, 9], dtype=uint8)"
            ]
          },
          "metadata": {
            "tags": []
          },
          "execution_count": 15
        }
      ]
    },
    {
      "cell_type": "code",
      "metadata": {
        "id": "sJsShYePOleN",
        "colab_type": "code",
        "colab": {}
      },
      "source": [
        "??np.bincount"
      ],
      "execution_count": 0,
      "outputs": []
    },
    {
      "cell_type": "code",
      "metadata": {
        "id": "NiFH4hdaM9ES",
        "colab_type": "code",
        "colab": {
          "base_uri": "https://localhost:8080/",
          "height": 34
        },
        "outputId": "8f664b56-1300-46dc-e710-27925557dd1c"
      },
      "source": [
        "np.bincount(test_labels)"
      ],
      "execution_count": 16,
      "outputs": [
        {
          "output_type": "execute_result",
          "data": {
            "text/plain": [
              "array([1000, 1000, 1000, 1000, 1000, 1000, 1000, 1000, 1000, 1000])"
            ]
          },
          "metadata": {
            "tags": []
          },
          "execution_count": 16
        }
      ]
    },
    {
      "cell_type": "code",
      "metadata": {
        "id": "xNLHSm1jNnFS",
        "colab_type": "code",
        "colab": {
          "base_uri": "https://localhost:8080/",
          "height": 191
        },
        "outputId": "ab6af256-ea7c-4e0a-9114-cfb977f93351"
      },
      "source": [
        "list(zip (np.unique(test_labels), np.bincount(test_labels)))"
      ],
      "execution_count": 24,
      "outputs": [
        {
          "output_type": "execute_result",
          "data": {
            "text/plain": [
              "[(0, 1000),\n",
              " (1, 1000),\n",
              " (2, 1000),\n",
              " (3, 1000),\n",
              " (4, 1000),\n",
              " (5, 1000),\n",
              " (6, 1000),\n",
              " (7, 1000),\n",
              " (8, 1000),\n",
              " (9, 1000)]"
            ]
          },
          "metadata": {
            "tags": []
          },
          "execution_count": 24
        }
      ]
    },
    {
      "cell_type": "code",
      "metadata": {
        "id": "tUKkJORMP7lD",
        "colab_type": "code",
        "colab": {
          "base_uri": "https://localhost:8080/",
          "height": 265
        },
        "outputId": "dde5d985-9e6d-4af8-a9a2-dac7ea4f02e5"
      },
      "source": [
        "plt.figure()\n",
        "plt.imshow(train_imgs[0])\n",
        "plt.colorbar()\n",
        "plt.grid(False)\n",
        "plt.show()"
      ],
      "execution_count": 27,
      "outputs": [
        {
          "output_type": "display_data",
          "data": {
            "image/png": "[encoded data removed]",
            "text/plain": [
              "<Figure size 432x288 with 2 Axes>"
            ]
          },
          "metadata": {
            "tags": [],
            "needs_background": "light"
          }
        }
      ]
    },
    {
      "cell_type": "code",
      "metadata": {
        "id": "k6P_GI8bUvwi",
        "colab_type": "code",
        "colab": {
          "base_uri": "https://localhost:8080/",
          "height": 282
        },
        "outputId": "ba6b6c38-bb3f-4781-ed5f-3566a82c9db2"
      },
      "source": [
        "plt.figure()\n",
        "x = np.random.randint(60000)\n",
        "print (f\"x == {x}\")\n",
        "plt.imshow(train_imgs[x])\n",
        "plt.colorbar()\n",
        "plt.grid(False)\n",
        "plt.show()"
      ],
      "execution_count": 41,
      "outputs": [
        {
          "output_type": "stream",
          "text": [
            "x == 21128\n"
          ],
          "name": "stdout"
        },
        {
          "output_type": "display_data",
          "data": {
            "image/png": "[encoded data removed]",
            "text/plain": [
              "<Figure size 432x288 with 2 Axes>"
            ]
          },
          "metadata": {
            "tags": [],
            "needs_background": "light"
          }
        }
      ]
    },
    {
      "cell_type": "code",
      "metadata": {
        "id": "FHjy3WjYUz67",
        "colab_type": "code",
        "colab": {}
      },
      "source": [
        "??plt.imshow"
      ],
      "execution_count": 0,
      "outputs": []
    },
    {
      "cell_type": "markdown",
      "metadata": {
        "id": "ewoPFlwxVK-L",
        "colab_type": "text"
      },
      "source": [
        "신경망 model 에 주입전 값의 범위를 0~1 사이로 조정, 이렇게 하려면 255로 나눠야 함\n",
        "\n",
        "train_set과 test_set를 동일한 방식으로 전처리"
      ]
    },
    {
      "cell_type": "code",
      "metadata": {
        "id": "UyUjXJCuWD58",
        "colab_type": "code",
        "colab": {}
      },
      "source": [
        "train_imgs = train_imgs / 255.0\n",
        "test_imgs = test_imgs / 255.0"
      ],
      "execution_count": 0,
      "outputs": []
    },
    {
      "cell_type": "code",
      "metadata": {
        "id": "ncFufgIEWL-K",
        "colab_type": "code",
        "colab": {
          "base_uri": "https://localhost:8080/",
          "height": 286
        },
        "outputId": "60ae704a-3504-4387-e5f2-3262f1f2a352"
      },
      "source": [
        "plt.figure()\n",
        "x = np.random.randint(60000)\n",
        "print (f\"x == {x}\")\n",
        "plt.imshow(train_imgs[x])\n",
        "plt.colorbar()\n",
        "plt.grid(False)\n",
        "plt.show()"
      ],
      "execution_count": 45,
      "outputs": [
        {
          "output_type": "stream",
          "text": [
            "x == 52142\n"
          ],
          "name": "stdout"
        },
        {
          "output_type": "display_data",
          "data": {
            "image/png": "[encoded data removed]",
            "text/plain": [
              "<Figure size 432x288 with 2 Axes>"
            ]
          },
          "metadata": {
            "tags": [],
            "needs_background": "light"
          }
        }
      ]
    },
    {
      "cell_type": "code",
      "metadata": {
        "id": "0aDVA0uhWdPX",
        "colab_type": "code",
        "colab": {
          "base_uri": "https://localhost:8080/",
          "height": 589
        },
        "outputId": "36654210-aa7e-4198-9192-e1464eb97b33"
      },
      "source": [
        "plt.figure(figsize = (10,10))\n",
        "for i in range(25) :\n",
        "    plt.subplot(5, 5, i+1)\n",
        "    plt.xticks([])\n",
        "    plt.yticks([])\n",
        "    plt.grid(False)\n",
        "    plt.imshow(train_imgs[i], cmap=plt.cm.binary)\n",
        "    plt.xlabel(class_names[train_labels[i]])\n",
        "plt.show()"
      ],
      "execution_count": 46,
      "outputs": [
        {
          "output_type": "display_data",
          "data": {
            "image/png": "[encoded data removed]",
            "text/plain": [
              "<Figure size 720x720 with 25 Axes>"
            ]
          },
          "metadata": {
            "tags": []
          }
        }
      ]
    },
    {
      "cell_type": "markdown",
      "metadata": {
        "id": "ltZ1szLAW4WV",
        "colab_type": "text"
      },
      "source": [
        "## 모델 구성\n",
        "\n",
        "신경망 모델을 만들려면 모델의 층을 구성한 다음 model을 compile해야 함\n",
        "\n",
        "### Layer\n",
        "\n",
        "신경망 기본 구성 요소\n",
        "\n",
        "layer는 주입된 data에서 표현을 추출\n",
        "\n",
        "`tr.keras.layers.Dense`와 같은 layers의 parameter는 훈련하는 동안..\n",
        "\n",
        "#### `Flatten`\n",
        "\n",
        "- 다차원 배열을 1차원 배열로 전환\n",
        "- 학습되는 가중치X, reshape하는 기능만\n",
        "\n",
        "#### `Dense`\n",
        "- densely-connected layer 또는 fully-connected layer\n",
        "\n",
        "\n"
      ]
    },
    {
      "cell_type": "code",
      "metadata": {
        "id": "H_ETD0yVaQBr",
        "colab_type": "code",
        "colab": {}
      },
      "source": [
        "??keras.layers.Flatten"
      ],
      "execution_count": 0,
      "outputs": []
    },
    {
      "cell_type": "code",
      "metadata": {
        "id": "2QjEbs5AaicU",
        "colab_type": "code",
        "colab": {}
      },
      "source": [
        "??keras.layers.Dense"
      ],
      "execution_count": 0,
      "outputs": []
    },
    {
      "cell_type": "markdown",
      "metadata": {
        "id": "rL4Rq29iam-N",
        "colab_type": "text"
      },
      "source": [
        "Just your regular densely-connected NN layer.\n",
        "\n",
        "`Dense` implements the operation:\n",
        "\n",
        "`output = activation(dot(input, kernel) + bias)` where `activation` is the element-wise activation function passed as the `activation` argument, `kernel` is a weights matrix created by the layer, and `bias` is a bias vector created by the layer (only applicable if `use_bias` is `True`).\n",
        "\n",
        "```python\n",
        "keras.layers.Dense(self,\n",
        "               units,  # number of nodes/nueron\n",
        "               activation=None,  \n",
        "               use_bias=True,\n",
        "               kernel_initializer='glorot_uniform',\n",
        "               bias_initializer='zeros',\n",
        "               kernel_regularizer=None,\n",
        "               bias_regularizer=None,\n",
        "               activity_regularizer=None,\n",
        "               kernel_constraint=None,\n",
        "               bias_constraint=None,\n",
        "               **kwargs)\n",
        "```               \n",
        "\n",
        "activations\n",
        "- 'softmax' : n개의 확률 반환, 반환된 값의 전체 합은 1"
      ]
    },
    {
      "cell_type": "code",
      "metadata": {
        "id": "gVSw3_jwZIps",
        "colab_type": "code",
        "colab": {
          "base_uri": "https://localhost:8080/",
          "height": 34
        },
        "outputId": "4a217f42-bdf5-43d9-9d48-84d1dceffb00"
      },
      "source": [
        "model = keras.Sequential([\n",
        "                          \n",
        "                          keras.layers.Flatten(input_shape = (28,28)),\n",
        "                          keras.layers.Dense(128, activation='relu'),\n",
        "                          keras.layers.Dense(10, activation='softmax')\n",
        "])\n",
        "model"
      ],
      "execution_count": 49,
      "outputs": [
        {
          "output_type": "execute_result",
          "data": {
            "text/plain": [
              "<tensorflow.python.keras.engine.sequential.Sequential at 0x7fb603bee400>"
            ]
          },
          "metadata": {
            "tags": []
          },
          "execution_count": 49
        }
      ]
    },
    {
      "cell_type": "markdown",
      "metadata": {
        "id": "2w3gHgMxZawV",
        "colab_type": "text"
      },
      "source": [
        "## Model Compile"
      ]
    },
    {
      "cell_type": "code",
      "metadata": {
        "id": "Fw3vWUZrcp7c",
        "colab_type": "code",
        "colab": {}
      },
      "source": [
        "??keras.Sequential.compile"
      ],
      "execution_count": 0,
      "outputs": []
    },
    {
      "cell_type": "markdown",
      "metadata": {
        "id": "h4tomDrfcxNl",
        "colab_type": "text"
      },
      "source": [
        "```python\n",
        "keras.Sequential.compile(\n",
        "    optimizer='rmsprop',   # \n",
        "    loss=None, \n",
        "    metrics=None, \n",
        "    loss_weights=None, \n",
        "    sample_weight_mode=None, \n",
        "    weighted_metrics=None, \n",
        "    **kwargs)\n",
        "```"
      ]
    },
    {
      "cell_type": "markdown",
      "metadata": {
        "id": "k2T63jr_cKer",
        "colab_type": "text"
      },
      "source": [
        "- `loss` : 훈련 중 model의 오차 측정, model 학습이 올바른 방향으로 향하도록 이 함수를 최소화 해야 함\n",
        "- `optimizer` : data와 loss function을 바탕으로 model update하는 방법\n",
        "- `metrics` : train 단계와 test 단계를 monitoring하는 지표\n"
      ]
    },
    {
      "cell_type": "code",
      "metadata": {
        "id": "9yHdTxk_dGf9",
        "colab_type": "code",
        "colab": {}
      },
      "source": [
        "model.compile(optimizer='adam',\n",
        "              loss = 'sparse_categorical_crossentropy',\n",
        "              metrics=['accuracy'])"
      ],
      "execution_count": 0,
      "outputs": []
    },
    {
      "cell_type": "markdown",
      "metadata": {
        "id": "Z57zC9H4djC8",
        "colab_type": "text"
      },
      "source": [
        "## Model Training\n",
        "\n",
        "### 신경망 모델 훈련 단계\n",
        "\n",
        "- 훈련 data 주입\n",
        "- learning mapping of images and lables\n",
        "- test set 에 대한 예측 모델 생성, \n",
        "\n",
        "```python\n",
        "keras.Sequential.fit(x=None, \n",
        "    y=None, \n",
        "    batch_size=None, \n",
        "    epochs=1, \n",
        "    verbose=1, \n",
        "    callbacks=None, \n",
        "    validation_split=0.0,\n",
        "    validation_data=None, \n",
        "    shuffle=True, \n",
        "    class_weight=None, \n",
        "    sample_weight=None, \n",
        "    initial_epoch=0, \n",
        "    steps_per_epoch=None, \n",
        "    validation_steps=None, \n",
        "    validation_batch_size=None, \n",
        "    validation_freq=1, \n",
        "    max_queue_size=10, \n",
        "    workers=1, \n",
        "    use_multiprocessing=False, \n",
        "    **kwargs)\n",
        "```"
      ]
    },
    {
      "cell_type": "code",
      "metadata": {
        "id": "Oc90eOC5ea4y",
        "colab_type": "code",
        "colab": {}
      },
      "source": [
        "??keras.Sequential.fit"
      ],
      "execution_count": 0,
      "outputs": []
    },
    {
      "cell_type": "code",
      "metadata": {
        "id": "kzI6ejQhd2Ft",
        "colab_type": "code",
        "colab": {
          "base_uri": "https://localhost:8080/",
          "height": 208
        },
        "outputId": "e8de1601-be3a-484c-b22b-6cec88a046f3"
      },
      "source": [
        "model.fit(train_imgs, train_labels, epochs=5)"
      ],
      "execution_count": 57,
      "outputs": [
        {
          "output_type": "stream",
          "text": [
            "Epoch 1/5\n",
            "1875/1875 [==============================] - 4s 2ms/step - loss: 0.4998 - accuracy: 0.8238\n",
            "Epoch 2/5\n",
            "1875/1875 [==============================] - 4s 2ms/step - loss: 0.3756 - accuracy: 0.8640\n",
            "Epoch 3/5\n",
            "1875/1875 [==============================] - 4s 2ms/step - loss: 0.3377 - accuracy: 0.8767\n",
            "Epoch 4/5\n",
            "1875/1875 [==============================] - 4s 2ms/step - loss: 0.3100 - accuracy: 0.8862\n",
            "Epoch 5/5\n",
            "1875/1875 [==============================] - 4s 2ms/step - loss: 0.2929 - accuracy: 0.8922\n"
          ],
          "name": "stdout"
        },
        {
          "output_type": "execute_result",
          "data": {
            "text/plain": [
              "<tensorflow.python.keras.callbacks.History at 0x7fb603e3b3c8>"
            ]
          },
          "metadata": {
            "tags": []
          },
          "execution_count": 57
        }
      ]
    },
    {
      "cell_type": "markdown",
      "metadata": {
        "id": "mtS17pzqehsg",
        "colab_type": "text"
      },
      "source": [
        "Model 성능 비교"
      ]
    },
    {
      "cell_type": "markdown",
      "metadata": {
        "id": "6Nk99mk2jSyJ",
        "colab_type": "text"
      },
      "source": [
        "```python\n",
        "keras.Sequential.evaluate(x=None,\n",
        "    y=None, \n",
        "    batch_size=None, \n",
        "\n",
        "    # verbose: 0 or 1. Verbosity mode. 0 = silent, 1 = progress bar.\n",
        "    verbose=1,\n",
        "    sample_weight=None, \n",
        "    steps=None, \n",
        "    callbacks=None, \n",
        "    max_queue_size=10, \n",
        "    workers=1, \n",
        "    use_multiprocessing=False, \n",
        "    return_dict=False)\n",
        "```"
      ]
    },
    {
      "cell_type": "code",
      "metadata": {
        "id": "orekCt0jjPx_",
        "colab_type": "code",
        "colab": {}
      },
      "source": [
        "??keras.Sequential.evaluate"
      ],
      "execution_count": 0,
      "outputs": []
    },
    {
      "cell_type": "code",
      "metadata": {
        "id": "aMRa0HyejFmD",
        "colab_type": "code",
        "colab": {
          "base_uri": "https://localhost:8080/",
          "height": 52
        },
        "outputId": "c06b3dcf-46ad-490b-a3f3-36ae0d953737"
      },
      "source": [
        "test_loss, test_acc = model.evaluate(test_imgs, test_labels, verbose= 1)\n",
        "\n",
        "print (f'Test Accuracy = {test_acc}')"
      ],
      "execution_count": 61,
      "outputs": [
        {
          "output_type": "stream",
          "text": [
            "313/313 [==============================] - 0s 1ms/step - loss: 0.3521 - accuracy: 0.8738\n",
            "Test Accuracy = 0.8737999796867371\n"
          ],
          "name": "stdout"
        }
      ]
    },
    {
      "cell_type": "markdown",
      "metadata": {
        "id": "L_hUF0oIjxJN",
        "colab_type": "text"
      },
      "source": [
        "test set 의 정확도가 train_set의 정확도보다 조금 낮음 :반복훈련에 의해 overfitting 발생한 것"
      ]
    },
    {
      "cell_type": "markdown",
      "metadata": {
        "id": "oI7JylUtj7Dl",
        "colab_type": "text"
      },
      "source": [
        "## Prediction"
      ]
    },
    {
      "cell_type": "code",
      "metadata": {
        "id": "BqiMxQcwknU-",
        "colab_type": "code",
        "colab": {}
      },
      "source": [
        "prediction = model.predict(test_imgs)"
      ],
      "execution_count": 0,
      "outputs": []
    },
    {
      "cell_type": "markdown",
      "metadata": {
        "id": "7BMLVFZPktiv",
        "colab_type": "text"
      },
      "source": [
        "위에서 softmax를 통해 10개의 확률을 만들었기 때문에 prediction에 10개 각각의 확률에 대한 정보 저장"
      ]
    },
    {
      "cell_type": "code",
      "metadata": {
        "id": "2yWz_VCekrUK",
        "colab_type": "code",
        "colab": {
          "base_uri": "https://localhost:8080/",
          "height": 69
        },
        "outputId": "e841ca3d-a7c9-46e9-d9f1-0fcfa55d0001"
      },
      "source": [
        "prediction[0]"
      ],
      "execution_count": 63,
      "outputs": [
        {
          "output_type": "execute_result",
          "data": {
            "text/plain": [
              "array([1.66897171e-05, 7.04028622e-08, 4.49850995e-06, 3.07594490e-07,\n",
              "       1.10589335e-05, 6.32192660e-03, 2.78392727e-05, 1.37443408e-01,\n",
              "       1.41241544e-05, 8.56160104e-01], dtype=float32)"
            ]
          },
          "metadata": {
            "tags": []
          },
          "execution_count": 63
        }
      ]
    },
    {
      "cell_type": "code",
      "metadata": {
        "id": "8Do2BNgjk-Lc",
        "colab_type": "code",
        "colab": {
          "base_uri": "https://localhost:8080/",
          "height": 69
        },
        "outputId": "fe3aa92b-bb7b-4613-f254-d13113f1ebb5"
      },
      "source": [
        "prediction[np.random.randint(10000)]"
      ],
      "execution_count": 65,
      "outputs": [
        {
          "output_type": "execute_result",
          "data": {
            "text/plain": [
              "array([7.5619243e-07, 4.2561037e-12, 2.4351085e-08, 6.5776022e-12,\n",
              "       3.5001815e-08, 9.9999595e-01, 4.4214637e-08, 5.9150966e-07,\n",
              "       1.9292075e-07, 2.4690089e-06], dtype=float32)"
            ]
          },
          "metadata": {
            "tags": []
          },
          "execution_count": 65
        }
      ]
    },
    {
      "cell_type": "code",
      "metadata": {
        "id": "necnTeiRlJPU",
        "colab_type": "code",
        "colab": {
          "base_uri": "https://localhost:8080/",
          "height": 34
        },
        "outputId": "5edeead5-102b-4434-f13f-6f73e807a0b6"
      },
      "source": [
        "np.argmax(prediction[0])"
      ],
      "execution_count": 66,
      "outputs": [
        {
          "output_type": "execute_result",
          "data": {
            "text/plain": [
              "9"
            ]
          },
          "metadata": {
            "tags": []
          },
          "execution_count": 66
        }
      ]
    },
    {
      "cell_type": "code",
      "metadata": {
        "id": "grJTmc-GlYC-",
        "colab_type": "code",
        "colab": {
          "base_uri": "https://localhost:8080/",
          "height": 424
        },
        "outputId": "886715a1-3e97-426d-ff1d-84bb4e73980d"
      },
      "source": [
        "x = np.random.randint(10000)\n",
        "xp = prediction[x]\n",
        "print (f\"random test img == {x}\\n{xp}\\npredicted\\t== ({np.argmax(xp)}, {class_names[np.argmax(xp)]})\\\n",
        "\\ntrue\\t\\t== ({test_labels[x]}, {class_names[test_labels[x]]}) \")\n",
        "\n",
        "# np.argmax(xp)\n",
        "\n",
        "plt.figure(figsize=(5,5))\n",
        "plt.imshow(test_imgs[x])\n",
        "plt.show()"
      ],
      "execution_count": 110,
      "outputs": [
        {
          "output_type": "stream",
          "text": [
            "random test img == 2867\n",
            "[1.92617383e-02 1.04923965e-03 1.34485930e-01 3.83665115e-02\n",
            " 1.41296402e-01 8.13152510e-05 6.63500488e-01 1.11123256e-04\n",
            " 1.35031505e-03 4.96887660e-04]\n",
            "predicted\t== (6, Shirt)\n",
            "true\t\t== (6, Shirt) \n"
          ],
          "name": "stdout"
        },
        {
          "output_type": "display_data",
          "data": {
            "image/png": "[encoded data removed]",
            "text/plain": [
              "<Figure size 360x360 with 1 Axes>"
            ]
          },
          "metadata": {
            "tags": [],
            "needs_background": "light"
          }
        }
      ]
    },
    {
      "cell_type": "code",
      "metadata": {
        "id": "FyBo_s9SlfVv",
        "colab_type": "code",
        "colab": {}
      },
      "source": [
        "def plot_image(i, predictions_array, true_label, img) :\n",
        "    predictions_array, true_label, img = predictions_array[i], true_label[i], img[i]\n",
        "    plt.grid(False)\n",
        "    plt.xticks([])\n",
        "    plt.yticks([])\n",
        "\n",
        "    plt.imshow(img, cmap=plt.cm.binary)\n",
        "\n",
        "    predicted_label = np.argmax(predictions_array)\n",
        "    if predicted_label == true_label: color = 'blue'\n",
        "    else : color = 'red'\n",
        "\n",
        "    plt.xlabel(f\"{class_names[predicted_label]} {100*np.max(predictions_array):.2f}% {class_names[true_label]}\", color = color)"
      ],
      "execution_count": 0,
      "outputs": []
    },
    {
      "cell_type": "code",
      "metadata": {
        "id": "qA1grOVNnnHf",
        "colab_type": "code",
        "colab": {}
      },
      "source": [
        "def plot_value_array(i, predictions_array, true_label) :\n",
        "    predictions_array, true_label = predictions_array[i], true_label[i]\n",
        "    plt.grid(False)\n",
        "    plt.xticks([])\n",
        "    plt.yticks([])\n",
        "    thisplot = plt.bar(range(10), predictions_array, color = '#777777')\n",
        "    plt.ylim([0,1])\n",
        "    predicted_label = np.argmax(predictions_array)\n",
        "\n",
        "    thisplot[predicted_label].set_color('red')\n",
        "    thisplot[true_label].set_color('blue')"
      ],
      "execution_count": 0,
      "outputs": []
    },
    {
      "cell_type": "code",
      "metadata": {
        "id": "j070cIusoScf",
        "colab_type": "code",
        "colab": {
          "base_uri": "https://localhost:8080/",
          "height": 214
        },
        "outputId": "930a3360-a299-4a64-9979-9267d0f6d191"
      },
      "source": [
        "i = 0\n",
        "plt.figure(figsize = (6,3))\n",
        "plt.subplot(1,2,1)\n",
        "plot_image(i, prediction, test_labels, test_imgs)\n",
        "plt.subplot(1,2,2,)\n",
        "plot_value_array(i, prediction,  test_labels)\n",
        "plt.show()"
      ],
      "execution_count": 122,
      "outputs": [
        {
          "output_type": "display_data",
          "data": {
            "image/png": "[encoded data removed]",
            "text/plain": [
              "<Figure size 432x216 with 2 Axes>"
            ]
          },
          "metadata": {
            "tags": []
          }
        }
      ]
    },
    {
      "cell_type": "code",
      "metadata": {
        "id": "qL5hpj6ypsM0",
        "colab_type": "code",
        "colab": {
          "base_uri": "https://localhost:8080/",
          "height": 582
        },
        "outputId": "6b18e269-1278-4cd8-ad67-3151d4a20d71"
      },
      "source": [
        "rows, cols = 5, 3\n",
        "num_imgs = rows * cols\n",
        "plt.figure(figsize = (2*2*cols, 2*rows))\n",
        "for i in range(num_imgs) :\n",
        "    x = np.random.randint(10000)\n",
        "    plt.subplot(rows, 2*cols, 2*i+1)\n",
        "    plot_image(x, prediction, test_labels, test_imgs)\n",
        "    plt.subplot(rows, 2*cols, 2*i+2)\n",
        "    plot_value_array(x, prediction, test_labels)\n",
        "plt.show()"
      ],
      "execution_count": 151,
      "outputs": [
        {
          "output_type": "display_data",
          "data": {
            "image/png": "[encoded data removed]",
            "text/plain": [
              "<Figure size 864x720 with 30 Axes>"
            ]
          },
          "metadata": {
            "tags": []
          }
        }
      ]
    },
    {
      "cell_type": "markdown",
      "metadata": {
        "id": "WTF5GSm8rXmW",
        "colab_type": "text"
      },
      "source": [
        "## Predict New Data\n",
        "\n",
        "test_set에서 임의로 하나만 뽑아 신규 data로 가정하고 예측\n",
        "\n",
        "원래는 아예 새로운 사진을 가져와서 예측해야 함"
      ]
    },
    {
      "cell_type": "code",
      "metadata": {
        "id": "xiiDTOJwvz3X",
        "colab_type": "code",
        "colab": {
          "base_uri": "https://localhost:8080/",
          "height": 300
        },
        "outputId": "3f2c8823-ceef-4b3e-ff68-7e432168f1f4"
      },
      "source": [
        "x = np.random.randint(10000); print (x)\n",
        "img1 = test_imgs[x]\n",
        "print (img1.shape)\n",
        "\n",
        "plt.figure(figsize=(4,4))\n",
        "plt.imshow(img1)\n",
        "plt.show()"
      ],
      "execution_count": 152,
      "outputs": [
        {
          "output_type": "stream",
          "text": [
            "8153\n",
            "(28, 28)\n"
          ],
          "name": "stdout"
        },
        {
          "output_type": "display_data",
          "data": {
            "image/png": "[encoded data removed]",
            "text/plain": [
              "<Figure size 288x288 with 1 Axes>"
            ]
          },
          "metadata": {
            "tags": [],
            "needs_background": "light"
          }
        }
      ]
    },
    {
      "cell_type": "markdown",
      "metadata": {
        "id": "khVVaZdywlJ_",
        "colab_type": "text"
      },
      "source": [
        "Batch : bundle of samples\n",
        "\n",
        "make data to batch for model"
      ]
    },
    {
      "cell_type": "code",
      "metadata": {
        "id": "6oYcgrfMv7A-",
        "colab_type": "code",
        "colab": {}
      },
      "source": [
        "img_batch = np.expand_dims(img1, 0)"
      ],
      "execution_count": 0,
      "outputs": []
    },
    {
      "cell_type": "code",
      "metadata": {
        "id": "L_KRGAw4wh75",
        "colab_type": "code",
        "colab": {
          "base_uri": "https://localhost:8080/",
          "height": 34
        },
        "outputId": "51eac677-0a06-4685-f322-76fdc8e0c82e"
      },
      "source": [
        "img_batch.shape"
      ],
      "execution_count": 135,
      "outputs": [
        {
          "output_type": "execute_result",
          "data": {
            "text/plain": [
              "(1, 28, 28)"
            ]
          },
          "metadata": {
            "tags": []
          },
          "execution_count": 135
        }
      ]
    },
    {
      "cell_type": "code",
      "metadata": {
        "id": "Hy2BRnguwi-Y",
        "colab_type": "code",
        "colab": {
          "base_uri": "https://localhost:8080/",
          "height": 69
        },
        "outputId": "781672cc-750c-4e51-8c60-9b4312675c22"
      },
      "source": [
        "pred_single = model.predict(img_batch)\n",
        "pred_single"
      ],
      "execution_count": 154,
      "outputs": [
        {
          "output_type": "execute_result",
          "data": {
            "text/plain": [
              "array([[1.3092129e-01, 1.3684234e-04, 3.4934322e-03, 3.2389255e-03,\n",
              "        4.5545284e-02, 1.7849197e-05, 8.1656992e-01, 4.1716908e-06,\n",
              "        6.4289074e-05, 8.0017780e-06]], dtype=float32)"
            ]
          },
          "metadata": {
            "tags": []
          },
          "execution_count": 154
        }
      ]
    },
    {
      "cell_type": "code",
      "metadata": {
        "id": "Fn_SDLCvw7ho",
        "colab_type": "code",
        "colab": {
          "base_uri": "https://localhost:8080/",
          "height": 301
        },
        "outputId": "750455a8-4c3d-4f9d-fe8e-32d269dd32c5"
      },
      "source": [
        "plot_value_array(0, pred_single, test_labels)\n",
        "_ = plt.xticks(range(10), class_names, rotation = 45)"
      ],
      "execution_count": 155,
      "outputs": [
        {
          "output_type": "display_data",
          "data": {
            "image/png": "[encoded data removed]",
            "text/plain": [
              "<Figure size 432x288 with 1 Axes>"
            ]
          },
          "metadata": {
            "tags": [],
            "needs_background": "light"
          }
        }
      ]
    }
  ]
}